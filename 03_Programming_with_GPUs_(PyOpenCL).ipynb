{
  "cells": [
    {
      "cell_type": "markdown",
      "metadata": {
        "id": "WKtFN9sfDviZ"
      },
      "source": [
        "# PyOpenCL\n",
        "\n",
        "You can program on GPUs using two main frameworks: (1) Cuda and (2) OpenCL. In a sense, these frameworks is a set of instructions to communate with the GPU and these frameworks have been implemented in many languages like Java and Python. Note, these are not the only frameworks but are the main ones.\n",
        "\n",
        "Cuda is specifically for Nvidia GPUs, while OpenCL can be used for general GPUs. Due the speciality, Cuda tends to have a slight advantage over OpenCL. In fact, some games have special optimizations for Nvidia GPUs.\n",
        "\n",
        "Cuda and OpenCL have slightly different syntaxes but are fundamentally the same. Note that Cupy is written in Cuda."
      ]
    },
    {
      "cell_type": "code",
      "execution_count": 9,
      "metadata": {
        "id": "n9_SV0-OINL9"
      },
      "outputs": [],
      "source": [
        "# For some reason we need this to install pyopencl on Colab\n",
        "import locale\n",
        "def getpreferredencoding(do_setlocale=True):\n",
        "    return \"UTF-8\"\n",
        "locale.getpreferredencoding = getpreferredencoding"
      ]
    },
    {
      "cell_type": "code",
      "execution_count": 10,
      "metadata": {
        "colab": {
          "base_uri": "https://localhost:8080/"
        },
        "id": "N-Rzh0j9GzlJ",
        "outputId": "c20fb772-8896-4d25-e1ec-690f4c5267a5"
      },
      "outputs": [
        {
          "name": "stdout",
          "output_type": "stream",
          "text": [
            "Requirement already satisfied: pyopencl in c:\\users\\will\\appdata\\local\\packages\\pythonsoftwarefoundation.python.3.10_qbz5n2kfra8p0\\localcache\\local-packages\\python310\\site-packages (2022.3.1)\n",
            "Requirement already satisfied: numpy in c:\\users\\will\\appdata\\local\\packages\\pythonsoftwarefoundation.python.3.10_qbz5n2kfra8p0\\localcache\\local-packages\\python310\\site-packages (from pyopencl) (1.23.4)\n",
            "Requirement already satisfied: pytools>=2021.2.7 in c:\\users\\will\\appdata\\local\\packages\\pythonsoftwarefoundation.python.3.10_qbz5n2kfra8p0\\localcache\\local-packages\\python310\\site-packages (from pyopencl) (2022.1.14)\n",
            "Requirement already satisfied: platformdirs>=2.2.0 in c:\\users\\will\\appdata\\local\\packages\\pythonsoftwarefoundation.python.3.10_qbz5n2kfra8p0\\localcache\\local-packages\\python310\\site-packages (from pyopencl) (3.1.1)\n",
            "Requirement already satisfied: typing_extensions>=4.0 in c:\\users\\will\\appdata\\local\\packages\\pythonsoftwarefoundation.python.3.10_qbz5n2kfra8p0\\localcache\\local-packages\\python310\\site-packages (from pytools>=2021.2.7->pyopencl) (4.5.0)\n"
          ]
        }
      ],
      "source": [
        "!pip install pyopencl"
      ]
    },
    {
      "cell_type": "code",
      "execution_count": 11,
      "metadata": {
        "id": "ZqC7XwUpfFzp"
      },
      "outputs": [],
      "source": [
        "import numpy as np\n",
        "import matplotlib.pyplot as plt\n",
        "\n",
        "import pyopencl as cl"
      ]
    },
    {
      "cell_type": "code",
      "execution_count": 12,
      "metadata": {
        "colab": {
          "base_uri": "https://localhost:8080/"
        },
        "id": "Db_EgpvdGyn-",
        "outputId": "550c411b-9feb-49f2-9797-089c19127109"
      },
      "outputs": [
        {
          "data": {
            "text/plain": [
              "[<pyopencl.Platform 'Intel(R) OpenCL HD Graphics' at 0x1142ebec7c0>,\n",
              " <pyopencl.Platform 'Intel(R) OpenCL HD Graphics' at 0x1143027cd10>]"
            ]
          },
          "execution_count": 12,
          "metadata": {},
          "output_type": "execute_result"
        }
      ],
      "source": [
        "cl.get_platforms()"
      ]
    },
    {
      "cell_type": "code",
      "execution_count": 13,
      "metadata": {
        "colab": {
          "base_uri": "https://localhost:8080/"
        },
        "id": "GD4DF6xwIXTj",
        "outputId": "cc03940e-730a-46e7-f655-26af67d2cab5"
      },
      "outputs": [
        {
          "data": {
            "text/plain": [
              "[[<pyopencl.Device 'Intel(R) Iris(R) Xe Graphics' on 'Intel(R) OpenCL HD Graphics' at 0x1142ea59b60>],\n",
              " [<pyopencl.Device 'Intel(R) Iris(R) Xe MAX Graphics' on 'Intel(R) OpenCL HD Graphics' at 0x1142ea58e60>]]"
            ]
          },
          "execution_count": 13,
          "metadata": {},
          "output_type": "execute_result"
        }
      ],
      "source": [
        "[platform.get_devices() for platform in cl.get_platforms()]"
      ]
    },
    {
      "cell_type": "code",
      "execution_count": 14,
      "metadata": {
        "colab": {
          "base_uri": "https://localhost:8080/"
        },
        "id": "KtEMoE64Ibt1",
        "outputId": "6b7955ae-3480-4064-b8e6-206a5ebd39ea"
      },
      "outputs": [
        {
          "name": "stdout",
          "output_type": "stream",
          "text": [
            "Name: Intel(R) Iris(R) Xe Graphics\n",
            "Global Memory: 6.29327392578125 GB\n",
            "Global Cache: 1024.0 KB\n",
            "Local Memory: 64.0 KB\n",
            "Compute Units: 96\n",
            "Work Group Size: 256\n",
            "Name: Intel(R) Iris(R) Xe MAX Graphics\n",
            "Global Memory: 3.1218719482421875 GB\n",
            "Global Cache: 16384.0 KB\n",
            "Local Memory: 64.0 KB\n",
            "Compute Units: 96\n",
            "Work Group Size: 256\n"
          ]
        }
      ],
      "source": [
        "for platform in cl.get_platforms():\n",
        "    for device in platform.get_devices():\n",
        "        print(f\"Name: {device.name}\")\n",
        "        print(f\"Global Memory: {device.global_mem_size / 2**30} GB\")\n",
        "        print(f\"Global Cache: {device.global_mem_cache_size / 2**10} KB\")\n",
        "        print(f\"Local Memory: {device.local_mem_size / 2**10} KB\")\n",
        "        print(f\"Compute Units: {device.max_compute_units}\")\n",
        "        print(f\"Work Group Size: {device.max_work_group_size}\")"
      ]
    },
    {
      "cell_type": "markdown",
      "metadata": {
        "id": "OjQHks717Pt1"
      },
      "source": [
        "# GPU Memory\n",
        "\n",
        "Everything you do in Python, all the variables and datasets in Numpy, is stored in the CPU memory. However, the GPU memory is not shared with the CPU, so data must be sent from the CPU to the GPU. This typically is the major bottleneck of using GPUs, so you want to reduce the amount of data you want to send and receive from the CPU. More than that, the code that you want to run on the GPU must be 'programmed' on the GPU before it can be run.\n",
        "\n",
        "Similarly, if you have multiple GPUs sending things to and from GPUs is also very expensive. So you can have instances where using two GPUs takes longer than using only one."
      ]
    },
    {
      "cell_type": "markdown",
      "metadata": {
        "id": "qC0hgcog1fSq"
      },
      "source": [
        "# Context and Queues\n",
        "\n",
        "Context and queues are how you build and run things on the GPU.\n",
        "\n",
        "A context is a namespace you want your programs and variables to live. Programs and variables in different contexts cannot see each other and cannot be added together. Using programs with different namespaces as your variables will also raise an error. You can think of the context as the memory shared and not with memory associated with another context.\n",
        "\n",
        "Once the programs have been loaded and built in the context, we use queues to submit our jobs (known as events). Notably, submitting to the queue is performed asynchronously - once you submit your job to the queue, OpenCL will not wait for the job to finish, and the rest of your code will continue to run. This will only be an issue if the future code depends on the values of the previous code. In this case, you can wait for the job to finish before continuing on."
      ]
    },
    {
      "cell_type": "code",
      "execution_count": 15,
      "metadata": {
        "id": "yxZLTXDNQ9V-"
      },
      "outputs": [],
      "source": [
        "import pyopencl.array as cl_array\n",
        "import numpy as np\n",
        "\n",
        "import time"
      ]
    },
    {
      "cell_type": "code",
      "execution_count": 16,
      "metadata": {
        "id": "NCvFozTQvMrL"
      },
      "outputs": [],
      "source": [
        "platform = cl.get_platforms()\n",
        "devices = platform[0].get_devices()"
      ]
    },
    {
      "cell_type": "code",
      "execution_count": 17,
      "metadata": {
        "id": "m5zFemFlQ6Fw"
      },
      "outputs": [],
      "source": [
        "context = cl.Context(devices)\n",
        "queue = cl.CommandQueue(context)"
      ]
    },
    {
      "cell_type": "code",
      "execution_count": 18,
      "metadata": {
        "id": "hEkAxEKu2nkS"
      },
      "outputs": [],
      "source": [
        "queue2 = cl.CommandQueue(context)"
      ]
    },
    {
      "cell_type": "code",
      "execution_count": 19,
      "metadata": {
        "id": "vzXr3slc1ZZB"
      },
      "outputs": [
        {
          "name": "stdout",
          "output_type": "stream",
          "text": [
            "[0.9965842  0.68383    0.44153908 ... 0.07874991 0.6782253  0.40646616]\n"
          ]
        }
      ],
      "source": [
        "x = np.random.rand(10_000).astype(np.float32)\n",
        "y = np.random.rand(10_000).astype(np.float32)\n",
        "\n",
        "# Send data to the gpu\n",
        "x_gpu = cl_array.to_device(queue, x)\n",
        "y_gpu = cl_array.to_device(queue, y)"
      ]
    },
    {
      "cell_type": "code",
      "execution_count": 25,
      "metadata": {
        "id": "wfBwzur31_f_"
      },
      "outputs": [
        {
          "name": "stderr",
          "output_type": "stream",
          "text": [
            "C:\\Users\\Will\\AppData\\Local\\Packages\\PythonSoftwareFoundation.Python.3.10_qbz5n2kfra8p0\\LocalCache\\local-packages\\Python310\\site-packages\\pyopencl\\array.py:1222: DoubleDowncastWarning: The operation you requested would result in a double-precisision quantity according to numpy semantics. Since your device does not support double precision, a single-precision quantity is being returned.\n",
            "  result = _get_broadcasted_binary_op_result(self, other, self.queue)\n"
          ]
        },
        {
          "ename": "RuntimeError",
          "evalue": "clBuildProgram failed: BUILD_PROGRAM_FAILURE - clBuildProgram failed: BUILD_PROGRAM_FAILURE - clBuildProgram failed: BUILD_PROGRAM_FAILURE\n\nBuild on <pyopencl.Device 'Intel(R) Iris(R) Xe Graphics' on 'Intel(R) OpenCL HD Graphics' at 0x1142ea59b60>:\n\n3:12:89: error: use of type 'double' requires cl_khr_fp64 extension to be enabled\n        __kernel void axpbyz(__global float *z__base, long z__offset, float a, __global double *x__base, long x__offset, float b, __global float *y__base, long y__offset, long n)\n                                                                                        ^\n3:20:10: error: use of type 'double' requires cl_khr_fp64 extension to be enabled\n__global double *x = (__global double *) ((__global char *) x__base + x__offset);\n         ^\n3:20:32: error: use of type 'double' requires cl_khr_fp64 extension to be enabled\n__global double *x = (__global double *) ((__global char *) x__base + x__offset);\n                               ^\n\n(options: -I C:\\Users\\Will\\AppData\\Local\\Packages\\PythonSoftwareFoundation.Python.3.10_qbz5n2kfra8p0\\LocalCache\\local-packages\\Python310\\site-packages\\pyopencl\\cl)\n(source saved as C:\\Users\\Will\\AppData\\Local\\Temp\\tmpk0resupa.cl)",
          "output_type": "error",
          "traceback": [
            "\u001b[1;31m---------------------------------------------------------------------------\u001b[0m",
            "\u001b[1;31mKeyError\u001b[0m                                  Traceback (most recent call last)",
            "File \u001b[1;32m~\\AppData\\Local\\Packages\\PythonSoftwareFoundation.Python.3.10_qbz5n2kfra8p0\\LocalCache\\local-packages\\Python310\\site-packages\\pyopencl\\tools.py:487\u001b[0m, in \u001b[0;36mfirst_arg_dependent_memoize.<locals>.wrapper\u001b[1;34m(cl_object, *args, **kwargs)\u001b[0m\n\u001b[0;32m    486\u001b[0m \u001b[39mtry\u001b[39;00m:\n\u001b[1;32m--> 487\u001b[0m     \u001b[39mreturn\u001b[39;00m ctx_dict[cl_object][cache_key]\n\u001b[0;32m    488\u001b[0m \u001b[39mexcept\u001b[39;00m \u001b[39mKeyError\u001b[39;00m:\n",
            "\u001b[1;31mKeyError\u001b[0m: ((dtype('float64'), dtype('float32'), dtype('float32')), frozenset({('x_is_scalar', False), ('y_is_scalar', False)}))",
            "\nDuring handling of the above exception, another exception occurred:\n",
            "\u001b[1;31mRuntimeError\u001b[0m                              Traceback (most recent call last)",
            "\u001b[1;32mc:\\Users\\Will\\Documents\\Uni\\RSCAM\\RSCAM-Group-Project-\\03_Programming_with_GPUs_(PyOpenCL).ipynb Cell 15\u001b[0m in \u001b[0;36m2\n\u001b[0;32m      <a href='vscode-notebook-cell:/c%3A/Users/Will/Documents/Uni/RSCAM/RSCAM-Group-Project-/03_Programming_with_GPUs_%28PyOpenCL%29.ipynb#X20sZmlsZQ%3D%3D?line=0'>1</a>\u001b[0m \u001b[39m# Perform addition on the gpu\u001b[39;00m\n\u001b[1;32m----> <a href='vscode-notebook-cell:/c%3A/Users/Will/Documents/Uni/RSCAM/RSCAM-Group-Project-/03_Programming_with_GPUs_%28PyOpenCL%29.ipynb#X20sZmlsZQ%3D%3D?line=1'>2</a>\u001b[0m out \u001b[39m=\u001b[39m x_gpu \u001b[39m+\u001b[39;49m y_gpu\n\u001b[0;32m      <a href='vscode-notebook-cell:/c%3A/Users/Will/Documents/Uni/RSCAM/RSCAM-Group-Project-/03_Programming_with_GPUs_%28PyOpenCL%29.ipynb#X20sZmlsZQ%3D%3D?line=3'>4</a>\u001b[0m \u001b[39mprint\u001b[39m(x, y, out)\n",
            "File \u001b[1;32m~\\AppData\\Local\\Packages\\PythonSoftwareFoundation.Python.3.10_qbz5n2kfra8p0\\LocalCache\\local-packages\\Python310\\site-packages\\pyopencl\\array.py:1224\u001b[0m, in \u001b[0;36mArray.__add__\u001b[1;34m(self, other)\u001b[0m\n\u001b[0;32m   1221\u001b[0m \u001b[39mif\u001b[39;00m \u001b[39misinstance\u001b[39m(other, Array):\n\u001b[0;32m   1222\u001b[0m     result \u001b[39m=\u001b[39m _get_broadcasted_binary_op_result(\u001b[39mself\u001b[39m, other, \u001b[39mself\u001b[39m\u001b[39m.\u001b[39mqueue)\n\u001b[0;32m   1223\u001b[0m     result\u001b[39m.\u001b[39madd_event(\n\u001b[1;32m-> 1224\u001b[0m             \u001b[39mself\u001b[39;49m\u001b[39m.\u001b[39;49m_axpbyz(result,\n\u001b[0;32m   1225\u001b[0m                 \u001b[39mself\u001b[39;49m\u001b[39m.\u001b[39;49mdtype\u001b[39m.\u001b[39;49mtype(\u001b[39m1\u001b[39;49m), \u001b[39mself\u001b[39;49m,\n\u001b[0;32m   1226\u001b[0m                 other\u001b[39m.\u001b[39;49mdtype\u001b[39m.\u001b[39;49mtype(\u001b[39m1\u001b[39;49m), other))\n\u001b[0;32m   1228\u001b[0m     \u001b[39mreturn\u001b[39;00m result\n\u001b[0;32m   1229\u001b[0m \u001b[39melif\u001b[39;00m np\u001b[39m.\u001b[39misscalar(other):\n",
            "File \u001b[1;32m~\\AppData\\Local\\Packages\\PythonSoftwareFoundation.Python.3.10_qbz5n2kfra8p0\\LocalCache\\local-packages\\Python310\\site-packages\\pyopencl\\array.py:285\u001b[0m, in \u001b[0;36melwise_kernel_runner.<locals>.kernel_runner\u001b[1;34m(out, *args, **kwargs)\u001b[0m\n\u001b[0;32m    281\u001b[0m     queue \u001b[39m=\u001b[39m out\u001b[39m.\u001b[39mqueue\n\u001b[0;32m    283\u001b[0m \u001b[39massert\u001b[39;00m queue \u001b[39mis\u001b[39;00m \u001b[39mnot\u001b[39;00m \u001b[39mNone\u001b[39;00m\n\u001b[1;32m--> 285\u001b[0m knl \u001b[39m=\u001b[39m kernel_getter(out, \u001b[39m*\u001b[39margs, \u001b[39m*\u001b[39m\u001b[39m*\u001b[39mkwargs)\n\u001b[0;32m    286\u001b[0m work_group_info \u001b[39m=\u001b[39m knl\u001b[39m.\u001b[39mget_work_group_info(\n\u001b[0;32m    287\u001b[0m     cl\u001b[39m.\u001b[39mkernel_work_group_info\u001b[39m.\u001b[39mWORK_GROUP_SIZE,\n\u001b[0;32m    288\u001b[0m     queue\u001b[39m.\u001b[39mdevice)\n\u001b[0;32m    289\u001b[0m gs, ls \u001b[39m=\u001b[39m out\u001b[39m.\u001b[39m_get_sizes(queue, work_group_info)\n",
            "File \u001b[1;32m~\\AppData\\Local\\Packages\\PythonSoftwareFoundation.Python.3.10_qbz5n2kfra8p0\\LocalCache\\local-packages\\Python310\\site-packages\\pyopencl\\array.py:1010\u001b[0m, in \u001b[0;36mArray._axpbyz\u001b[1;34m(out, afac, a, bfac, b, queue)\u001b[0m\n\u001b[0;32m   1006\u001b[0m out_shape \u001b[39m=\u001b[39m out\u001b[39m.\u001b[39mshape\n\u001b[0;32m   1007\u001b[0m \u001b[39massert\u001b[39;00m (a_shape \u001b[39m==\u001b[39m b_shape \u001b[39m==\u001b[39m out_shape\n\u001b[0;32m   1008\u001b[0m         \u001b[39mor\u001b[39;00m (a_shape \u001b[39m==\u001b[39m () \u001b[39mand\u001b[39;00m b_shape \u001b[39m==\u001b[39m out_shape)\n\u001b[0;32m   1009\u001b[0m         \u001b[39mor\u001b[39;00m (b_shape \u001b[39m==\u001b[39m () \u001b[39mand\u001b[39;00m a_shape \u001b[39m==\u001b[39m out_shape))\n\u001b[1;32m-> 1010\u001b[0m \u001b[39mreturn\u001b[39;00m elementwise\u001b[39m.\u001b[39;49mget_axpbyz_kernel(\n\u001b[0;32m   1011\u001b[0m         out\u001b[39m.\u001b[39;49mcontext, a\u001b[39m.\u001b[39;49mdtype, b\u001b[39m.\u001b[39;49mdtype, out\u001b[39m.\u001b[39;49mdtype,\n\u001b[0;32m   1012\u001b[0m         x_is_scalar\u001b[39m=\u001b[39;49m(a_shape \u001b[39m==\u001b[39;49m ()),\n\u001b[0;32m   1013\u001b[0m         y_is_scalar\u001b[39m=\u001b[39;49m(b_shape \u001b[39m==\u001b[39;49m ()))\n",
            "File \u001b[1;32m~\\AppData\\Local\\Packages\\PythonSoftwareFoundation.Python.3.10_qbz5n2kfra8p0\\LocalCache\\local-packages\\Python310\\site-packages\\pyopencl\\tools.py:490\u001b[0m, in \u001b[0;36mfirst_arg_dependent_memoize.<locals>.wrapper\u001b[1;34m(cl_object, *args, **kwargs)\u001b[0m\n\u001b[0;32m    488\u001b[0m \u001b[39mexcept\u001b[39;00m \u001b[39mKeyError\u001b[39;00m:\n\u001b[0;32m    489\u001b[0m     arg_dict \u001b[39m=\u001b[39m ctx_dict\u001b[39m.\u001b[39msetdefault(cl_object, {})\n\u001b[1;32m--> 490\u001b[0m     result \u001b[39m=\u001b[39m func(cl_object, \u001b[39m*\u001b[39margs, \u001b[39m*\u001b[39m\u001b[39m*\u001b[39mkwargs)\n\u001b[0;32m    491\u001b[0m     arg_dict[cache_key] \u001b[39m=\u001b[39m result\n\u001b[0;32m    492\u001b[0m     \u001b[39mreturn\u001b[39;00m result\n",
            "File \u001b[1;32m~\\AppData\\Local\\Packages\\PythonSoftwareFoundation.Python.3.10_qbz5n2kfra8p0\\LocalCache\\local-packages\\Python310\\site-packages\\pyopencl\\elementwise.py:590\u001b[0m, in \u001b[0;36mget_axpbyz_kernel\u001b[1;34m(context, dtype_x, dtype_y, dtype_z, x_is_scalar, y_is_scalar)\u001b[0m\n\u001b[0;32m    586\u001b[0m     by \u001b[39m=\u001b[39m \u001b[39mf\u001b[39m\u001b[39m\"\u001b[39m\u001b[39mb*((\u001b[39m\u001b[39m{\u001b[39;00mresult_t\u001b[39m}\u001b[39;00m\u001b[39m) \u001b[39m\u001b[39m{\u001b[39;00my\u001b[39m}\u001b[39;00m\u001b[39m)\u001b[39m\u001b[39m\"\u001b[39m\n\u001b[0;32m    588\u001b[0m     result \u001b[39m=\u001b[39m \u001b[39mf\u001b[39m\u001b[39m\"\u001b[39m\u001b[39m{\u001b[39;00max\u001b[39m}\u001b[39;00m\u001b[39m + \u001b[39m\u001b[39m{\u001b[39;00mby\u001b[39m}\u001b[39;00m\u001b[39m\"\u001b[39m\n\u001b[1;32m--> 590\u001b[0m \u001b[39mreturn\u001b[39;00m get_elwise_kernel(context,\n\u001b[0;32m    591\u001b[0m         \u001b[39m\"\u001b[39;49m\u001b[39m{tp_z}\u001b[39;49;00m\u001b[39m *z, \u001b[39;49m\u001b[39m{tp_z}\u001b[39;49;00m\u001b[39m a, \u001b[39;49m\u001b[39m{tp_x}\u001b[39;49;00m\u001b[39m *x, \u001b[39;49m\u001b[39m{tp_z}\u001b[39;49;00m\u001b[39m b, \u001b[39;49m\u001b[39m{tp_y}\u001b[39;49;00m\u001b[39m *y\u001b[39;49m\u001b[39m\"\u001b[39;49m\u001b[39m.\u001b[39;49mformat(\n\u001b[0;32m    592\u001b[0m             tp_x\u001b[39m=\u001b[39;49mdtype_to_ctype(dtype_x),\n\u001b[0;32m    593\u001b[0m             tp_y\u001b[39m=\u001b[39;49mdtype_to_ctype(dtype_y),\n\u001b[0;32m    594\u001b[0m             tp_z\u001b[39m=\u001b[39;49mdtype_to_ctype(dtype_z),\n\u001b[0;32m    595\u001b[0m             ),\n\u001b[0;32m    596\u001b[0m         \u001b[39mf\u001b[39;49m\u001b[39m\"\u001b[39;49m\u001b[39mz[i] = \u001b[39;49m\u001b[39m{\u001b[39;49;00mresult\u001b[39m}\u001b[39;49;00m\u001b[39m\"\u001b[39;49m,\n\u001b[0;32m    597\u001b[0m         name\u001b[39m=\u001b[39;49m\u001b[39m\"\u001b[39;49m\u001b[39maxpbyz\u001b[39;49m\u001b[39m\"\u001b[39;49m)\n",
            "File \u001b[1;32m~\\AppData\\Local\\Packages\\PythonSoftwareFoundation.Python.3.10_qbz5n2kfra8p0\\LocalCache\\local-packages\\Python310\\site-packages\\pyopencl\\elementwise.py:193\u001b[0m, in \u001b[0;36mget_elwise_kernel\u001b[1;34m(context, arguments, operation, name, options, **kwargs)\u001b[0m\n\u001b[0;32m    184\u001b[0m \u001b[39mdef\u001b[39;00m \u001b[39mget_elwise_kernel\u001b[39m(\n\u001b[0;32m    185\u001b[0m         context: cl\u001b[39m.\u001b[39mContext,\n\u001b[0;32m    186\u001b[0m         arguments: Union[\u001b[39mstr\u001b[39m, List[DtypedArgument]],\n\u001b[0;32m    187\u001b[0m         operation: \u001b[39mstr\u001b[39m, \u001b[39m*\u001b[39m,\n\u001b[0;32m    188\u001b[0m         name: \u001b[39mstr\u001b[39m \u001b[39m=\u001b[39m \u001b[39m\"\u001b[39m\u001b[39melwise_kernel\u001b[39m\u001b[39m\"\u001b[39m,\n\u001b[0;32m    189\u001b[0m         options: Any \u001b[39m=\u001b[39m \u001b[39mNone\u001b[39;00m, \u001b[39m*\u001b[39m\u001b[39m*\u001b[39mkwargs: Any) \u001b[39m-\u001b[39m\u001b[39m>\u001b[39m cl\u001b[39m.\u001b[39mKernel:\n\u001b[0;32m    190\u001b[0m     \u001b[39m\"\"\"Return a L{pyopencl.Kernel} that performs the same scalar operation\u001b[39;00m\n\u001b[0;32m    191\u001b[0m \u001b[39m    on one or several vectors.\u001b[39;00m\n\u001b[0;32m    192\u001b[0m \u001b[39m    \"\"\"\u001b[39;00m\n\u001b[1;32m--> 193\u001b[0m     func, arguments \u001b[39m=\u001b[39m get_elwise_kernel_and_types(\n\u001b[0;32m    194\u001b[0m         context, arguments, operation,\n\u001b[0;32m    195\u001b[0m         name\u001b[39m=\u001b[39mname, options\u001b[39m=\u001b[39moptions, \u001b[39m*\u001b[39m\u001b[39m*\u001b[39mkwargs)\n\u001b[0;32m    197\u001b[0m     \u001b[39mreturn\u001b[39;00m func\n",
            "File \u001b[1;32m~\\AppData\\Local\\Packages\\PythonSoftwareFoundation.Python.3.10_qbz5n2kfra8p0\\LocalCache\\local-packages\\Python310\\site-packages\\pyopencl\\elementwise.py:171\u001b[0m, in \u001b[0;36mget_elwise_kernel_and_types\u001b[1;34m(context, arguments, operation, name, options, preamble, use_range, **kwargs)\u001b[0m\n\u001b[0;32m    169\u001b[0m loop_prep \u001b[39m=\u001b[39m kwargs\u001b[39m.\u001b[39mpop(\u001b[39m\"\u001b[39m\u001b[39mloop_prep\u001b[39m\u001b[39m\"\u001b[39m, \u001b[39m\"\u001b[39m\u001b[39m\"\u001b[39m)\n\u001b[0;32m    170\u001b[0m loop_prep \u001b[39m=\u001b[39m get_arg_offset_adjuster_code(parsed_args) \u001b[39m+\u001b[39m loop_prep\n\u001b[1;32m--> 171\u001b[0m prg \u001b[39m=\u001b[39m get_elwise_program(\n\u001b[0;32m    172\u001b[0m     context, parsed_args, operation,\n\u001b[0;32m    173\u001b[0m     name\u001b[39m=\u001b[39mname, options\u001b[39m=\u001b[39moptions, preamble\u001b[39m=\u001b[39mpreamble,\n\u001b[0;32m    174\u001b[0m     use_range\u001b[39m=\u001b[39muse_range, loop_prep\u001b[39m=\u001b[39mloop_prep, \u001b[39m*\u001b[39m\u001b[39m*\u001b[39mkwargs)\n\u001b[0;32m    176\u001b[0m \u001b[39mfrom\u001b[39;00m \u001b[39mpyopencl\u001b[39;00m\u001b[39m.\u001b[39;00m\u001b[39mtools\u001b[39;00m \u001b[39mimport\u001b[39;00m get_arg_list_arg_types\n\u001b[0;32m    178\u001b[0m kernel \u001b[39m=\u001b[39m \u001b[39mgetattr\u001b[39m(prg, name)\n",
            "File \u001b[1;32m~\\AppData\\Local\\Packages\\PythonSoftwareFoundation.Python.3.10_qbz5n2kfra8p0\\LocalCache\\local-packages\\Python310\\site-packages\\pyopencl\\elementwise.py:118\u001b[0m, in \u001b[0;36mget_elwise_program\u001b[1;34m(context, arguments, operation, name, options, preamble, loop_prep, after_loop, use_range)\u001b[0m\n\u001b[0;32m     88\u001b[0m     warn(\u001b[39m\"\u001b[39m\u001b[39mUsing a \u001b[39m\u001b[39m'\u001b[39m\u001b[39mreturn\u001b[39m\u001b[39m'\u001b[39m\u001b[39m statement in an element-wise operation will \u001b[39m\u001b[39m\"\u001b[39m\n\u001b[0;32m     89\u001b[0m             \u001b[39m\"\u001b[39m\u001b[39mlikely lead to incorrect results. Use \u001b[39m\u001b[39m\"\u001b[39m\n\u001b[0;32m     90\u001b[0m             \u001b[39m\"\u001b[39m\u001b[39mPYOPENCL_ELWISE_CONTINUE instead.\u001b[39m\u001b[39m\"\u001b[39m,\n\u001b[0;32m     91\u001b[0m             stacklevel\u001b[39m=\u001b[39m\u001b[39m3\u001b[39m)\n\u001b[0;32m     93\u001b[0m source \u001b[39m=\u001b[39m (\u001b[39m\"\"\"\u001b[39m\u001b[39m//CL//\u001b[39m\n\u001b[0;32m     94\u001b[0m \u001b[39m    \u001b[39m\u001b[39m{preamble}\u001b[39;00m\n\u001b[0;32m     95\u001b[0m \n\u001b[1;32m   (...)\u001b[0m\n\u001b[0;32m    115\u001b[0m         body\u001b[39m=\u001b[39mbody \u001b[39m%\u001b[39m \u001b[39mdict\u001b[39m(operation\u001b[39m=\u001b[39moperation),\n\u001b[0;32m    116\u001b[0m         ))\n\u001b[1;32m--> 118\u001b[0m \u001b[39mreturn\u001b[39;00m cl\u001b[39m.\u001b[39;49mProgram(context, source)\u001b[39m.\u001b[39;49mbuild(options)\n",
            "File \u001b[1;32m~\\AppData\\Local\\Packages\\PythonSoftwareFoundation.Python.3.10_qbz5n2kfra8p0\\LocalCache\\local-packages\\Python310\\site-packages\\pyopencl\\__init__.py:532\u001b[0m, in \u001b[0;36mProgram.build\u001b[1;34m(self, options, devices, cache_dir)\u001b[0m\n\u001b[0;32m    528\u001b[0m \u001b[39melse\u001b[39;00m:\n\u001b[0;32m    529\u001b[0m     \u001b[39m# cached\u001b[39;00m\n\u001b[0;32m    531\u001b[0m     \u001b[39mfrom\u001b[39;00m \u001b[39mpyopencl\u001b[39;00m\u001b[39m.\u001b[39;00m\u001b[39mcache\u001b[39;00m \u001b[39mimport\u001b[39;00m create_built_program_from_source_cached\n\u001b[1;32m--> 532\u001b[0m     \u001b[39mself\u001b[39m\u001b[39m.\u001b[39m_prg, was_cached \u001b[39m=\u001b[39m \u001b[39mself\u001b[39;49m\u001b[39m.\u001b[39;49m_build_and_catch_errors(\n\u001b[0;32m    533\u001b[0m             \u001b[39mlambda\u001b[39;49;00m: create_built_program_from_source_cached(\n\u001b[0;32m    534\u001b[0m                 \u001b[39mself\u001b[39;49m\u001b[39m.\u001b[39;49m_context, \u001b[39mself\u001b[39;49m\u001b[39m.\u001b[39;49m_source, options_bytes, devices,\n\u001b[0;32m    535\u001b[0m                 cache_dir\u001b[39m=\u001b[39;49mcache_dir, include_path\u001b[39m=\u001b[39;49minclude_path),\n\u001b[0;32m    536\u001b[0m             options_bytes\u001b[39m=\u001b[39;49moptions_bytes, source\u001b[39m=\u001b[39;49m\u001b[39mself\u001b[39;49m\u001b[39m.\u001b[39;49m_source)\n\u001b[0;32m    538\u001b[0m     \u001b[39mif\u001b[39;00m was_cached:\n\u001b[0;32m    539\u001b[0m         build_descr \u001b[39m=\u001b[39m \u001b[39m\"\u001b[39m\u001b[39mcache retrieval\u001b[39m\u001b[39m\"\u001b[39m\n",
            "File \u001b[1;32m~\\AppData\\Local\\Packages\\PythonSoftwareFoundation.Python.3.10_qbz5n2kfra8p0\\LocalCache\\local-packages\\Python310\\site-packages\\pyopencl\\__init__.py:580\u001b[0m, in \u001b[0;36mProgram._build_and_catch_errors\u001b[1;34m(self, build_func, options_bytes, source)\u001b[0m\n\u001b[0;32m    572\u001b[0m     err \u001b[39m=\u001b[39m _cl\u001b[39m.\u001b[39mRuntimeError(\n\u001b[0;32m    573\u001b[0m             _cl\u001b[39m.\u001b[39m_ErrorRecord(\n\u001b[0;32m    574\u001b[0m                 msg\u001b[39m=\u001b[39mmsg,\n\u001b[0;32m    575\u001b[0m                 code\u001b[39m=\u001b[39mcode,\n\u001b[0;32m    576\u001b[0m                 routine\u001b[39m=\u001b[39mroutine))\n\u001b[0;32m    578\u001b[0m \u001b[39m# Python 3.2 outputs the whole list of currently active exceptions\u001b[39;00m\n\u001b[0;32m    579\u001b[0m \u001b[39m# This serves to remove one (redundant) level from that nesting.\u001b[39;00m\n\u001b[1;32m--> 580\u001b[0m \u001b[39mraise\u001b[39;00m err\n",
            "\u001b[1;31mRuntimeError\u001b[0m: clBuildProgram failed: BUILD_PROGRAM_FAILURE - clBuildProgram failed: BUILD_PROGRAM_FAILURE - clBuildProgram failed: BUILD_PROGRAM_FAILURE\n\nBuild on <pyopencl.Device 'Intel(R) Iris(R) Xe Graphics' on 'Intel(R) OpenCL HD Graphics' at 0x1142ea59b60>:\n\n3:12:89: error: use of type 'double' requires cl_khr_fp64 extension to be enabled\n        __kernel void axpbyz(__global float *z__base, long z__offset, float a, __global double *x__base, long x__offset, float b, __global float *y__base, long y__offset, long n)\n                                                                                        ^\n3:20:10: error: use of type 'double' requires cl_khr_fp64 extension to be enabled\n__global double *x = (__global double *) ((__global char *) x__base + x__offset);\n         ^\n3:20:32: error: use of type 'double' requires cl_khr_fp64 extension to be enabled\n__global double *x = (__global double *) ((__global char *) x__base + x__offset);\n                               ^\n\n(options: -I C:\\Users\\Will\\AppData\\Local\\Packages\\PythonSoftwareFoundation.Python.3.10_qbz5n2kfra8p0\\LocalCache\\local-packages\\Python310\\site-packages\\pyopencl\\cl)\n(source saved as C:\\Users\\Will\\AppData\\Local\\Temp\\tmpk0resupa.cl)"
          ]
        }
      ],
      "source": [
        "# Perform addition on the gpu\n",
        "out = x_gpu + y_gpu\n",
        "\n",
        "print(x, y, out)"
      ]
    },
    {
      "cell_type": "markdown",
      "metadata": {
        "id": "9cJFHD11hxX1"
      },
      "source": [
        "# Elementwise Kernel\n",
        "\n",
        "The element-wise kernel is the simplest way to start programming on a GPU but is very restrictive. If you have an operation that applies to each list element without requiring other elements, then the element-wise kernel is the best."
      ]
    },
    {
      "cell_type": "markdown",
      "metadata": {
        "id": "CNfUThVH9wFl"
      },
      "source": [
        "### Affine Operation\n",
        "\n",
        "$$mx + b$$\n",
        "for $m\\in\\mathbb{R}, x\\in\\mathbb{R}^n, b\\in\\mathbb{R}^n$"
      ]
    },
    {
      "cell_type": "code",
      "execution_count": 21,
      "metadata": {
        "id": "pDWUoBsP9wYO"
      },
      "outputs": [],
      "source": [
        "from pyopencl.elementwise import ElementwiseKernel"
      ]
    },
    {
      "cell_type": "markdown",
      "metadata": {
        "id": "mvJMHToFAoiM"
      },
      "source": [
        "The arguments for `ElementwiseKernel` is\n",
        "    \n",
        "1. The context\n",
        "2. The arguments to the function\n",
        "3. The operation you want to apply to each element\n",
        "3. The name of the function to be stored in the context"
      ]
    },
    {
      "cell_type": "code",
      "execution_count": 22,
      "metadata": {
        "id": "Io_CVJWUD2d6"
      },
      "outputs": [],
      "source": [
        "add_program = ElementwiseKernel(context, \n",
        "                                \"double m, double *x, double *b, double *out\",\n",
        "                                \"out[i] = m * x[i] + b[i]\", \n",
        "                                \"add\")"
      ]
    },
    {
      "cell_type": "code",
      "execution_count": 23,
      "metadata": {
        "id": "tWKW2gIfD3wm"
      },
      "outputs": [],
      "source": [
        "# What happens if we change the type to np.float32\n",
        "x = np.random.rand(10_000).astype(np.float64) - 0.5\n",
        "b = np.random.rand(10_000).astype(np.float64)\n",
        "\n",
        "x_gpu = cl_array.to_device(queue, x)\n",
        "b_gpu = cl_array.to_device(queue, b)"
      ]
    },
    {
      "cell_type": "code",
      "execution_count": 24,
      "metadata": {
        "colab": {
          "base_uri": "https://localhost:8080/"
        },
        "id": "JIus1icyD2Xp",
        "outputId": "63126141-ff66-46ad-9cf0-6ab13f5f1c36"
      },
      "outputs": [
        {
          "ename": "RuntimeError",
          "evalue": "clBuildProgram failed: BUILD_PROGRAM_FAILURE - clBuildProgram failed: BUILD_PROGRAM_FAILURE - clBuildProgram failed: BUILD_PROGRAM_FAILURE\n\nBuild on <pyopencl.Device 'Intel(R) Iris(R) Xe Graphics' on 'Intel(R) OpenCL HD Graphics' at 0x1142ea59b60>:\n\n2:12:27: error: use of type 'double' requires cl_khr_fp64 extension to be enabled\n        __kernel void add(double m, __global double *x__base, long x__offset, __global double *b__base, long b__offset, __global double *out__base, long out__offset, long n)\n                          ^\n2:12:46: error: use of type 'double' requires cl_khr_fp64 extension to be enabled\n        __kernel void add(double m, __global double *x__base, long x__offset, __global double *b__base, long b__offset, __global double *out__base, long out__offset, long n)\n                                             ^\n2:12:88: error: use of type 'double' requires cl_khr_fp64 extension to be enabled\n        __kernel void add(double m, __global double *x__base, long x__offset, __global double *b__base, long b__offset, __global double *out__base, long out__offset, long n)\n                                                                                       ^\n2:12:130: error: use of type 'double' requires cl_khr_fp64 extension to be enabled\n        __kernel void add(double m, __global double *x__base, long x__offset, __global double *b__base, long b__offset, __global double *out__base, long out__offset, long n)\n                                                                                                                                 ^\n2:19:20: error: use of type 'double' requires cl_khr_fp64 extension to be enabled\n          __global double *x = (__global double *) ((__global char *) x__base + x__offset);\n                   ^\n2:19:42: error: use of type 'double' requires cl_khr_fp64 extension to be enabled\n          __global double *x = (__global double *) ((__global char *) x__base + x__offset);\n                                         ^\n2:20:10: error: use of type 'double' requires cl_khr_fp64 extension to be enabled\n__global double *b = (__global double *) ((__global char *) b__base + b__offset);\n         ^\n2:20:32: error: use of type 'double' requires cl_khr_fp64 extension to be enabled\n__global double *b = (__global double *) ((__global char *) b__base + b__offset);\n                               ^\n2:21:10: error: use of type 'double' requires cl_khr_fp64 extension to be enabled\n__global double *out = (__global double *) ((__global char *) out__base + out__offset);;\n         ^\n2:21:34: error: use of type 'double' requires cl_khr_fp64 extension to be enabled\n__global double *out = (__global double *) ((__global char *) out__base + out__offset);;\n                                 ^\n\n(options: -I C:\\Users\\Will\\AppData\\Local\\Packages\\PythonSoftwareFoundation.Python.3.10_qbz5n2kfra8p0\\LocalCache\\local-packages\\Python310\\site-packages\\pyopencl\\cl)\n(source saved as C:\\Users\\Will\\AppData\\Local\\Temp\\tmpals1bekn.cl)",
          "output_type": "error",
          "traceback": [
            "\u001b[1;31m---------------------------------------------------------------------------\u001b[0m",
            "\u001b[1;31mRuntimeError\u001b[0m                              Traceback (most recent call last)",
            "\u001b[1;32mc:\\Users\\Will\\Documents\\Uni\\RSCAM\\RSCAM-Group-Project-\\03_Programming_with_GPUs_(PyOpenCL).ipynb Cell 22\u001b[0m in \u001b[0;36m2\n\u001b[0;32m      <a href='vscode-notebook-cell:/c%3A/Users/Will/Documents/Uni/RSCAM/RSCAM-Group-Project-/03_Programming_with_GPUs_%28PyOpenCL%29.ipynb#X30sZmlsZQ%3D%3D?line=0'>1</a>\u001b[0m out \u001b[39m=\u001b[39m cl_array\u001b[39m.\u001b[39mzeros_like(x_gpu)\n\u001b[1;32m----> <a href='vscode-notebook-cell:/c%3A/Users/Will/Documents/Uni/RSCAM/RSCAM-Group-Project-/03_Programming_with_GPUs_%28PyOpenCL%29.ipynb#X30sZmlsZQ%3D%3D?line=1'>2</a>\u001b[0m add_program(np\u001b[39m.\u001b[39;49mfloat64(\u001b[39m0.1\u001b[39;49m), x_gpu, b_gpu, out)\n",
            "File \u001b[1;32m~\\AppData\\Local\\Packages\\PythonSoftwareFoundation.Python.3.10_qbz5n2kfra8p0\\LocalCache\\local-packages\\Python310\\site-packages\\pyopencl\\elementwise.py:287\u001b[0m, in \u001b[0;36mElementwiseKernel.__call__\u001b[1;34m(self, *args, **kwargs)\u001b[0m\n\u001b[0;32m    284\u001b[0m     \u001b[39mraise\u001b[39;00m \u001b[39mTypeError\u001b[39;00m(\u001b[39mf\u001b[39m\u001b[39m\"\u001b[39m\u001b[39munknown keyword arguments: \u001b[39m\u001b[39m'\u001b[39m\u001b[39m{\u001b[39;00m\u001b[39m'\u001b[39m\u001b[39m, \u001b[39m\u001b[39m'\u001b[39m\u001b[39m.\u001b[39mjoin(kwargs)\u001b[39m}\u001b[39;00m\u001b[39m'\u001b[39m\u001b[39m\"\u001b[39m)\n\u001b[0;32m    286\u001b[0m use_range \u001b[39m=\u001b[39m range_ \u001b[39mis\u001b[39;00m \u001b[39mnot\u001b[39;00m \u001b[39mNone\u001b[39;00m \u001b[39mor\u001b[39;00m slice_ \u001b[39mis\u001b[39;00m \u001b[39mnot\u001b[39;00m \u001b[39mNone\u001b[39;00m\n\u001b[1;32m--> 287\u001b[0m kernel, arg_descrs \u001b[39m=\u001b[39m \u001b[39mself\u001b[39;49m\u001b[39m.\u001b[39;49mget_kernel(use_range)\n\u001b[0;32m    289\u001b[0m \u001b[39mif\u001b[39;00m wait_for \u001b[39mis\u001b[39;00m \u001b[39mNone\u001b[39;00m:\n\u001b[0;32m    290\u001b[0m     wait_for \u001b[39m=\u001b[39m []\n",
            "File \u001b[1;32m~\\AppData\\Local\\Packages\\PythonSoftwareFoundation.Python.3.10_qbz5n2kfra8p0\\LocalCache\\local-packages\\Python310\\site-packages\\pytools\\__init__.py:777\u001b[0m, in \u001b[0;36mmemoize_on_first_arg.<locals>.wrapper\u001b[1;34m(obj, *args, **kwargs)\u001b[0m\n\u001b[0;32m    774\u001b[0m \u001b[39mexcept\u001b[39;00m \u001b[39mKeyError\u001b[39;00m:\n\u001b[0;32m    775\u001b[0m     attribute_error \u001b[39m=\u001b[39m \u001b[39mFalse\u001b[39;00m\n\u001b[1;32m--> 777\u001b[0m result \u001b[39m=\u001b[39m function(obj, \u001b[39m*\u001b[39margs, \u001b[39m*\u001b[39m\u001b[39m*\u001b[39mkwargs)\n\u001b[0;32m    778\u001b[0m \u001b[39mif\u001b[39;00m attribute_error:\n\u001b[0;32m    779\u001b[0m     \u001b[39mobject\u001b[39m\u001b[39m.\u001b[39m\u001b[39m__setattr__\u001b[39m(obj, cache_dict_name, {key: result})\n",
            "File \u001b[1;32m~\\AppData\\Local\\Packages\\PythonSoftwareFoundation.Python.3.10_qbz5n2kfra8p0\\LocalCache\\local-packages\\Python310\\site-packages\\pyopencl\\elementwise.py:246\u001b[0m, in \u001b[0;36mElementwiseKernel.get_kernel\u001b[1;34m(self, use_range)\u001b[0m\n\u001b[0;32m    244\u001b[0m \u001b[39m@memoize_method\u001b[39m\n\u001b[0;32m    245\u001b[0m \u001b[39mdef\u001b[39;00m \u001b[39mget_kernel\u001b[39m(\u001b[39mself\u001b[39m, use_range: \u001b[39mbool\u001b[39m):\n\u001b[1;32m--> 246\u001b[0m     knl, arg_descrs \u001b[39m=\u001b[39m get_elwise_kernel_and_types(\n\u001b[0;32m    247\u001b[0m         \u001b[39mself\u001b[39m\u001b[39m.\u001b[39mcontext, \u001b[39mself\u001b[39m\u001b[39m.\u001b[39marguments, \u001b[39mself\u001b[39m\u001b[39m.\u001b[39moperation,\n\u001b[0;32m    248\u001b[0m         name\u001b[39m=\u001b[39m\u001b[39mself\u001b[39m\u001b[39m.\u001b[39mname, options\u001b[39m=\u001b[39m\u001b[39mself\u001b[39m\u001b[39m.\u001b[39moptions,\n\u001b[0;32m    249\u001b[0m         use_range\u001b[39m=\u001b[39muse_range, \u001b[39m*\u001b[39m\u001b[39m*\u001b[39m\u001b[39mself\u001b[39m\u001b[39m.\u001b[39mkwargs)\n\u001b[0;32m    251\u001b[0m     \u001b[39mfor\u001b[39;00m arg \u001b[39min\u001b[39;00m arg_descrs:\n\u001b[0;32m    252\u001b[0m         \u001b[39mif\u001b[39;00m \u001b[39misinstance\u001b[39m(arg, VectorArg) \u001b[39mand\u001b[39;00m \u001b[39mnot\u001b[39;00m arg\u001b[39m.\u001b[39mwith_offset:\n",
            "File \u001b[1;32m~\\AppData\\Local\\Packages\\PythonSoftwareFoundation.Python.3.10_qbz5n2kfra8p0\\LocalCache\\local-packages\\Python310\\site-packages\\pyopencl\\elementwise.py:171\u001b[0m, in \u001b[0;36mget_elwise_kernel_and_types\u001b[1;34m(context, arguments, operation, name, options, preamble, use_range, **kwargs)\u001b[0m\n\u001b[0;32m    169\u001b[0m loop_prep \u001b[39m=\u001b[39m kwargs\u001b[39m.\u001b[39mpop(\u001b[39m\"\u001b[39m\u001b[39mloop_prep\u001b[39m\u001b[39m\"\u001b[39m, \u001b[39m\"\u001b[39m\u001b[39m\"\u001b[39m)\n\u001b[0;32m    170\u001b[0m loop_prep \u001b[39m=\u001b[39m get_arg_offset_adjuster_code(parsed_args) \u001b[39m+\u001b[39m loop_prep\n\u001b[1;32m--> 171\u001b[0m prg \u001b[39m=\u001b[39m get_elwise_program(\n\u001b[0;32m    172\u001b[0m     context, parsed_args, operation,\n\u001b[0;32m    173\u001b[0m     name\u001b[39m=\u001b[39mname, options\u001b[39m=\u001b[39moptions, preamble\u001b[39m=\u001b[39mpreamble,\n\u001b[0;32m    174\u001b[0m     use_range\u001b[39m=\u001b[39muse_range, loop_prep\u001b[39m=\u001b[39mloop_prep, \u001b[39m*\u001b[39m\u001b[39m*\u001b[39mkwargs)\n\u001b[0;32m    176\u001b[0m \u001b[39mfrom\u001b[39;00m \u001b[39mpyopencl\u001b[39;00m\u001b[39m.\u001b[39;00m\u001b[39mtools\u001b[39;00m \u001b[39mimport\u001b[39;00m get_arg_list_arg_types\n\u001b[0;32m    178\u001b[0m kernel \u001b[39m=\u001b[39m \u001b[39mgetattr\u001b[39m(prg, name)\n",
            "File \u001b[1;32m~\\AppData\\Local\\Packages\\PythonSoftwareFoundation.Python.3.10_qbz5n2kfra8p0\\LocalCache\\local-packages\\Python310\\site-packages\\pyopencl\\elementwise.py:118\u001b[0m, in \u001b[0;36mget_elwise_program\u001b[1;34m(context, arguments, operation, name, options, preamble, loop_prep, after_loop, use_range)\u001b[0m\n\u001b[0;32m     88\u001b[0m     warn(\u001b[39m\"\u001b[39m\u001b[39mUsing a \u001b[39m\u001b[39m'\u001b[39m\u001b[39mreturn\u001b[39m\u001b[39m'\u001b[39m\u001b[39m statement in an element-wise operation will \u001b[39m\u001b[39m\"\u001b[39m\n\u001b[0;32m     89\u001b[0m             \u001b[39m\"\u001b[39m\u001b[39mlikely lead to incorrect results. Use \u001b[39m\u001b[39m\"\u001b[39m\n\u001b[0;32m     90\u001b[0m             \u001b[39m\"\u001b[39m\u001b[39mPYOPENCL_ELWISE_CONTINUE instead.\u001b[39m\u001b[39m\"\u001b[39m,\n\u001b[0;32m     91\u001b[0m             stacklevel\u001b[39m=\u001b[39m\u001b[39m3\u001b[39m)\n\u001b[0;32m     93\u001b[0m source \u001b[39m=\u001b[39m (\u001b[39m\"\"\"\u001b[39m\u001b[39m//CL//\u001b[39m\n\u001b[0;32m     94\u001b[0m \u001b[39m    \u001b[39m\u001b[39m{preamble}\u001b[39;00m\n\u001b[0;32m     95\u001b[0m \n\u001b[1;32m   (...)\u001b[0m\n\u001b[0;32m    115\u001b[0m         body\u001b[39m=\u001b[39mbody \u001b[39m%\u001b[39m \u001b[39mdict\u001b[39m(operation\u001b[39m=\u001b[39moperation),\n\u001b[0;32m    116\u001b[0m         ))\n\u001b[1;32m--> 118\u001b[0m \u001b[39mreturn\u001b[39;00m cl\u001b[39m.\u001b[39;49mProgram(context, source)\u001b[39m.\u001b[39;49mbuild(options)\n",
            "File \u001b[1;32m~\\AppData\\Local\\Packages\\PythonSoftwareFoundation.Python.3.10_qbz5n2kfra8p0\\LocalCache\\local-packages\\Python310\\site-packages\\pyopencl\\__init__.py:532\u001b[0m, in \u001b[0;36mProgram.build\u001b[1;34m(self, options, devices, cache_dir)\u001b[0m\n\u001b[0;32m    528\u001b[0m \u001b[39melse\u001b[39;00m:\n\u001b[0;32m    529\u001b[0m     \u001b[39m# cached\u001b[39;00m\n\u001b[0;32m    531\u001b[0m     \u001b[39mfrom\u001b[39;00m \u001b[39mpyopencl\u001b[39;00m\u001b[39m.\u001b[39;00m\u001b[39mcache\u001b[39;00m \u001b[39mimport\u001b[39;00m create_built_program_from_source_cached\n\u001b[1;32m--> 532\u001b[0m     \u001b[39mself\u001b[39m\u001b[39m.\u001b[39m_prg, was_cached \u001b[39m=\u001b[39m \u001b[39mself\u001b[39;49m\u001b[39m.\u001b[39;49m_build_and_catch_errors(\n\u001b[0;32m    533\u001b[0m             \u001b[39mlambda\u001b[39;49;00m: create_built_program_from_source_cached(\n\u001b[0;32m    534\u001b[0m                 \u001b[39mself\u001b[39;49m\u001b[39m.\u001b[39;49m_context, \u001b[39mself\u001b[39;49m\u001b[39m.\u001b[39;49m_source, options_bytes, devices,\n\u001b[0;32m    535\u001b[0m                 cache_dir\u001b[39m=\u001b[39;49mcache_dir, include_path\u001b[39m=\u001b[39;49minclude_path),\n\u001b[0;32m    536\u001b[0m             options_bytes\u001b[39m=\u001b[39;49moptions_bytes, source\u001b[39m=\u001b[39;49m\u001b[39mself\u001b[39;49m\u001b[39m.\u001b[39;49m_source)\n\u001b[0;32m    538\u001b[0m     \u001b[39mif\u001b[39;00m was_cached:\n\u001b[0;32m    539\u001b[0m         build_descr \u001b[39m=\u001b[39m \u001b[39m\"\u001b[39m\u001b[39mcache retrieval\u001b[39m\u001b[39m\"\u001b[39m\n",
            "File \u001b[1;32m~\\AppData\\Local\\Packages\\PythonSoftwareFoundation.Python.3.10_qbz5n2kfra8p0\\LocalCache\\local-packages\\Python310\\site-packages\\pyopencl\\__init__.py:580\u001b[0m, in \u001b[0;36mProgram._build_and_catch_errors\u001b[1;34m(self, build_func, options_bytes, source)\u001b[0m\n\u001b[0;32m    572\u001b[0m     err \u001b[39m=\u001b[39m _cl\u001b[39m.\u001b[39mRuntimeError(\n\u001b[0;32m    573\u001b[0m             _cl\u001b[39m.\u001b[39m_ErrorRecord(\n\u001b[0;32m    574\u001b[0m                 msg\u001b[39m=\u001b[39mmsg,\n\u001b[0;32m    575\u001b[0m                 code\u001b[39m=\u001b[39mcode,\n\u001b[0;32m    576\u001b[0m                 routine\u001b[39m=\u001b[39mroutine))\n\u001b[0;32m    578\u001b[0m \u001b[39m# Python 3.2 outputs the whole list of currently active exceptions\u001b[39;00m\n\u001b[0;32m    579\u001b[0m \u001b[39m# This serves to remove one (redundant) level from that nesting.\u001b[39;00m\n\u001b[1;32m--> 580\u001b[0m \u001b[39mraise\u001b[39;00m err\n",
            "\u001b[1;31mRuntimeError\u001b[0m: clBuildProgram failed: BUILD_PROGRAM_FAILURE - clBuildProgram failed: BUILD_PROGRAM_FAILURE - clBuildProgram failed: BUILD_PROGRAM_FAILURE\n\nBuild on <pyopencl.Device 'Intel(R) Iris(R) Xe Graphics' on 'Intel(R) OpenCL HD Graphics' at 0x1142ea59b60>:\n\n2:12:27: error: use of type 'double' requires cl_khr_fp64 extension to be enabled\n        __kernel void add(double m, __global double *x__base, long x__offset, __global double *b__base, long b__offset, __global double *out__base, long out__offset, long n)\n                          ^\n2:12:46: error: use of type 'double' requires cl_khr_fp64 extension to be enabled\n        __kernel void add(double m, __global double *x__base, long x__offset, __global double *b__base, long b__offset, __global double *out__base, long out__offset, long n)\n                                             ^\n2:12:88: error: use of type 'double' requires cl_khr_fp64 extension to be enabled\n        __kernel void add(double m, __global double *x__base, long x__offset, __global double *b__base, long b__offset, __global double *out__base, long out__offset, long n)\n                                                                                       ^\n2:12:130: error: use of type 'double' requires cl_khr_fp64 extension to be enabled\n        __kernel void add(double m, __global double *x__base, long x__offset, __global double *b__base, long b__offset, __global double *out__base, long out__offset, long n)\n                                                                                                                                 ^\n2:19:20: error: use of type 'double' requires cl_khr_fp64 extension to be enabled\n          __global double *x = (__global double *) ((__global char *) x__base + x__offset);\n                   ^\n2:19:42: error: use of type 'double' requires cl_khr_fp64 extension to be enabled\n          __global double *x = (__global double *) ((__global char *) x__base + x__offset);\n                                         ^\n2:20:10: error: use of type 'double' requires cl_khr_fp64 extension to be enabled\n__global double *b = (__global double *) ((__global char *) b__base + b__offset);\n         ^\n2:20:32: error: use of type 'double' requires cl_khr_fp64 extension to be enabled\n__global double *b = (__global double *) ((__global char *) b__base + b__offset);\n                               ^\n2:21:10: error: use of type 'double' requires cl_khr_fp64 extension to be enabled\n__global double *out = (__global double *) ((__global char *) out__base + out__offset);;\n         ^\n2:21:34: error: use of type 'double' requires cl_khr_fp64 extension to be enabled\n__global double *out = (__global double *) ((__global char *) out__base + out__offset);;\n                                 ^\n\n(options: -I C:\\Users\\Will\\AppData\\Local\\Packages\\PythonSoftwareFoundation.Python.3.10_qbz5n2kfra8p0\\LocalCache\\local-packages\\Python310\\site-packages\\pyopencl\\cl)\n(source saved as C:\\Users\\Will\\AppData\\Local\\Temp\\tmpals1bekn.cl)"
          ]
        }
      ],
      "source": [
        "out = cl_array.zeros_like(x_gpu)\n",
        "add_program(np.float64(0.1), x_gpu, b_gpu, out)"
      ]
    },
    {
      "cell_type": "markdown",
      "metadata": {
        "id": "QpGkkLjGA-fU"
      },
      "source": [
        "You will notice that this returns an `Event`, meaning that this is happening asynchronously. So if you want to make sure the event is finished you need to do the following"
      ]
    },
    {
      "cell_type": "code",
      "execution_count": null,
      "metadata": {
        "id": "HauHVvxQBT9m"
      },
      "outputs": [],
      "source": [
        "out = cl_array.zeros_like(x_gpu)\n",
        "event = add_program(np.float64(0.1), x_gpu, b_gpu, out)\n",
        "event.wait()"
      ]
    },
    {
      "cell_type": "code",
      "execution_count": null,
      "metadata": {
        "id": "9g4U23-eD7gT"
      },
      "outputs": [],
      "source": [
        "np.testing.assert_almost_equal(out.get(), 0.1 * x + b)"
      ]
    },
    {
      "cell_type": "markdown",
      "metadata": {
        "id": "pbPMSjCIEE89"
      },
      "source": [
        "### ReLu"
      ]
    },
    {
      "cell_type": "code",
      "execution_count": null,
      "metadata": {
        "id": "kNoHrK9mD520"
      },
      "outputs": [],
      "source": [
        "relu_program = ElementwiseKernel(context, \n",
        "                                 \"double *x, double *out\",\n",
        "                                 \"out[i] = x[i] > 0 ? x[i] : 0.0\", \n",
        "                                 \"relu\")"
      ]
    },
    {
      "cell_type": "markdown",
      "metadata": {
        "id": "-4cQTh2lEJTv"
      },
      "source": [
        "### Sigmoid\n",
        "The sigmoid function is defined as\n",
        "$$f(x) = \\frac{1}{1 + e^{-x}}.$$\n",
        "But this function is famously is numerically unstable. As $x\\to\\infty,\\ f(x)\\to 1$ and as $x\\to-\\infty,\\ f(x)\\to 0$. This function is bounded, but not well behaved when $x \\to -\\infty$."
      ]
    },
    {
      "cell_type": "code",
      "execution_count": null,
      "metadata": {
        "id": "BfhwkrhVE6iD"
      },
      "outputs": [],
      "source": [
        "def f(x):\n",
        "    return 1 / (1 + np.exp(-x))"
      ]
    },
    {
      "cell_type": "code",
      "execution_count": null,
      "metadata": {
        "colab": {
          "base_uri": "https://localhost:8080/"
        },
        "id": "qxsxbr3NGMwq",
        "outputId": "c363c4d6-95bb-42b1-83c3-bd8b00c01a87"
      },
      "outputs": [
        {
          "data": {
            "text/plain": [
              "1.0"
            ]
          },
          "execution_count": 27,
          "metadata": {},
          "output_type": "execute_result"
        }
      ],
      "source": [
        "x = 1e3\n",
        "f(x)"
      ]
    },
    {
      "cell_type": "code",
      "execution_count": null,
      "metadata": {
        "colab": {
          "base_uri": "https://localhost:8080/"
        },
        "id": "l7mJbCwTE9W6",
        "outputId": "febc48fe-da85-4ebe-fe61-27f2baf21fa9"
      },
      "outputs": [
        {
          "name": "stderr",
          "output_type": "stream",
          "text": [
            "<ipython-input-26-a3ebedcd0b6b>:2: RuntimeWarning: overflow encountered in exp\n",
            "  return 1 / (1 + np.exp(-x))\n"
          ]
        },
        {
          "data": {
            "text/plain": [
              "0.0"
            ]
          },
          "execution_count": 28,
          "metadata": {},
          "output_type": "execute_result"
        }
      ],
      "source": [
        "x = -1e3\n",
        "f(x)"
      ]
    },
    {
      "cell_type": "markdown",
      "metadata": {
        "id": "EH2VmsUvGU_f"
      },
      "source": [
        "This is because of overflows, vs underflows"
      ]
    },
    {
      "cell_type": "code",
      "execution_count": null,
      "metadata": {
        "id": "hLhpv5-3Fm2y"
      },
      "outputs": [],
      "source": [
        "def stable_f(x):\n",
        "    if x > 0:\n",
        "        return 1 / (1 + np.exp(-x))\n",
        "    else:\n",
        "        temp = np.exp(x)\n",
        "        return  temp / (1 + temp)"
      ]
    },
    {
      "cell_type": "code",
      "execution_count": null,
      "metadata": {
        "colab": {
          "base_uri": "https://localhost:8080/"
        },
        "id": "Ugyb8YhhFxrv",
        "outputId": "b0e1f384-66f0-4cce-800c-d9238774fe7e"
      },
      "outputs": [
        {
          "data": {
            "text/plain": [
              "1.0"
            ]
          },
          "execution_count": 30,
          "metadata": {},
          "output_type": "execute_result"
        }
      ],
      "source": [
        "x = 1e3\n",
        "stable_f(x)"
      ]
    },
    {
      "cell_type": "code",
      "execution_count": null,
      "metadata": {
        "colab": {
          "base_uri": "https://localhost:8080/"
        },
        "id": "yeUes72_F8X3",
        "outputId": "2391a29e-09e8-4f08-fde3-3f1aea5fcafe"
      },
      "outputs": [
        {
          "data": {
            "text/plain": [
              "0.0"
            ]
          },
          "execution_count": 31,
          "metadata": {},
          "output_type": "execute_result"
        }
      ],
      "source": [
        "x = -1e3\n",
        "stable_f(x)"
      ]
    },
    {
      "cell_type": "code",
      "execution_count": null,
      "metadata": {
        "colab": {
          "base_uri": "https://localhost:8080/"
        },
        "id": "Z_QaUFKEFRuT",
        "outputId": "e7740935-43e1-4157-f44d-7c4851f6e514"
      },
      "outputs": [
        {
          "name": "stderr",
          "output_type": "stream",
          "text": [
            "<ipython-input-26-a3ebedcd0b6b>:2: RuntimeWarning: overflow encountered in exp\n",
            "  return 1 / (1 + np.exp(-x))\n"
          ]
        },
        {
          "data": {
            "text/plain": [
              "0.0"
            ]
          },
          "execution_count": 32,
          "metadata": {},
          "output_type": "execute_result"
        }
      ],
      "source": [
        "f(-100000)"
      ]
    },
    {
      "cell_type": "code",
      "execution_count": null,
      "metadata": {
        "id": "OGwqNF1TGyAI"
      },
      "outputs": [],
      "source": [
        "def stable_sigmoid(x):\n",
        "    out = np.zeros_like(x)\n",
        "    mask = x > 0\n",
        "\n",
        "    out[mask] = 1 / (1 + np.exp(-x[mask]))\n",
        "\n",
        "    temp = np.exp(x[~mask])\n",
        "    out[~mask] = temp / (1 + temp)\n",
        "    \n",
        "    return out"
      ]
    },
    {
      "cell_type": "code",
      "execution_count": null,
      "metadata": {
        "id": "McZH2nyE-kMt"
      },
      "outputs": [],
      "source": [
        "sigmoid_program = ElementwiseKernel(context,\n",
        "                                    \"double *x, double *out\",\n",
        "                                    \"out[i] = SIGMOID(x[i])\",\n",
        "                                    \"sigmoid\",\n",
        "                                    preamble='#define SIGMOID(x) x > 0 ? 1.0/(1.0 + exp(-x)) : exp(x) / (exp(x) + 1.0)'\n",
        "                                    )"
      ]
    },
    {
      "cell_type": "code",
      "execution_count": null,
      "metadata": {
        "id": "jcIkfuHpA-bo"
      },
      "outputs": [],
      "source": [
        "x = (np.random.rand(10_000).astype(np.float64) - 0.5) * 1e4\n",
        "\n",
        "x_gpu = cl_array.to_device(queue, x)"
      ]
    },
    {
      "cell_type": "code",
      "execution_count": null,
      "metadata": {
        "colab": {
          "base_uri": "https://localhost:8080/"
        },
        "id": "fPeZvwMs-kKW",
        "outputId": "8c55ce41-4d1e-41ba-fdd5-bd98b43b1e38"
      },
      "outputs": [
        {
          "data": {
            "text/plain": [
              "<pyopencl._cl.Event at 0x7f014c0d3810>"
            ]
          },
          "execution_count": 36,
          "metadata": {},
          "output_type": "execute_result"
        }
      ],
      "source": [
        "out = cl_array.zeros_like(x_gpu)\n",
        "sigmoid_program(x_gpu, out)"
      ]
    },
    {
      "cell_type": "code",
      "execution_count": null,
      "metadata": {
        "id": "JfwpIx3WB-1T"
      },
      "outputs": [],
      "source": [
        "np.testing.assert_almost_equal(stable_sigmoid(x), out.get())"
      ]
    },
    {
      "cell_type": "markdown",
      "metadata": {
        "id": "uxVEvHJg3veZ"
      },
      "source": [
        "# General Program\n",
        "\n",
        "If our operation requires more involved access to other indices, we need to write our own kernel.\n",
        "\n",
        "Before we get into that, a GPU is made up of thousands of workers, more specifically threads, who work in parallel. These workers have no structure to them, but we can 'organize' them up to 3-dimensions. These dimensions only help us organize the workers into easy layouts that may help certain programs.\n",
        "\n",
        "These dimensions is accessed through `get_global_id`."
      ]
    },
    {
      "cell_type": "code",
      "execution_count": null,
      "metadata": {
        "id": "LFndD16y3vCh"
      },
      "outputs": [],
      "source": [
        "add_c_code = \"\"\"\n",
        "__kernel void add(float m, __global float *a, __global float *b, __global float *out){\n",
        "    int index = get_global_id(0);\n",
        "    out[index] = m * a[index] + b[index];\n",
        "}\n",
        "\"\"\""
      ]
    },
    {
      "cell_type": "code",
      "execution_count": null,
      "metadata": {
        "id": "W0Vb4mr84un6"
      },
      "outputs": [],
      "source": [
        "program = cl.Program(context, add_c_code).build()"
      ]
    },
    {
      "cell_type": "code",
      "execution_count": null,
      "metadata": {
        "id": "egBahtwFHsBy"
      },
      "outputs": [],
      "source": [
        "a = np.random.rand(1000).astype(np.float32)\n",
        "b = np.random.rand(1000).astype(np.float32)\n",
        "\n",
        "a_gpu = cl_array.to_device(queue, a)\n",
        "b_gpu = cl_array.to_device(queue, b)"
      ]
    },
    {
      "cell_type": "code",
      "execution_count": null,
      "metadata": {
        "colab": {
          "base_uri": "https://localhost:8080/"
        },
        "id": "YNsxFSqS44QF",
        "outputId": "c1578e4f-048c-4546-8340-21a4a35145f4"
      },
      "outputs": [
        {
          "data": {
            "text/plain": [
              "<pyopencl._cl.Event at 0x7f014c15c810>"
            ]
          },
          "execution_count": 41,
          "metadata": {},
          "output_type": "execute_result"
        }
      ],
      "source": [
        "global_size = a_gpu.shape\n",
        "local_size = None\n",
        "\n",
        "out_gpu = cl_array.zeros_like(a_gpu)\n",
        "program.add(queue, global_size, local_size, \n",
        "            np.float32(0.1), a_gpu.data, b_gpu.data, out_gpu.data)"
      ]
    },
    {
      "cell_type": "code",
      "execution_count": null,
      "metadata": {
        "id": "tFEPibPcHd2H"
      },
      "outputs": [],
      "source": [
        "np.testing.assert_almost_equal(out_gpu.get(), 0.1 * a + b)"
      ]
    },
    {
      "cell_type": "markdown",
      "metadata": {
        "id": "qD0j-i3qGHdc"
      },
      "source": [
        "What happens if we change x into a matrix, rather than a vector"
      ]
    },
    {
      "cell_type": "code",
      "execution_count": null,
      "metadata": {
        "id": "PIOdMgPRI1xj"
      },
      "outputs": [],
      "source": [
        "x = np.random.rand(500, 500).astype(np.float32)\n",
        "y = np.random.rand(500, 500).astype(np.float32)\n",
        "\n",
        "x_gpu2 = cl_array.to_device(queue, x)\n",
        "y_gpu2 = cl_array.to_device(queue, y)"
      ]
    },
    {
      "cell_type": "code",
      "execution_count": null,
      "metadata": {
        "colab": {
          "base_uri": "https://localhost:8080/"
        },
        "id": "TrjO67FbI6-G",
        "outputId": "1c6d0287-a7d4-479d-ee68-dd8a4bc45af2"
      },
      "outputs": [
        {
          "data": {
            "text/plain": [
              "<pyopencl._cl.Event at 0x7f014c0e1d10>"
            ]
          },
          "execution_count": 44,
          "metadata": {},
          "output_type": "execute_result"
        }
      ],
      "source": [
        "global_size = x_gpu2.shape\n",
        "local_size = None\n",
        "\n",
        "out_gpu = cl_array.zeros_like(x_gpu2)\n",
        "program.add(queue, global_size, local_size, \n",
        "            np.float32(1), x_gpu2.data, y_gpu2.data, out_gpu.data)"
      ]
    },
    {
      "cell_type": "code",
      "execution_count": null,
      "metadata": {
        "colab": {
          "base_uri": "https://localhost:8080/",
          "height": 503
        },
        "id": "ZQ28L935I-6U",
        "outputId": "8d568ecd-95a4-4364-b491-53e9f0d9e5a3"
      },
      "outputs": [
        {
          "ename": "AssertionError",
          "evalue": "ignored",
          "output_type": "error",
          "traceback": [
            "\u001b[0;31m---------------------------------------------------------------------------\u001b[0m",
            "\u001b[0;31mAssertionError\u001b[0m                            Traceback (most recent call last)",
            "\u001b[0;32m<ipython-input-45-aa0be8bf931a>\u001b[0m in \u001b[0;36m<module>\u001b[0;34m\u001b[0m\n\u001b[0;32m----> 1\u001b[0;31m \u001b[0mnp\u001b[0m\u001b[0;34m.\u001b[0m\u001b[0mtesting\u001b[0m\u001b[0;34m.\u001b[0m\u001b[0massert_almost_equal\u001b[0m\u001b[0;34m(\u001b[0m\u001b[0mout_gpu\u001b[0m\u001b[0;34m.\u001b[0m\u001b[0mget\u001b[0m\u001b[0;34m(\u001b[0m\u001b[0;34m)\u001b[0m\u001b[0;34m,\u001b[0m \u001b[0mx\u001b[0m \u001b[0;34m+\u001b[0m \u001b[0my\u001b[0m\u001b[0;34m)\u001b[0m\u001b[0;34m\u001b[0m\u001b[0;34m\u001b[0m\u001b[0m\n\u001b[0m",
            "\u001b[0;32m/usr/local/lib/python3.8/dist-packages/numpy/testing/_private/utils.py\u001b[0m in \u001b[0;36massert_almost_equal\u001b[0;34m(actual, desired, decimal, err_msg, verbose)\u001b[0m\n\u001b[1;32m    581\u001b[0m     \u001b[0;32mif\u001b[0m \u001b[0misinstance\u001b[0m\u001b[0;34m(\u001b[0m\u001b[0mactual\u001b[0m\u001b[0;34m,\u001b[0m \u001b[0;34m(\u001b[0m\u001b[0mndarray\u001b[0m\u001b[0;34m,\u001b[0m \u001b[0mtuple\u001b[0m\u001b[0;34m,\u001b[0m \u001b[0mlist\u001b[0m\u001b[0;34m)\u001b[0m\u001b[0;34m)\u001b[0m\u001b[0;31m \u001b[0m\u001b[0;31m\\\u001b[0m\u001b[0;34m\u001b[0m\u001b[0;34m\u001b[0m\u001b[0m\n\u001b[1;32m    582\u001b[0m             \u001b[0;32mor\u001b[0m \u001b[0misinstance\u001b[0m\u001b[0;34m(\u001b[0m\u001b[0mdesired\u001b[0m\u001b[0;34m,\u001b[0m \u001b[0;34m(\u001b[0m\u001b[0mndarray\u001b[0m\u001b[0;34m,\u001b[0m \u001b[0mtuple\u001b[0m\u001b[0;34m,\u001b[0m \u001b[0mlist\u001b[0m\u001b[0;34m)\u001b[0m\u001b[0;34m)\u001b[0m\u001b[0;34m:\u001b[0m\u001b[0;34m\u001b[0m\u001b[0;34m\u001b[0m\u001b[0m\n\u001b[0;32m--> 583\u001b[0;31m         \u001b[0;32mreturn\u001b[0m \u001b[0massert_array_almost_equal\u001b[0m\u001b[0;34m(\u001b[0m\u001b[0mactual\u001b[0m\u001b[0;34m,\u001b[0m \u001b[0mdesired\u001b[0m\u001b[0;34m,\u001b[0m \u001b[0mdecimal\u001b[0m\u001b[0;34m,\u001b[0m \u001b[0merr_msg\u001b[0m\u001b[0;34m)\u001b[0m\u001b[0;34m\u001b[0m\u001b[0;34m\u001b[0m\u001b[0m\n\u001b[0m\u001b[1;32m    584\u001b[0m     \u001b[0;32mtry\u001b[0m\u001b[0;34m:\u001b[0m\u001b[0;34m\u001b[0m\u001b[0;34m\u001b[0m\u001b[0m\n\u001b[1;32m    585\u001b[0m         \u001b[0;31m# If one of desired/actual is not finite, handle it specially here:\u001b[0m\u001b[0;34m\u001b[0m\u001b[0;34m\u001b[0m\u001b[0;34m\u001b[0m\u001b[0m\n",
            "\u001b[0;32m/usr/local/lib/python3.8/dist-packages/numpy/testing/_private/utils.py\u001b[0m in \u001b[0;36massert_array_almost_equal\u001b[0;34m(x, y, decimal, err_msg, verbose)\u001b[0m\n\u001b[1;32m   1044\u001b[0m         \u001b[0;32mreturn\u001b[0m \u001b[0mz\u001b[0m \u001b[0;34m<\u001b[0m \u001b[0;36m1.5\u001b[0m \u001b[0;34m*\u001b[0m \u001b[0;36m10.0\u001b[0m\u001b[0;34m**\u001b[0m\u001b[0;34m(\u001b[0m\u001b[0;34m-\u001b[0m\u001b[0mdecimal\u001b[0m\u001b[0;34m)\u001b[0m\u001b[0;34m\u001b[0m\u001b[0;34m\u001b[0m\u001b[0m\n\u001b[1;32m   1045\u001b[0m \u001b[0;34m\u001b[0m\u001b[0m\n\u001b[0;32m-> 1046\u001b[0;31m     assert_array_compare(compare, x, y, err_msg=err_msg, verbose=verbose,\n\u001b[0m\u001b[1;32m   1047\u001b[0m              \u001b[0mheader\u001b[0m\u001b[0;34m=\u001b[0m\u001b[0;34m(\u001b[0m\u001b[0;34m'Arrays are not almost equal to %d decimals'\u001b[0m \u001b[0;34m%\u001b[0m \u001b[0mdecimal\u001b[0m\u001b[0;34m)\u001b[0m\u001b[0;34m,\u001b[0m\u001b[0;34m\u001b[0m\u001b[0;34m\u001b[0m\u001b[0m\n\u001b[1;32m   1048\u001b[0m              precision=decimal)\n",
            "\u001b[0;32m/usr/local/lib/python3.8/dist-packages/numpy/testing/_private/utils.py\u001b[0m in \u001b[0;36massert_array_compare\u001b[0;34m(comparison, x, y, err_msg, verbose, header, precision, equal_nan, equal_inf)\u001b[0m\n\u001b[1;32m    842\u001b[0m                                 \u001b[0mverbose\u001b[0m\u001b[0;34m=\u001b[0m\u001b[0mverbose\u001b[0m\u001b[0;34m,\u001b[0m \u001b[0mheader\u001b[0m\u001b[0;34m=\u001b[0m\u001b[0mheader\u001b[0m\u001b[0;34m,\u001b[0m\u001b[0;34m\u001b[0m\u001b[0;34m\u001b[0m\u001b[0m\n\u001b[1;32m    843\u001b[0m                                 names=('x', 'y'), precision=precision)\n\u001b[0;32m--> 844\u001b[0;31m             \u001b[0;32mraise\u001b[0m \u001b[0mAssertionError\u001b[0m\u001b[0;34m(\u001b[0m\u001b[0mmsg\u001b[0m\u001b[0;34m)\u001b[0m\u001b[0;34m\u001b[0m\u001b[0;34m\u001b[0m\u001b[0m\n\u001b[0m\u001b[1;32m    845\u001b[0m     \u001b[0;32mexcept\u001b[0m \u001b[0mValueError\u001b[0m\u001b[0;34m:\u001b[0m\u001b[0;34m\u001b[0m\u001b[0;34m\u001b[0m\u001b[0m\n\u001b[1;32m    846\u001b[0m         \u001b[0;32mimport\u001b[0m \u001b[0mtraceback\u001b[0m\u001b[0;34m\u001b[0m\u001b[0;34m\u001b[0m\u001b[0m\n",
            "\u001b[0;31mAssertionError\u001b[0m: \nArrays are not almost equal to 7 decimals\n\nMismatched elements: 249500 / 250000 (99.8%)\nMax absolute difference: 1.9987956\nMax relative difference: 1.\n x: array([[0.7357498, 1.1241858, 1.2360364, ..., 0.8294325, 0.617823 ,\n        0.6515197],\n       [0.       , 0.       , 0.       , ..., 0.       , 0.       ,...\n y: array([[0.7357498, 1.1241858, 1.2360364, ..., 0.8294325, 0.617823 ,\n        0.6515197],\n       [1.2713516, 0.7060885, 0.9396349, ..., 1.8167584, 0.5139595,..."
          ]
        }
      ],
      "source": [
        "np.testing.assert_almost_equal(out_gpu.get(), x + y)"
      ]
    },
    {
      "cell_type": "markdown",
      "metadata": {
        "id": "vzOE9ECVGPiF"
      },
      "source": [
        "That didn't work. But why?\n",
        "\n",
        "To fix it we need to change the `global_size`. The `global_size` defines how we distribute the workers. Before, we had the `global_size = (500, 500)`, so we split our workers into 2-dimensions with 500 in the 1st and 500 in the 2nd dimension. But our code only used `get_global_id(0)`, so eventhough all workers are in use, only it's first dimension is in use and the 2nd dimension becomes redundant.\n",
        "\n",
        "We can fix this in two ways. \n",
        "1. First, we can use `get_global_id(1)` to use the 2nd dimension, or \n",
        "2. We can change `global_size = (500 * 500,)` and only use `get_global_id(0)`. Effectively this transforms the kernel into an element-wise kernel"
      ]
    },
    {
      "cell_type": "code",
      "execution_count": null,
      "metadata": {
        "id": "0-TBGV6A6UG5"
      },
      "outputs": [],
      "source": [
        "x = np.random.rand(500, 500).astype(np.float32)\n",
        "y = np.random.rand(500, 500).astype(np.float32)\n",
        "\n",
        "x_gpu2 = cl_array.to_device(queue2, x)\n",
        "y_gpu2 = cl_array.to_device(queue2, y)"
      ]
    },
    {
      "cell_type": "code",
      "execution_count": null,
      "metadata": {
        "colab": {
          "base_uri": "https://localhost:8080/"
        },
        "id": "OyUnQaqz3u_I",
        "outputId": "3c76efc6-a121-4cf7-ec18-d1158aad81e0"
      },
      "outputs": [
        {
          "data": {
            "text/plain": [
              "<pyopencl._cl.Event at 0x7f014c00c450>"
            ]
          },
          "execution_count": 47,
          "metadata": {},
          "output_type": "execute_result"
        }
      ],
      "source": [
        "global_size = (int(np.prod(x_gpu2.shape)),)\n",
        "local_size = None\n",
        "\n",
        "out_gpu = cl_array.zeros_like(x_gpu2)\n",
        "program.add(queue, global_size, local_size, \n",
        "            np.float32(1), x_gpu2.data, y_gpu2.data, out_gpu.data)"
      ]
    },
    {
      "cell_type": "code",
      "execution_count": null,
      "metadata": {
        "id": "-uxVbmuM7ig3"
      },
      "outputs": [],
      "source": [
        "np.testing.assert_almost_equal(out_gpu.get(), x + y)"
      ]
    },
    {
      "cell_type": "code",
      "execution_count": null,
      "metadata": {
        "id": "EbJHja_47icl"
      },
      "outputs": [],
      "source": [
        "add_c_code = \"\"\"\n",
        "__kernel void add(float m, __global float *a, __global float *b, __global float *out){\n",
        "    int index = get_global_id(0);\n",
        "    out[index] = m * a[index] + b[index];\n",
        "}\n",
        "\n",
        "__kernel void add_2d(float m, __global float *a, __global float *b, int width, __global float *out){\n",
        "    int col = get_global_id(0);\n",
        "    int row = get_global_id(1);\n",
        "\n",
        "    int index = row * width + col;\n",
        "    out[index] = m * a[index] + b[index];\n",
        "}\n",
        "\n",
        "__kernel void add_2d_v2(float m, __global float *a, __global float *b, int height, __global float *out){\n",
        "    int row = get_global_id(0);\n",
        "    int col = get_global_id(1);\n",
        "\n",
        "    int index = row + col * height;\n",
        "    out[index] = m * a[index] + b[index];\n",
        "}\n",
        "\"\"\""
      ]
    },
    {
      "cell_type": "code",
      "execution_count": null,
      "metadata": {
        "id": "7fj9kkkxCndh"
      },
      "outputs": [],
      "source": [
        "program = cl.Program(context, add_c_code).build()"
      ]
    },
    {
      "cell_type": "code",
      "execution_count": null,
      "metadata": {
        "id": "C2rgVALcCnbf"
      },
      "outputs": [],
      "source": [
        "x = np.random.rand(5000, 500).astype(np.float32)\n",
        "y = np.random.rand(5000, 500).astype(np.float32)\n",
        "\n",
        "x_gpu2 = cl_array.to_device(queue, x)\n",
        "y_gpu2 = cl_array.to_device(queue, y)"
      ]
    },
    {
      "cell_type": "code",
      "execution_count": null,
      "metadata": {
        "id": "DHIZy2twCt8H"
      },
      "outputs": [],
      "source": [
        "local_size = None\n",
        "\n",
        "height, width = x.shape\n",
        "\n",
        "out_gpu = cl_array.zeros_like(x_gpu2)\n",
        "event = program.add_2d(queue, x.shape[::-1], local_size, \n",
        "                       np.float32(1), x_gpu2.data, y_gpu2.data, np.int32(width), out_gpu.data)\n",
        "event.wait()\n",
        "np.testing.assert_almost_equal(out_gpu.get(), x + y)\n",
        "\n",
        "\n",
        "out_gpu = cl_array.zeros_like(x_gpu2)\n",
        "event = program.add_2d_v2(queue, x.shape, local_size, \n",
        "                          np.float32(1), x_gpu2.data, y_gpu2.data, np.int32(height), out_gpu.data)\n",
        "event.wait()\n",
        "np.testing.assert_almost_equal(out_gpu.get(), x + y)"
      ]
    },
    {
      "cell_type": "code",
      "execution_count": null,
      "metadata": {
        "id": "j1a25uqbDNMP"
      },
      "outputs": [],
      "source": [
        "np.testing.assert_almost_equal(out_gpu.get(), x + y)"
      ]
    },
    {
      "cell_type": "code",
      "execution_count": null,
      "metadata": {
        "colab": {
          "base_uri": "https://localhost:8080/"
        },
        "id": "gR_q0RWlWX_i",
        "outputId": "5afbb765-debf-4f12-bf28-0fc79969026f"
      },
      "outputs": [
        {
          "name": "stdout",
          "output_type": "stream",
          "text": [
            "251 µs ± 21 µs per loop (mean ± std. dev. of 7 runs, 100 loops each)\n"
          ]
        }
      ],
      "source": [
        "%%timeit -r 7 -n 100\n",
        "event = program.add_2d(queue, x.shape[::-1], local_size, \n",
        "                       np.float32(1), x_gpu2.data, y_gpu2.data, np.int32(width), out_gpu.data)\n",
        "event.wait()"
      ]
    },
    {
      "cell_type": "code",
      "execution_count": null,
      "metadata": {
        "colab": {
          "base_uri": "https://localhost:8080/"
        },
        "id": "A82CMWbFWjPE",
        "outputId": "b04b48bb-3285-4fc8-f535-cb4c16e70992"
      },
      "outputs": [
        {
          "name": "stdout",
          "output_type": "stream",
          "text": [
            "277 µs ± 36.7 µs per loop (mean ± std. dev. of 7 runs, 100 loops each)\n"
          ]
        }
      ],
      "source": [
        "%%timeit -r 7 -n 100\n",
        "event = program.add_2d_v2(queue, x.shape, local_size, \n",
        "                          np.float32(1), x_gpu2.data, y_gpu2.data, np.int32(height), out_gpu.data)\n",
        "event.wait()"
      ]
    },
    {
      "cell_type": "markdown",
      "metadata": {
        "id": "kpMJoVabQ4Sx"
      },
      "source": [
        "# Transpose\n",
        "\n",
        "As you may recall, the transpose of a matrix performs the operation $A_{i,j}\\to A_{j,i}$. This can be implemented trivally using the 2D organization of the workers, as seen in `naive_transpose`.\n",
        "\n",
        "You may have noticed the `__global` in the code, as well as the `global_size` and `local_size`. Like a CPU, GPUs have a global memory that is shared among all the workers but also a local memory that is shared with the local workers. As fast as global memory is, local memory is always going to be faster. \n",
        "\n",
        "### Aside - Row Major or Column Major\n",
        "Let's say that we have a matrix\n",
        "$$A = \\begin{pmatrix}1 & 2 & 3\\\\ 4 & 5 & 6\\\\ 7 & 8 & 9\\end{pmatrix}.$$\n",
        "\n",
        "Numpy stores vectors and matrices as a contiguous memory block. Meaning that when you create a new matrix, Numpy will cut out a continuous chunk of memory and store all the numbers in that chunk of memory. It can store all the numbers by the row major (C-contiguous)\n",
        "$$(1, 2, 3, 4, 5, 6, 7, 8, 9)$$\n",
        "or by column major (Fortran-contiguous)\n",
        "$$(1, 4, 7, 2, 5, 8, 3, 6, 9)$$"
      ]
    },
    {
      "cell_type": "code",
      "execution_count": null,
      "metadata": {
        "colab": {
          "base_uri": "https://localhost:8080/"
        },
        "id": "zSTKZ8LrtYF6",
        "outputId": "5a69ee23-1ee8-4f19-b742-e0409dd08ad0"
      },
      "outputs": [
        {
          "data": {
            "text/plain": [
              "  C_CONTIGUOUS : True\n",
              "  F_CONTIGUOUS : False\n",
              "  OWNDATA : True\n",
              "  WRITEABLE : True\n",
              "  ALIGNED : True\n",
              "  WRITEBACKIFCOPY : False\n",
              "  UPDATEIFCOPY : False"
            ]
          },
          "execution_count": 1,
          "metadata": {},
          "output_type": "execute_result"
        }
      ],
      "source": [
        "import numpy as np\n",
        "\n",
        "x = np.random.rand(3, 3)\n",
        "x.flags"
      ]
    },
    {
      "cell_type": "code",
      "execution_count": null,
      "metadata": {
        "colab": {
          "base_uri": "https://localhost:8080/"
        },
        "id": "l2qr6Crptdq4",
        "outputId": "dfc25ed7-c3f3-43da-82c4-4c0b3e1458db"
      },
      "outputs": [
        {
          "data": {
            "text/plain": [
              "  C_CONTIGUOUS : False\n",
              "  F_CONTIGUOUS : True\n",
              "  OWNDATA : False\n",
              "  WRITEABLE : True\n",
              "  ALIGNED : True\n",
              "  WRITEBACKIFCOPY : False\n",
              "  UPDATEIFCOPY : False"
            ]
          },
          "execution_count": 2,
          "metadata": {},
          "output_type": "execute_result"
        }
      ],
      "source": [
        "x.T.flags"
      ]
    },
    {
      "cell_type": "markdown",
      "metadata": {
        "id": "yGQ1wuZYthQY"
      },
      "source": [
        "Why is the transpose of a matrix Fortran-Contiguous not C-contiguous?"
      ]
    },
    {
      "cell_type": "markdown",
      "metadata": {
        "id": "sJHpszD4tXE6"
      },
      "source": [
        "\n",
        "### Aside to the Aside - Non-contiguous Memory\n",
        "It may or may not be hard to know what a non-contiguous memory block means. Non-contiguous memory follows a linked-list structure. \n",
        "\n",
        "https://levelup.gitconnected.com/array-vs-linked-list-data-structure-c5c0ff405f16\n"
      ]
    },
    {
      "cell_type": "markdown",
      "metadata": {
        "id": "lK9QstPct88I"
      },
      "source": [
        "### Coalescing Memory\n",
        "By default, OpenCl stores matrices a C-contiguous memory. So for a $[n\\times m]$ matrix, the memory looks something like\n",
        "$$(A_{0, 0}, A_{0, 1}, \\cdots, A_{i,j}, A_{i, j + 1}, A_{i, j + 2}, A_{i, j + 3}, \\cdots, A_{n, m-1}, A_{n, m})$$\n",
        "\n",
        "Now the transpose requires access"
      ]
    },
    {
      "cell_type": "markdown",
      "metadata": {
        "id": "tZUGiYBZkN7K"
      },
      "source": [
        "\n",
        "\n",
        "### Coalescing Memory\n",
        "\n",
        "\n",
        "https://www.cs.rochester.edu/~cding/Archive/MSP04Proceedings/p2_kawahito.pdf\n"
      ]
    },
    {
      "cell_type": "code",
      "execution_count": null,
      "metadata": {
        "id": "wkViFQ-0YR_s"
      },
      "outputs": [],
      "source": [
        "# https://github.com/inducer/pyopencl/blob/main/examples/transpose.py\n",
        "# https://github.com/sschaetz/nvidia-opencl-examples/blob/master/OpenCL/src/oclTranspose/transpose.cl"
      ]
    },
    {
      "cell_type": "code",
      "execution_count": null,
      "metadata": {
        "id": "5xeggzVdRBXr"
      },
      "outputs": [],
      "source": [
        "transpose_program = \"\"\"\n",
        "#define BLOCK_SIZE 16\n",
        "#define A_BLOCK_STRIDE (BLOCK_SIZE * width)\n",
        "#define A_T_BLOCK_STRIDE (BLOCK_SIZE * height)\n",
        "\n",
        "__kernel void naive_transpose(__global float *a_t, __global float *a, int width, int height){\n",
        "    unsigned int col = get_global_id(1);\n",
        "    unsigned int row = get_global_id(0);\n",
        "\n",
        "    a_t[col * height + row] = a[row * width + col];\n",
        "}\n",
        "\n",
        "__kernel void transpose(__global float *a_t, __global float *a, int width, int height, __local float *a_local){\n",
        "    int global_col = get_global_id(0);\n",
        "    int global_row = get_global_id(1);\n",
        "\n",
        "    int local_col = get_local_id(0);\n",
        "    int local_row = get_local_id(1);\n",
        "\n",
        "    int local_index = local_row * BLOCK_SIZE + local_col;\n",
        "\n",
        "    a_local[local_index] = a[global_row * width + global_col];\n",
        "\n",
        "    barrier(CLK_LOCAL_MEM_FENCE);\n",
        "\n",
        "    int group_col = get_group_id(0);\n",
        "    int group_row = get_group_id(1);\n",
        "\n",
        "    /* Transpose the blocks */\n",
        "    global_row = group_col * BLOCK_SIZE + local_row;\n",
        "    global_col = group_row * BLOCK_SIZE + local_col;\n",
        "\n",
        "    a_t[global_row * height + global_col] = a_local[local_col * BLOCK_SIZE + local_row];\n",
        "}\n",
        "\"\"\""
      ]
    },
    {
      "cell_type": "code",
      "execution_count": null,
      "metadata": {
        "id": "D6L3KmGnRHE7"
      },
      "outputs": [],
      "source": [
        "program = cl.Program(context, transpose_program).build()"
      ]
    },
    {
      "cell_type": "code",
      "execution_count": null,
      "metadata": {
        "id": "pA7u30-HNJkC"
      },
      "outputs": [],
      "source": [
        "BLOCK_SIZE = 16"
      ]
    },
    {
      "cell_type": "code",
      "execution_count": null,
      "metadata": {
        "colab": {
          "base_uri": "https://localhost:8080/"
        },
        "id": "nX0ROz8pIuZy",
        "outputId": "ffa60b7f-3d37-4611-e345-31506fa2e981"
      },
      "outputs": [
        {
          "data": {
            "text/plain": [
              "(8192, 8192)"
            ]
          },
          "execution_count": 106,
          "metadata": {},
          "output_type": "execute_result"
        }
      ],
      "source": [
        "x = np.random.rand(2 ** 13, 2 ** 13).astype(np.float32)\n",
        "x_device = cl_array.to_device(queue, x)\n",
        "\n",
        "x.shape"
      ]
    },
    {
      "cell_type": "code",
      "execution_count": null,
      "metadata": {
        "id": "WWQvfegzfyhN"
      },
      "outputs": [],
      "source": [
        "global_size = x_device.shape\n",
        "local_size = (BLOCK_SIZE, BLOCK_SIZE)\n",
        "\n",
        "width, height = x_device.shape\n",
        "\n",
        "x_local = cl.LocalMemory(4 * BLOCK_SIZE * (BLOCK_SIZE + 1))\n",
        "x_transpose = cl_array.zeros_like(x_device)"
      ]
    },
    {
      "cell_type": "code",
      "execution_count": null,
      "metadata": {
        "id": "kpSqFXPIUGce"
      },
      "outputs": [],
      "source": [
        "event = program.transpose_v3(queue, global_size, local_size,\n",
        "                               x_transpose.data, x_device.data, np.int32(width), np.int32(height), x_local)\n",
        "event.wait()"
      ]
    },
    {
      "cell_type": "code",
      "execution_count": null,
      "metadata": {
        "id": "q-C4dNzwgVk4"
      },
      "outputs": [],
      "source": [
        "np.testing.assert_almost_equal(x_transpose.get(), x.T)"
      ]
    },
    {
      "cell_type": "code",
      "execution_count": null,
      "metadata": {
        "colab": {
          "base_uri": "https://localhost:8080/"
        },
        "id": "OK8HfyWvhWbY",
        "outputId": "f57b7ce1-a75b-4015-b022-4529ed48e8d7"
      },
      "outputs": [
        {
          "name": "stdout",
          "output_type": "stream",
          "text": [
            "4.03 ms ± 57.9 µs per loop (mean ± std. dev. of 7 runs, 100 loops each)\n"
          ]
        }
      ],
      "source": [
        "%%timeit\n",
        "event = program.naive_transpose(queue, global_size, local_size,\n",
        "                                x_transpose.data, x_device.data, np.int32(width), np.int32(height))\n",
        "event.wait()"
      ]
    },
    {
      "cell_type": "code",
      "execution_count": null,
      "metadata": {
        "colab": {
          "base_uri": "https://localhost:8080/"
        },
        "id": "KPMRNtLJfXGT",
        "outputId": "2941da31-14fd-4160-e75c-5272c2f73a82"
      },
      "outputs": [
        {
          "name": "stdout",
          "output_type": "stream",
          "text": [
            "3.55 ms ± 6.66 µs per loop (mean ± std. dev. of 7 runs, 100 loops each)\n"
          ]
        }
      ],
      "source": [
        "%%timeit\n",
        "event = program.transpose(queue, global_size, local_size,\n",
        "                          x_transpose.data, x_device.data, np.int32(width), np.int32(height), x_local)\n",
        "event.wait()"
      ]
    },
    {
      "cell_type": "markdown",
      "metadata": {
        "id": "3OVyRxBrwZxq"
      },
      "source": [
        "### Cleaning It Up\n",
        "It is a lot of code to write if we want to take the transpose of a matrix. To make it simpler, we will use classes"
      ]
    },
    {
      "cell_type": "code",
      "execution_count": null,
      "metadata": {
        "id": "Vmxqq2iRirUj"
      },
      "outputs": [],
      "source": [
        "class GPUTranspose:\n",
        "    def __init__(self, context, queue):\n",
        "        self.context = context\n",
        "        self.queue = queue\n",
        "        self.program = cl.Program(self.context, transpose_program).build()\n",
        "\n",
        "    def transpose(self, x):\n",
        "        \"\"\"  x is assumed to be on the device \"\"\"\n",
        "        global_size = x.shape\n",
        "        local_size = (16, 16)\n",
        "\n",
        "        width, height = x.shape\n",
        "\n",
        "        x_transpose = cl_array.zeros_like(x)\n",
        "        a_local = cl.LocalMemory(4 * 16 * (16 + 1))\n",
        "        \n",
        "        self.program.transpose(self.queue, global_size, local_size,\n",
        "                               x_transpose.data, x.data, np.int32(width), np.int32(height), a_local).wait()\n",
        "        return x_transpose\n",
        "\n",
        "    def naive_transpose(self, x):\n",
        "        global_size = x.shape\n",
        "        local_size = None\n",
        "\n",
        "        x_transpose = cl_array.zeros_like(x)\n",
        "        self.program.naive_transpose(queue, global_size, local_size,\n",
        "                                     x_transpose.data, x.data, np.int32(width), np.int32(height)).wait()\n",
        "        return x_transpose"
      ]
    },
    {
      "cell_type": "code",
      "execution_count": null,
      "metadata": {
        "id": "2i2rnf9gyFxo"
      },
      "outputs": [],
      "source": [
        "gpu_transpose = GPUTranspose(context, queue)"
      ]
    },
    {
      "cell_type": "code",
      "execution_count": null,
      "metadata": {
        "id": "8MwqRephyPN8"
      },
      "outputs": [],
      "source": [
        "x = np.random.rand(16 * 1000, 16 * 1000).astype(np.float32)\n",
        "x_device = cl_array.to_device(queue, x)"
      ]
    },
    {
      "cell_type": "code",
      "execution_count": null,
      "metadata": {
        "colab": {
          "base_uri": "https://localhost:8080/"
        },
        "id": "dvycnc2fyWie",
        "outputId": "04c441b3-a41d-4b47-b691-01c607506692"
      },
      "outputs": [
        {
          "name": "stdout",
          "output_type": "stream",
          "text": [
            "27.2 ms ± 140 µs per loop (mean ± std. dev. of 7 runs, 10 loops each)\n"
          ]
        }
      ],
      "source": [
        "%%timeit\n",
        "x_transpose = gpu_transpose.transpose(x_device)"
      ]
    },
    {
      "cell_type": "code",
      "execution_count": null,
      "metadata": {
        "colab": {
          "base_uri": "https://localhost:8080/"
        },
        "id": "r1lYx6p7ynIo",
        "outputId": "c965ed2e-c42a-47ae-b2bb-7dbb20314b58"
      },
      "outputs": [
        {
          "name": "stdout",
          "output_type": "stream",
          "text": [
            "76.5 ms ± 660 µs per loop (mean ± std. dev. of 7 runs, 10 loops each)\n"
          ]
        }
      ],
      "source": [
        "%%timeit\n",
        "x_transpose = gpu_transpose.naive_transpose(x_device)"
      ]
    },
    {
      "cell_type": "markdown",
      "metadata": {
        "id": "P0GsGep9WdxJ"
      },
      "source": [
        "# Question\n",
        "1. Try and write the 2D heat equation solver using PyOpenCL\n",
        "2. Try and write the sum of an array"
      ]
    }
  ],
  "metadata": {
    "accelerator": "GPU",
    "colab": {
      "provenance": []
    },
    "gpuClass": "standard",
    "kernelspec": {
      "display_name": "Python 3",
      "name": "python3"
    },
    "language_info": {
      "codemirror_mode": {
        "name": "ipython",
        "version": 3
      },
      "file_extension": ".py",
      "mimetype": "text/x-python",
      "name": "python",
      "nbconvert_exporter": "python",
      "pygments_lexer": "ipython3",
      "version": "3.10.10"
    }
  },
  "nbformat": 4,
  "nbformat_minor": 0
}
