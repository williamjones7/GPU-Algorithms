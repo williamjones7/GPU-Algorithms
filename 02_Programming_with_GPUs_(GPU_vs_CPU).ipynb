{
  "nbformat": 4,
  "nbformat_minor": 0,
  "metadata": {
    "colab": {
      "provenance": []
    },
    "kernelspec": {
      "name": "python3",
      "display_name": "Python 3"
    },
    "language_info": {
      "name": "python"
    },
    "accelerator": "GPU",
    "gpuClass": "standard"
  },
  "cells": [
    {
      "cell_type": "markdown",
      "metadata": {
        "id": "k8IiHHY18Kl3"
      },
      "source": [
        "# CPU vs GPU\n",
        "\n",
        "CPU, or Central Processing Unit and GPU, or Graphics Processing Unit. These two units are quite integral parts of a modern day computer. With CPU's and GPU's designed to handle different tasks.\n",
        "\n",
        "The 2 major difference between CPUs and GPUs are:\n",
        "1. The number of cores\n",
        "2. The speed of each core\n",
        "\n",
        "#### Motivation\n",
        "Suppose you wanted to build a house, or you wanted to get some work done, and you want to get it done as quick as you can. Well, there are two ways you can do this\n",
        "1. Hire few, but sophisticated and quick workers. Or\n",
        "2. Hire many, but unsophisticated and slow workers\n",
        "\n",
        "In the beginning, computers only had 1 CPU core (i.e. 1 sophiscated and quick worker). As computers evolved, the first aim was to make this core more quicker and efficient, known as the clock speed. But soon we realised that we can just add more cores (hire more workers), which is why you hear 4 core or 8 core CPU's.\n",
        "\n",
        "<img src=\"https://pbs.twimg.com/media/Cip6MuIXAAA9cfm.jpg\" width=500/>\n",
        "\n",
        "\n",
        "\n",
        "The problem with CPU's is because they are so sophisticated, each core is relatively large in physical size, and quite expensive. So it becomes quite hard to add multiple CPU's to a computer.\n",
        "\n",
        "GPU's take a different approach, each core (or worker) is slower and unsophiscated. Making them cheaper and allowing one to fit more on a computer. So, while each worker is slower, GPU benefits greately from the sheer number of workers all working simultaneously.\n",
        "\n",
        "\n",
        "CPUs tend to have 1-8 cores, while GPUs tend to have 400-4000 cores. \n",
        "\n",
        "#### Higway Analogy\n",
        "Another way to put this is to think of CPUs as a highway with only 1-8 lanes, while GPUs are normal roads with 1000 lanes. The problem is that each lane can only handle 1 car at a time.\n",
        "\n",
        "Imagine, then, you needed to move items across the highway/normal road. If you can fit everything into 1 car then of course the highway would be the better option. If you can't fit it all into 1 car, then it might still be quicker to go back and forth on the highway.\n",
        "\n",
        "But, there comes a point where going back and forth on the highway takes too long. It would simply be better to use the slower roads, but use the fact that you have 1000 lanes and send 1000 cars at the same time.\n",
        "\n",
        "There is more complications if you actually do want to program on the GPU vs CPU, but the main idea is that \n",
        "- CPUs are good at doing 1 thing very quickly\n",
        "- GPUs are good at doing many things all at the same time\n",
        "\n",
        "#### Machine Learning and High Performance Computing\n",
        "The reason why modern machine learning (and crypto-currency) is so obssessed with GPUs (and now TPUs) is because the computations are relatively simple, but a lot needs to be done. Allowing for high amounts of parralism.\n",
        "\n",
        "<img src=\"http://homepages.math.uic.edu/~jan/mcs572f16/mcs572notes/_images/figflopsGPU_CPU.png\" width=500/>"
      ]
    },
    {
      "cell_type": "markdown",
      "metadata": {
        "id": "XCbD-EYw8N3L"
      },
      "source": [
        "### Quick Example\n",
        "As a quick example for a situation where CPU vs GPU would be better we only need to look at what we did before.\n",
        "\n",
        "```\n",
        "# Computing Sum - Good on CPU\n",
        "elements = [1, 2, 3, 4, 5, 6, 7, 8, 9, 10]\n",
        "total = 0\n",
        "for e in elements:\n",
        "    total += e\n",
        "\n",
        "# Squaring Elements - Good on GPU\n",
        "[e ** 2 for e in elements]\n",
        "```\n",
        "\n",
        "Suppose we wanted to square the individual elements in a list. This would be very good on the GPU because squaring 0th element can be performed at the same time as squaring the 1st element, which can also be peformed at the same time as the 2nd element, etc.\n",
        "\n",
        "But, if we wanted to sum all the elements in the list, we need to add the 0th item to the 1st item. But it is only after we made this addition can we then add the 2nd item. Then once we made this addition can we add the 3rd item, etc. Which is the reason why using a CPU would be better."
      ]
    },
    {
      "cell_type": "markdown",
      "metadata": {
        "id": "4e53YRNw9YZX"
      },
      "source": [
        "### Hardware Notes\n",
        "One reason why most programs run on CPUs not GPUs is because all computers have a CPU, but not all have GPUs. In fact, if you have a laptop then you have an integrated GPU, but you need a dedicated GPU in order to get the benefits of GPU programming.\n",
        "\n",
        "### Using GPUs on Colab\n",
        "Edit -> Notebook Settings -> Hardware Accelertor -> GPU -> Save"
      ]
    },
    {
      "cell_type": "code",
      "source": [
        "# For some reason we need this to install pyopencl on Colab\n",
        "import locale\n",
        "def getpreferredencoding(do_setlocale = True):\n",
        "    return \"UTF-8\"\n",
        "locale.getpreferredencoding = getpreferredencoding"
      ],
      "metadata": {
        "id": "Sl1d3HMObBdM"
      },
      "execution_count": null,
      "outputs": []
    },
    {
      "cell_type": "code",
      "metadata": {
        "colab": {
          "base_uri": "https://localhost:8080/"
        },
        "id": "bd3QiRBh9b2G",
        "outputId": "9c08793d-dc41-4b25-c162-49a0380bc2eb"
      },
      "source": [
        "!pip install pyopencl"
      ],
      "execution_count": null,
      "outputs": [
        {
          "output_type": "stream",
          "name": "stdout",
          "text": [
            "Looking in indexes: https://pypi.org/simple, https://us-python.pkg.dev/colab-wheels/public/simple/\n",
            "Collecting pyopencl\n",
            "  Downloading pyopencl-2022.3.1-cp38-cp38-manylinux_2_17_x86_64.manylinux2014_x86_64.whl (917 kB)\n",
            "\u001b[2K     \u001b[90m━━━━━━━━━━━━━━━━━━━━━━━━━━━━━━━━━━━━━━━\u001b[0m \u001b[32m917.9/917.9 KB\u001b[0m \u001b[31m8.9 MB/s\u001b[0m eta \u001b[36m0:00:00\u001b[0m\n",
            "\u001b[?25hRequirement already satisfied: numpy in /usr/local/lib/python3.8/dist-packages (from pyopencl) (1.21.6)\n",
            "Collecting pytools>=2021.2.7\n",
            "  Downloading pytools-2022.1.14.tar.gz (74 kB)\n",
            "\u001b[2K     \u001b[90m━━━━━━━━━━━━━━━━━━━━━━━━━━━━━━━━━━━━━━━━\u001b[0m \u001b[32m74.6/74.6 KB\u001b[0m \u001b[31m4.4 MB/s\u001b[0m eta \u001b[36m0:00:00\u001b[0m\n",
            "\u001b[?25h  Preparing metadata (setup.py) ... \u001b[?25l\u001b[?25hdone\n",
            "Requirement already satisfied: platformdirs>=2.2.0 in /usr/local/lib/python3.8/dist-packages (from pyopencl) (3.0.0)\n",
            "Requirement already satisfied: typing_extensions>=4.0 in /usr/local/lib/python3.8/dist-packages (from pytools>=2021.2.7->pyopencl) (4.4.0)\n",
            "Building wheels for collected packages: pytools\n",
            "  Building wheel for pytools (setup.py) ... \u001b[?25l\u001b[?25hdone\n",
            "  Created wheel for pytools: filename=pytools-2022.1.14-py2.py3-none-any.whl size=69870 sha256=a933c4e7079957e7b84f77b405297ea6600462fed94069ff4a76c79cbdc25a55\n",
            "  Stored in directory: /root/.cache/pip/wheels/cb/fc/a9/1e7e56fe02d7f58eaff555f22e79d4fc2d817012291254bae2\n",
            "Successfully built pytools\n",
            "Installing collected packages: pytools, pyopencl\n",
            "Successfully installed pyopencl-2022.3.1 pytools-2022.1.14\n"
          ]
        }
      ]
    },
    {
      "cell_type": "code",
      "metadata": {
        "id": "Uelka5jB9dZp",
        "colab": {
          "base_uri": "https://localhost:8080/",
          "height": 240
        },
        "outputId": "10745941-6a68-4903-fa15-2ece32d77ca7"
      },
      "source": [
        "import pyopencl as cl\n",
        "import pyopencl.array as cl_array\n",
        "from pyopencl.elementwise import ElementwiseKernel\n",
        "\n",
        "platform = cl.get_platforms()[0]\n",
        "device = platform.get_devices()[0]\n",
        "\n",
        "context = cl.Context([device])  # Initialize the Context\n",
        "queue = cl.CommandQueue(context)  # Instantiate a Queue"
      ],
      "execution_count": null,
      "outputs": [
        {
          "output_type": "error",
          "ename": "LogicError",
          "evalue": "ignored",
          "traceback": [
            "\u001b[0;31m---------------------------------------------------------------------------\u001b[0m",
            "\u001b[0;31mLogicError\u001b[0m                                Traceback (most recent call last)",
            "\u001b[0;32m<ipython-input-3-418a13b517c1>\u001b[0m in \u001b[0;36m<module>\u001b[0;34m\u001b[0m\n\u001b[1;32m      3\u001b[0m \u001b[0;32mfrom\u001b[0m \u001b[0mpyopencl\u001b[0m\u001b[0;34m.\u001b[0m\u001b[0melementwise\u001b[0m \u001b[0;32mimport\u001b[0m \u001b[0mElementwiseKernel\u001b[0m\u001b[0;34m\u001b[0m\u001b[0;34m\u001b[0m\u001b[0m\n\u001b[1;32m      4\u001b[0m \u001b[0;34m\u001b[0m\u001b[0m\n\u001b[0;32m----> 5\u001b[0;31m \u001b[0mplatform\u001b[0m \u001b[0;34m=\u001b[0m \u001b[0mcl\u001b[0m\u001b[0;34m.\u001b[0m\u001b[0mget_platforms\u001b[0m\u001b[0;34m(\u001b[0m\u001b[0;34m)\u001b[0m\u001b[0;34m[\u001b[0m\u001b[0;36m0\u001b[0m\u001b[0;34m]\u001b[0m\u001b[0;34m\u001b[0m\u001b[0;34m\u001b[0m\u001b[0m\n\u001b[0m\u001b[1;32m      6\u001b[0m \u001b[0mdevice\u001b[0m \u001b[0;34m=\u001b[0m \u001b[0mplatform\u001b[0m\u001b[0;34m.\u001b[0m\u001b[0mget_devices\u001b[0m\u001b[0;34m(\u001b[0m\u001b[0;34m)\u001b[0m\u001b[0;34m[\u001b[0m\u001b[0;36m0\u001b[0m\u001b[0;34m]\u001b[0m\u001b[0;34m\u001b[0m\u001b[0;34m\u001b[0m\u001b[0m\n\u001b[1;32m      7\u001b[0m \u001b[0;34m\u001b[0m\u001b[0m\n",
            "\u001b[0;31mLogicError\u001b[0m: clGetPlatformIDs failed: PLATFORM_NOT_FOUND_KHR"
          ]
        }
      ]
    },
    {
      "cell_type": "code",
      "metadata": {
        "colab": {
          "base_uri": "https://localhost:8080/",
          "height": 240
        },
        "id": "csWS0UFe9ezJ",
        "outputId": "07c85cf6-b869-428e-ed32-c8a69f8a8b92"
      },
      "source": [
        "flags = [('Name', device.name),\n",
        "         ('Version', device.version),\n",
        "         ('Type', cl.device_type.to_string(device.type)),\n",
        "         ('Memory (global)', str(device.global_mem_size)),\n",
        "         ('Memory (local)', str(device.local_mem_size)),\n",
        "         ('Address bits', str(device.address_bits)),\n",
        "         ('Max work item dims', str(device.max_work_item_dimensions)),\n",
        "         ('Max work group size', str(device.max_work_group_size)),\n",
        "         ('Max compute units', str(device.max_compute_units)),\n",
        "         ('Driver version', device.driver_version),\n",
        "         ('Image support', str(bool(device.image_support))),\n",
        "         ('Little endian', str(bool(device.endian_little))),\n",
        "         ('Device available', str(bool(device.available))),\n",
        "         ('Compiler available', str(bool(device.compiler_available)))]\n",
        "flags"
      ],
      "execution_count": null,
      "outputs": [
        {
          "output_type": "error",
          "ename": "NameError",
          "evalue": "ignored",
          "traceback": [
            "\u001b[0;31m---------------------------------------------------------------------------\u001b[0m",
            "\u001b[0;31mNameError\u001b[0m                                 Traceback (most recent call last)",
            "\u001b[0;32m<ipython-input-4-f181f4847642>\u001b[0m in \u001b[0;36m<module>\u001b[0;34m\u001b[0m\n\u001b[0;32m----> 1\u001b[0;31m flags = [('Name', device.name),\n\u001b[0m\u001b[1;32m      2\u001b[0m          \u001b[0;34m(\u001b[0m\u001b[0;34m'Version'\u001b[0m\u001b[0;34m,\u001b[0m \u001b[0mdevice\u001b[0m\u001b[0;34m.\u001b[0m\u001b[0mversion\u001b[0m\u001b[0;34m)\u001b[0m\u001b[0;34m,\u001b[0m\u001b[0;34m\u001b[0m\u001b[0;34m\u001b[0m\u001b[0m\n\u001b[1;32m      3\u001b[0m          \u001b[0;34m(\u001b[0m\u001b[0;34m'Type'\u001b[0m\u001b[0;34m,\u001b[0m \u001b[0mcl\u001b[0m\u001b[0;34m.\u001b[0m\u001b[0mdevice_type\u001b[0m\u001b[0;34m.\u001b[0m\u001b[0mto_string\u001b[0m\u001b[0;34m(\u001b[0m\u001b[0mdevice\u001b[0m\u001b[0;34m.\u001b[0m\u001b[0mtype\u001b[0m\u001b[0;34m)\u001b[0m\u001b[0;34m)\u001b[0m\u001b[0;34m,\u001b[0m\u001b[0;34m\u001b[0m\u001b[0;34m\u001b[0m\u001b[0m\n\u001b[1;32m      4\u001b[0m          \u001b[0;34m(\u001b[0m\u001b[0;34m'Memory (global)'\u001b[0m\u001b[0;34m,\u001b[0m \u001b[0mstr\u001b[0m\u001b[0;34m(\u001b[0m\u001b[0mdevice\u001b[0m\u001b[0;34m.\u001b[0m\u001b[0mglobal_mem_size\u001b[0m\u001b[0;34m)\u001b[0m\u001b[0;34m)\u001b[0m\u001b[0;34m,\u001b[0m\u001b[0;34m\u001b[0m\u001b[0;34m\u001b[0m\u001b[0m\n\u001b[1;32m      5\u001b[0m          \u001b[0;34m(\u001b[0m\u001b[0;34m'Memory (local)'\u001b[0m\u001b[0;34m,\u001b[0m \u001b[0mstr\u001b[0m\u001b[0;34m(\u001b[0m\u001b[0mdevice\u001b[0m\u001b[0;34m.\u001b[0m\u001b[0mlocal_mem_size\u001b[0m\u001b[0;34m)\u001b[0m\u001b[0;34m)\u001b[0m\u001b[0;34m,\u001b[0m\u001b[0;34m\u001b[0m\u001b[0;34m\u001b[0m\u001b[0m\n",
            "\u001b[0;31mNameError\u001b[0m: name 'device' is not defined"
          ]
        }
      ]
    },
    {
      "cell_type": "code",
      "metadata": {
        "id": "UaEQVX4a9ox5"
      },
      "source": [
        "import numpy as np\n",
        "import matplotlib.pyplot as plt\n",
        "import time"
      ],
      "execution_count": null,
      "outputs": []
    },
    {
      "cell_type": "code",
      "metadata": {
        "id": "sjwcNtXG9qQQ"
      },
      "source": [
        "gpu_add = ElementwiseKernel(context, \"float *x1, float *x2, float *out\", \"out[i] = x1[i] + x2[i]\", 'add')"
      ],
      "execution_count": null,
      "outputs": []
    },
    {
      "cell_type": "code",
      "metadata": {
        "colab": {
          "base_uri": "https://localhost:8080/"
        },
        "id": "S6H9oxC69rzD",
        "outputId": "5e6ad5d0-4578-45e9-dd84-20fedd3a66eb"
      },
      "source": [
        "n = 100\n",
        "\n",
        "x1 = np.random.rand(n).astype(np.float32)\n",
        "x2 = np.random.rand(n).astype(np.float32)\n",
        "\n",
        "x1_gpu = cl_array.to_device(queue, x1)\n",
        "x2_gpu = cl_array.to_device(queue, x2)\n",
        "out_gpu = cl_array.empty_like(x1_gpu)\n",
        "\n",
        "# I need to do this for technical reasons, not important\n",
        "gpu_add(x1_gpu, x2_gpu, out_gpu)"
      ],
      "execution_count": null,
      "outputs": [
        {
          "output_type": "execute_result",
          "data": {
            "text/plain": [
              "<pyopencl._cl.Event at 0x7f93b1a0e470>"
            ]
          },
          "metadata": {
            "tags": []
          },
          "execution_count": 29
        }
      ]
    },
    {
      "cell_type": "code",
      "metadata": {
        "id": "0pL1CBrt9r1U"
      },
      "source": [
        "def computation_time_for_cpu_add(x1, x2):\n",
        "    start = time.time()\n",
        "    out = x1 + x2\n",
        "    end = time.time()\n",
        "\n",
        "    return end - start\n",
        "\n",
        "def computation_time_for_gpu_add(x1_gpu, x2_gpu, out_gpu):\n",
        "    start = time.time()\n",
        "    event = gpu_add(x1_gpu, x2_gpu, out_gpu).add()\n",
        "    end = time.time()\n",
        "\n",
        "    return end - start"
      ],
      "execution_count": null,
      "outputs": []
    },
    {
      "cell_type": "markdown",
      "metadata": {
        "id": "BGNj7zP-a2oy"
      },
      "source": [
        "What we are going to do here is to compare what happens when we add 2 arrays on the GPU vs CPU. We will do this for array lengths: 0, 10000, 20000, 30000, ..., 1000000. "
      ]
    },
    {
      "cell_type": "code",
      "metadata": {
        "id": "FawpGsC19r3d"
      },
      "source": [
        "n_vals = np.arange(0, 1000000, 10000)\n",
        "num_trials = 20\n",
        "cpu_times = []\n",
        "gpu_times = []\n",
        "\n",
        "for n in n_vals:\n",
        "    x1 = np.random.rand(n).astype(np.float32)\n",
        "    x2 = np.random.rand(n).astype(np.float32)\n",
        "\n",
        "    x1_gpu = cl_array.to_device(queue, x1)\n",
        "    x2_gpu = cl_array.to_device(queue, x2)\n",
        "    out_gpu = cl_array.empty_like(x1_gpu)\n",
        "\n",
        "    average_cpu_time = np.mean([computation_time_for_cpu_add(x1, x2) for _ in range(num_trials)])\n",
        "    average_gpu_time = np.mean([computation_time_for_gpu_add(x1_gpu, x2_gpu, out_gpu) for _ in range(num_trials)])\n",
        "\n",
        "    cpu_times.append(average_cpu_time)\n",
        "    gpu_times.append(average_gpu_time)"
      ],
      "execution_count": null,
      "outputs": []
    },
    {
      "cell_type": "code",
      "metadata": {
        "colab": {
          "base_uri": "https://localhost:8080/",
          "height": 442
        },
        "id": "DMnNCLPq9vEF",
        "outputId": "7d8d89be-cf4f-4b8b-9c07-84e5f2fd7509"
      },
      "source": [
        "plt.figure(figsize=(13, 7))\n",
        "plt.plot(n_vals, cpu_times, 'o--', label='cpu')\n",
        "plt.plot(n_vals, gpu_times, 'o--', label='gpu')\n",
        "plt.legend()\n",
        "plt.ylabel('Time Taken (sec)');\n",
        "plt.xlabel('Array Length');"
      ],
      "execution_count": null,
      "outputs": [
        {
          "output_type": "display_data",
          "data": {
            "image/png": "[encoded data removed]",
            "text/plain": [
              "<Figure size 936x504 with 1 Axes>"
            ]
          },
          "metadata": {
            "tags": [],
            "needs_background": "light"
          }
        }
      ]
    },
    {
      "cell_type": "code",
      "metadata": {
        "id": "4vtT0k9j9w7l"
      },
      "source": [
        "def computation_time_for_cpu_array_sum(x1):\n",
        "    start = time.time()\n",
        "    out = np.sum(x1)\n",
        "    end = time.time()\n",
        "\n",
        "    return end - start\n",
        "\n",
        "array_sum_source_code = \"\"\"\n",
        "__kernel void predict(__global const float *x, const int array_length, \n",
        "                      __global float *out)\n",
        "{ \n",
        "    float total = 0.0;\n",
        "    for (int n = 0; n < array_length; n++){\n",
        "        total += x[n];\n",
        "    }\n",
        "    out[0] = total;\n",
        "}\"\"\"\n",
        "\n",
        "array_program = cl.Program(context, array_sum_source_code).build()\n",
        "\n",
        "def computation_time_for_gpu_array_sum(x1_gpu):\n",
        "    n = np.int32(len(x1_gpu))\n",
        "    out = cl_array.zeros(queue, (1,), np.float32)\n",
        "    \n",
        "    start = time.time()\n",
        "    event = array_program.predict(queue, (1,), None, x1_gpu.data, n, out.data)\n",
        "    event.wait()   \n",
        "    end = time.time()\n",
        "\n",
        "    return end - start"
      ],
      "execution_count": null,
      "outputs": []
    },
    {
      "cell_type": "code",
      "metadata": {
        "id": "JXydQ_zr9w9s"
      },
      "source": [
        "n_vals = np.arange(10, 1000000, 10000)\n",
        "num_trials = 20\n",
        "cpu_times = []\n",
        "gpu_times = []\n",
        "\n",
        "for n in n_vals:\n",
        "    x1 = np.random.rand(n).astype(np.float32)\n",
        "    x1_gpu = cl_array.to_device(queue, x1)\n",
        "\n",
        "    average_cpu_time = np.mean([computation_time_for_cpu_array_sum(x1) for _ in range(num_trials)])\n",
        "    average_gpu_time = np.mean([computation_time_for_gpu_array_sum(x1_gpu) for _ in range(num_trials)])\n",
        "\n",
        "    cpu_times.append(average_cpu_time)\n",
        "    gpu_times.append(average_gpu_time)"
      ],
      "execution_count": null,
      "outputs": []
    },
    {
      "cell_type": "code",
      "metadata": {
        "colab": {
          "base_uri": "https://localhost:8080/",
          "height": 442
        },
        "id": "ZeVJO8bf9w_9",
        "outputId": "88dd0d37-85f3-41ed-c6bf-c2cccfa9f359"
      },
      "source": [
        "plt.figure(figsize=(13, 7))\n",
        "plt.plot(n_vals, cpu_times, 'o--', label='cpu')\n",
        "plt.plot(n_vals, gpu_times, 'o--', label='gpu')\n",
        "plt.legend()\n",
        "plt.ylabel('Time Taken (sec)');\n",
        "plt.xlabel('Array Length');"
      ],
      "execution_count": null,
      "outputs": [
        {
          "output_type": "display_data",
          "data": {
            "image/png": "[encoded data removed]",
            "text/plain": [
              "<Figure size 936x504 with 1 Axes>"
            ]
          },
          "metadata": {
            "tags": [],
            "needs_background": "light"
          }
        }
      ]
    }
  ]
}