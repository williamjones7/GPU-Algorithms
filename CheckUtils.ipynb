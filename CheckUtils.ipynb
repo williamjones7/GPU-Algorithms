{
 "cells": [
  {
   "attachments": {},
   "cell_type": "markdown",
   "metadata": {},
   "source": [
    "# Test for Utils"
   ]
  },
  {
   "cell_type": "code",
   "execution_count": 1,
   "metadata": {},
   "outputs": [],
   "source": [
    "from PyNetwork import utils\n",
    "import pyopencl as cl\n",
    "import pyopencl.array as cl_array\n",
    "import numpy as np\n",
    "\n",
    "n = 10\n",
    "m = 100\n",
    "d = 20\n",
    "\n",
    "platform = cl.get_platforms()\n",
    "devices = platform[0].get_devices()\n",
    "context = cl.Context(devices)\n",
    "queue = cl.CommandQueue(context)"
   ]
  },
  {
   "cell_type": "code",
   "execution_count": 2,
   "metadata": {},
   "outputs": [],
   "source": [
    "# Set random data\n",
    "X = np.random.rand(20, 10).astype(np.float32)\n",
    "Y = np.random.rand(10, 100).astype(np.float32)\n",
    "\n",
    "# Send data to the gpu\n",
    "X_gpu = cl_array.to_device(queue, X)\n",
    "Y_gpu = cl_array.to_device(queue, Y)\n",
    "\n",
    "gpu_maths = utils.ArrayFunctions(context, queue)\n",
    "gpu_matmul = utils.NaiveMatMul(context, queue)\n",
    "gpu_transpose = utils.GPUTranspose(context, queue)\n",
    "\n",
    "# Test the result of matrix multiplication\n",
    "matmul_result = gpu_matmul.Matmul(X_gpu, Y_gpu)\n",
    "np.testing.assert_almost_equal(matmul_result.get(), X @ Y, decimal=5)"
   ]
  },
  {
   "cell_type": "code",
   "execution_count": 3,
   "metadata": {},
   "outputs": [
    {
     "ename": "RuntimeError",
     "evalue": "clBuildProgram failed: BUILD_PROGRAM_FAILURE - clBuildProgram failed: BUILD_PROGRAM_FAILURE - clBuildProgram failed: BUILD_PROGRAM_FAILURE\n\nBuild on <pyopencl.Device 'NVIDIA GeForce RTX 3060 Laptop GPU' on 'NVIDIA CUDA' at 0x1823606e650>:\n\n<kernel>:17:22: error: expected expression\n    __local float As[BLOCK_SIZE*BLOCK_SIZE];\n                     ^\n<kernel>:3:20: note: expanded from macro 'BLOCK_SIZE'\n#define BLOCK_SIZE %(block_size)d\n                   ^\n<kernel>:17:22: error: use of undeclared identifier 'block_size'\n<kernel>:3:22: note: expanded from macro 'BLOCK_SIZE'\n#define BLOCK_SIZE %(block_size)d\n                     ^\n<kernel>:18:22: error: expected expression\n    __local float Bs[BLOCK_SIZE*BLOCK_SIZE];\n                     ^\n<kernel>:3:20: note: expanded from macro 'BLOCK_SIZE'\n#define BLOCK_SIZE %(block_size)d\n                   ^\n<kernel>:18:22: error: use of undeclared identifier 'block_size'\n<kernel>:3:22: note: expanded from macro 'BLOCK_SIZE'\n#define BLOCK_SIZE %(block_size)d\n                     ^\n<kernel>:26:18: error: expected expression\n    int aBegin = WA * BLOCK_SIZE * by;\n                 ^\n<kernel>:6:12: note: expanded from macro 'WA'\n#define WA %(w_a)d // Matrix A width\n           ^\n<kernel>:26:18: error: use of undeclared identifier 'w_a'\n<kernel>:6:14: note: expanded from macro 'WA'\n#define WA %(w_a)d // Matrix A width\n             ^\n<kernel>:28:27: error: expected expression\n    int aEnd   = aBegin + WA - 1;\n                          ^\n<kernel>:6:12: note: expanded from macro 'WA'\n#define WA %(w_a)d // Matrix A width\n           ^\n<kernel>:28:27: error: use of undeclared identifier 'w_a'\n<kernel>:6:14: note: expanded from macro 'WA'\n#define WA %(w_a)d // Matrix A width\n             ^\n<kernel>:30:18: error: expected expression\n    int aStep  = BLOCK_SIZE;\n                 ^\n<kernel>:3:20: note: expanded from macro 'BLOCK_SIZE'\n#define BLOCK_SIZE %(block_size)d\n                   ^\n<kernel>:30:18: error: use of undeclared identifier 'block_size'\n<kernel>:3:22: note: expanded from macro 'BLOCK_SIZE'\n#define BLOCK_SIZE %(block_size)d\n                     ^\n<kernel>:32:18: error: expected expression\n    int bBegin = BLOCK_SIZE * bx;\n                 ^\n<kernel>:3:20: note: expanded from macro 'BLOCK_SIZE'\n#define BLOCK_SIZE %(block_size)d\n                   ^\n<kernel>:32:18: error: use of undeclared identifier 'block_size'\n<kernel>:3:22: note: expanded from macro 'BLOCK_SIZE'\n#define BLOCK_SIZE %(block_size)d\n                     ^\n<kernel>:34:18: error: expected expression\n    int bStep  = BLOCK_SIZE * WB;\n                 ^\n<kernel>:3:20: note: expanded from macro 'BLOCK_SIZE'\n#define BLOCK_SIZE %(block_size)d\n                   ^\n<kernel>:34:18: error: use of undeclared identifier 'block_size'\n<kernel>:3:22: note: expanded from macro 'BLOCK_SIZE'\n#define BLOCK_SIZE %(block_size)d\n                     ^\n<kernel>:46:23: error: expected expression\n        As[tx + ty * (BLOCK_SIZE)] = A[a + WA * ty + tx];\n                      ^\n<kernel>:3:20: note: expanded from macro 'BLOCK_SIZE'\n#define BLOCK_SIZE %(block_size)d\n                   ^\n<kernel>:46:23: error: use of undeclared identifier 'block_size'\n<kernel>:3:22: note: expanded from macro 'BLOCK_SIZE'\n#define BLOCK_SIZE %(block_size)d\n                     ^\n<kernel>:46:44: error: expected expression\n        As[tx + ty * (BLOCK_SIZE)] = A[a + WA * ty + tx];\n                                           ^\n<kernel>:6:12: note: expanded from macro 'WA'\n#define WA %(w_a)d // Matrix A width\n           ^\n<kernel>:46:44: error: use of undeclared identifier 'w_a'\n<kernel>:6:14: note: expanded from macro 'WA'\n#define WA %(w_a)d // Matrix A width\n             ^\n<kernel>:46:44: error: expected ']'\n<kernel>:6:18: note: expanded from macro 'WA'\n#define WA %(w_a)d // Matrix A width\n                 ^\n<kernel>:46:39: note: to match this '['\n        As[tx + ty * (BLOCK_SIZE)] = A[a + WA * ty + tx];\n                                      ^\n<kernel>:47:23: error: expected expression\n        Bs[tx + ty * (BLOCK_SIZE)] = B[b + WB * ty + tx];\n                      ^\n<kernel>:3:20: note: expanded from macro 'BLOCK_SIZE'\n#define BLOCK_SIZE %(block_size)d\n                   ^\n<kernel>:47:23: error: use of undeclared identifier 'block_size'\n<kernel>:3:22: note: expanded from macro 'BLOCK_SIZE'\n#define BLOCK_SIZE %(block_size)d\n                     ^\n<kernel>:47:44: error: expected expression\n        Bs[tx + ty * (BLOCK_SIZE)] = B[b + WB * ty + tx];\n                                           ^\n<kernel>:8:12: note: expanded from macro 'WB'\n#define WB %(w_b)d // Matrix B width\n           ^\n<kernel>:47:44: error: use of undeclared identifier 'w_b'\n<kernel>:8:14: note: expanded from macro 'WB'\n#define WB %(w_b)d // Matrix B width\n             ^\n<kernel>:47:44: error: expected ']'\n<kernel>:8:18: note: expanded from macro 'WB'\n#define WB %(w_b)d // Matrix B width\n                 ^\n<kernel>:47:39: note: to match this '['\n        Bs[tx + ty * (BLOCK_SIZE)] = B[b + WB * ty + tx];\n                                      ^\n<kernel>:53:29: error: expected expression\n        for (int k = 0; k < BLOCK_SIZE; ++k)\n                            ^\n<kernel>:3:20: note: expanded from macro 'BLOCK_SIZE'\n#define BLOCK_SIZE %(block_size)d\n                   ^\n<kernel>:53:29: error: use of undeclared identifier 'block_size'\n<kernel>:3:22: note: expanded from macro 'BLOCK_SIZE'\n#define BLOCK_SIZE %(block_size)d\n                     ^\n<kernel>:54:34: error: expected expression\n            Csub += As[k + ty * (BLOCK_SIZE)] * Bs[tx + k * (BLOCK_SIZE)];\n                                 ^\n<kernel>:3:20: note: expanded from macro 'BLOCK_SIZE'\n#define BLOCK_SIZE %(block_size)d\n                   ^\n<kernel>:54:34: error: use of undeclared identifier 'block_size'\n<kernel>:3:22: note: expanded from macro 'BLOCK_SIZE'\n#define BLOCK_SIZE %(block_size)d\n                     ^\n<kernel>:54:62: error: expected expression\n            Csub += As[k + ty * (BLOCK_SIZE)] * Bs[tx + k * (BLOCK_SIZE)];\n                                                             ^\n<kernel>:3:20: note: expanded from macro 'BLOCK_SIZE'\n#define BLOCK_SIZE %(block_size)d\n                   ^\n<kernel>:54:62: error: use of undeclared identifier 'block_size'\n<kernel>:3:22: note: expanded from macro 'BLOCK_SIZE'\n#define BLOCK_SIZE %(block_size)d\n                     ^\n\n(options: -I c:\\Users\\yadayadayada\\AppData\\Local\\Programs\\Python\\Python310\\lib\\site-packages\\pyopencl\\cl)\n(source saved as C:\\Users\\yadayadayada\\AppData\\Local\\Temp\\tmpp8qvae05.cl)",
     "output_type": "error",
     "traceback": [
      "\u001b[1;31m---------------------------------------------------------------------------\u001b[0m",
      "\u001b[1;31mRuntimeError\u001b[0m                              Traceback (most recent call last)",
      "\u001b[1;32md:\\Git\\RSCAM-Group-Project--1\\CheckUtils.ipynb Cell 4\u001b[0m in \u001b[0;36m1\n\u001b[1;32m----> <a href='vscode-notebook-cell:/d%3A/Git/RSCAM-Group-Project--1/CheckUtils.ipynb#X22sZmlsZQ%3D%3D?line=0'>1</a>\u001b[0m gpu_fast_matmul \u001b[39m=\u001b[39m utils\u001b[39m.\u001b[39;49mFastMatMul(context, queue)\n\u001b[0;32m      <a href='vscode-notebook-cell:/d%3A/Git/RSCAM-Group-Project--1/CheckUtils.ipynb#X22sZmlsZQ%3D%3D?line=1'>2</a>\u001b[0m matmul_result \u001b[39m=\u001b[39m gpu_fast_matmul\u001b[39m.\u001b[39mfastMatmul(X_gpu, Y_gpu)\n\u001b[0;32m      <a href='vscode-notebook-cell:/d%3A/Git/RSCAM-Group-Project--1/CheckUtils.ipynb#X22sZmlsZQ%3D%3D?line=2'>3</a>\u001b[0m matmul_result\u001b[39m.\u001b[39mget()\n",
      "File \u001b[1;32md:\\Git\\RSCAM-Group-Project--1\\PyNetwork\\utils\\utils.py:61\u001b[0m, in \u001b[0;36mFastMatMul.__init__\u001b[1;34m(self, context, queue)\u001b[0m\n\u001b[0;32m     59\u001b[0m FastMatMul\u001b[39m.\u001b[39mcontext \u001b[39m=\u001b[39m context\n\u001b[0;32m     60\u001b[0m FastMatMul\u001b[39m.\u001b[39mqueue \u001b[39m=\u001b[39m queue\n\u001b[1;32m---> 61\u001b[0m FastMatMul\u001b[39m.\u001b[39mprogram \u001b[39m=\u001b[39m cl\u001b[39m.\u001b[39;49mProgram(context, utils\u001b[39m.\u001b[39;49mfast_matmul_program)\u001b[39m.\u001b[39;49mbuild()\n",
      "File \u001b[1;32mc:\\Users\\yadayadayada\\AppData\\Local\\Programs\\Python\\Python310\\lib\\site-packages\\pyopencl\\__init__.py:532\u001b[0m, in \u001b[0;36mProgram.build\u001b[1;34m(self, options, devices, cache_dir)\u001b[0m\n\u001b[0;32m    528\u001b[0m \u001b[39melse\u001b[39;00m:\n\u001b[0;32m    529\u001b[0m     \u001b[39m# cached\u001b[39;00m\n\u001b[0;32m    531\u001b[0m     \u001b[39mfrom\u001b[39;00m \u001b[39mpyopencl\u001b[39;00m\u001b[39m.\u001b[39;00m\u001b[39mcache\u001b[39;00m \u001b[39mimport\u001b[39;00m create_built_program_from_source_cached\n\u001b[1;32m--> 532\u001b[0m     \u001b[39mself\u001b[39m\u001b[39m.\u001b[39m_prg, was_cached \u001b[39m=\u001b[39m \u001b[39mself\u001b[39;49m\u001b[39m.\u001b[39;49m_build_and_catch_errors(\n\u001b[0;32m    533\u001b[0m             \u001b[39mlambda\u001b[39;49;00m: create_built_program_from_source_cached(\n\u001b[0;32m    534\u001b[0m                 \u001b[39mself\u001b[39;49m\u001b[39m.\u001b[39;49m_context, \u001b[39mself\u001b[39;49m\u001b[39m.\u001b[39;49m_source, options_bytes, devices,\n\u001b[0;32m    535\u001b[0m                 cache_dir\u001b[39m=\u001b[39;49mcache_dir, include_path\u001b[39m=\u001b[39;49minclude_path),\n\u001b[0;32m    536\u001b[0m             options_bytes\u001b[39m=\u001b[39;49moptions_bytes, source\u001b[39m=\u001b[39;49m\u001b[39mself\u001b[39;49m\u001b[39m.\u001b[39;49m_source)\n\u001b[0;32m    538\u001b[0m     \u001b[39mif\u001b[39;00m was_cached:\n\u001b[0;32m    539\u001b[0m         build_descr \u001b[39m=\u001b[39m \u001b[39m\"\u001b[39m\u001b[39mcache retrieval\u001b[39m\u001b[39m\"\u001b[39m\n",
      "File \u001b[1;32mc:\\Users\\yadayadayada\\AppData\\Local\\Programs\\Python\\Python310\\lib\\site-packages\\pyopencl\\__init__.py:580\u001b[0m, in \u001b[0;36mProgram._build_and_catch_errors\u001b[1;34m(self, build_func, options_bytes, source)\u001b[0m\n\u001b[0;32m    572\u001b[0m     err \u001b[39m=\u001b[39m _cl\u001b[39m.\u001b[39mRuntimeError(\n\u001b[0;32m    573\u001b[0m             _cl\u001b[39m.\u001b[39m_ErrorRecord(\n\u001b[0;32m    574\u001b[0m                 msg\u001b[39m=\u001b[39mmsg,\n\u001b[0;32m    575\u001b[0m                 code\u001b[39m=\u001b[39mcode,\n\u001b[0;32m    576\u001b[0m                 routine\u001b[39m=\u001b[39mroutine))\n\u001b[0;32m    578\u001b[0m \u001b[39m# Python 3.2 outputs the whole list of currently active exceptions\u001b[39;00m\n\u001b[0;32m    579\u001b[0m \u001b[39m# This serves to remove one (redundant) level from that nesting.\u001b[39;00m\n\u001b[1;32m--> 580\u001b[0m \u001b[39mraise\u001b[39;00m err\n",
      "\u001b[1;31mRuntimeError\u001b[0m: clBuildProgram failed: BUILD_PROGRAM_FAILURE - clBuildProgram failed: BUILD_PROGRAM_FAILURE - clBuildProgram failed: BUILD_PROGRAM_FAILURE\n\nBuild on <pyopencl.Device 'NVIDIA GeForce RTX 3060 Laptop GPU' on 'NVIDIA CUDA' at 0x1823606e650>:\n\n<kernel>:17:22: error: expected expression\n    __local float As[BLOCK_SIZE*BLOCK_SIZE];\n                     ^\n<kernel>:3:20: note: expanded from macro 'BLOCK_SIZE'\n#define BLOCK_SIZE %(block_size)d\n                   ^\n<kernel>:17:22: error: use of undeclared identifier 'block_size'\n<kernel>:3:22: note: expanded from macro 'BLOCK_SIZE'\n#define BLOCK_SIZE %(block_size)d\n                     ^\n<kernel>:18:22: error: expected expression\n    __local float Bs[BLOCK_SIZE*BLOCK_SIZE];\n                     ^\n<kernel>:3:20: note: expanded from macro 'BLOCK_SIZE'\n#define BLOCK_SIZE %(block_size)d\n                   ^\n<kernel>:18:22: error: use of undeclared identifier 'block_size'\n<kernel>:3:22: note: expanded from macro 'BLOCK_SIZE'\n#define BLOCK_SIZE %(block_size)d\n                     ^\n<kernel>:26:18: error: expected expression\n    int aBegin = WA * BLOCK_SIZE * by;\n                 ^\n<kernel>:6:12: note: expanded from macro 'WA'\n#define WA %(w_a)d // Matrix A width\n           ^\n<kernel>:26:18: error: use of undeclared identifier 'w_a'\n<kernel>:6:14: note: expanded from macro 'WA'\n#define WA %(w_a)d // Matrix A width\n             ^\n<kernel>:28:27: error: expected expression\n    int aEnd   = aBegin + WA - 1;\n                          ^\n<kernel>:6:12: note: expanded from macro 'WA'\n#define WA %(w_a)d // Matrix A width\n           ^\n<kernel>:28:27: error: use of undeclared identifier 'w_a'\n<kernel>:6:14: note: expanded from macro 'WA'\n#define WA %(w_a)d // Matrix A width\n             ^\n<kernel>:30:18: error: expected expression\n    int aStep  = BLOCK_SIZE;\n                 ^\n<kernel>:3:20: note: expanded from macro 'BLOCK_SIZE'\n#define BLOCK_SIZE %(block_size)d\n                   ^\n<kernel>:30:18: error: use of undeclared identifier 'block_size'\n<kernel>:3:22: note: expanded from macro 'BLOCK_SIZE'\n#define BLOCK_SIZE %(block_size)d\n                     ^\n<kernel>:32:18: error: expected expression\n    int bBegin = BLOCK_SIZE * bx;\n                 ^\n<kernel>:3:20: note: expanded from macro 'BLOCK_SIZE'\n#define BLOCK_SIZE %(block_size)d\n                   ^\n<kernel>:32:18: error: use of undeclared identifier 'block_size'\n<kernel>:3:22: note: expanded from macro 'BLOCK_SIZE'\n#define BLOCK_SIZE %(block_size)d\n                     ^\n<kernel>:34:18: error: expected expression\n    int bStep  = BLOCK_SIZE * WB;\n                 ^\n<kernel>:3:20: note: expanded from macro 'BLOCK_SIZE'\n#define BLOCK_SIZE %(block_size)d\n                   ^\n<kernel>:34:18: error: use of undeclared identifier 'block_size'\n<kernel>:3:22: note: expanded from macro 'BLOCK_SIZE'\n#define BLOCK_SIZE %(block_size)d\n                     ^\n<kernel>:46:23: error: expected expression\n        As[tx + ty * (BLOCK_SIZE)] = A[a + WA * ty + tx];\n                      ^\n<kernel>:3:20: note: expanded from macro 'BLOCK_SIZE'\n#define BLOCK_SIZE %(block_size)d\n                   ^\n<kernel>:46:23: error: use of undeclared identifier 'block_size'\n<kernel>:3:22: note: expanded from macro 'BLOCK_SIZE'\n#define BLOCK_SIZE %(block_size)d\n                     ^\n<kernel>:46:44: error: expected expression\n        As[tx + ty * (BLOCK_SIZE)] = A[a + WA * ty + tx];\n                                           ^\n<kernel>:6:12: note: expanded from macro 'WA'\n#define WA %(w_a)d // Matrix A width\n           ^\n<kernel>:46:44: error: use of undeclared identifier 'w_a'\n<kernel>:6:14: note: expanded from macro 'WA'\n#define WA %(w_a)d // Matrix A width\n             ^\n<kernel>:46:44: error: expected ']'\n<kernel>:6:18: note: expanded from macro 'WA'\n#define WA %(w_a)d // Matrix A width\n                 ^\n<kernel>:46:39: note: to match this '['\n        As[tx + ty * (BLOCK_SIZE)] = A[a + WA * ty + tx];\n                                      ^\n<kernel>:47:23: error: expected expression\n        Bs[tx + ty * (BLOCK_SIZE)] = B[b + WB * ty + tx];\n                      ^\n<kernel>:3:20: note: expanded from macro 'BLOCK_SIZE'\n#define BLOCK_SIZE %(block_size)d\n                   ^\n<kernel>:47:23: error: use of undeclared identifier 'block_size'\n<kernel>:3:22: note: expanded from macro 'BLOCK_SIZE'\n#define BLOCK_SIZE %(block_size)d\n                     ^\n<kernel>:47:44: error: expected expression\n        Bs[tx + ty * (BLOCK_SIZE)] = B[b + WB * ty + tx];\n                                           ^\n<kernel>:8:12: note: expanded from macro 'WB'\n#define WB %(w_b)d // Matrix B width\n           ^\n<kernel>:47:44: error: use of undeclared identifier 'w_b'\n<kernel>:8:14: note: expanded from macro 'WB'\n#define WB %(w_b)d // Matrix B width\n             ^\n<kernel>:47:44: error: expected ']'\n<kernel>:8:18: note: expanded from macro 'WB'\n#define WB %(w_b)d // Matrix B width\n                 ^\n<kernel>:47:39: note: to match this '['\n        Bs[tx + ty * (BLOCK_SIZE)] = B[b + WB * ty + tx];\n                                      ^\n<kernel>:53:29: error: expected expression\n        for (int k = 0; k < BLOCK_SIZE; ++k)\n                            ^\n<kernel>:3:20: note: expanded from macro 'BLOCK_SIZE'\n#define BLOCK_SIZE %(block_size)d\n                   ^\n<kernel>:53:29: error: use of undeclared identifier 'block_size'\n<kernel>:3:22: note: expanded from macro 'BLOCK_SIZE'\n#define BLOCK_SIZE %(block_size)d\n                     ^\n<kernel>:54:34: error: expected expression\n            Csub += As[k + ty * (BLOCK_SIZE)] * Bs[tx + k * (BLOCK_SIZE)];\n                                 ^\n<kernel>:3:20: note: expanded from macro 'BLOCK_SIZE'\n#define BLOCK_SIZE %(block_size)d\n                   ^\n<kernel>:54:34: error: use of undeclared identifier 'block_size'\n<kernel>:3:22: note: expanded from macro 'BLOCK_SIZE'\n#define BLOCK_SIZE %(block_size)d\n                     ^\n<kernel>:54:62: error: expected expression\n            Csub += As[k + ty * (BLOCK_SIZE)] * Bs[tx + k * (BLOCK_SIZE)];\n                                                             ^\n<kernel>:3:20: note: expanded from macro 'BLOCK_SIZE'\n#define BLOCK_SIZE %(block_size)d\n                   ^\n<kernel>:54:62: error: use of undeclared identifier 'block_size'\n<kernel>:3:22: note: expanded from macro 'BLOCK_SIZE'\n#define BLOCK_SIZE %(block_size)d\n                     ^\n\n(options: -I c:\\Users\\yadayadayada\\AppData\\Local\\Programs\\Python\\Python310\\lib\\site-packages\\pyopencl\\cl)\n(source saved as C:\\Users\\yadayadayada\\AppData\\Local\\Temp\\tmpp8qvae05.cl)"
     ]
    }
   ],
   "source": [
    "gpu_fast_matmul = utils.FastMatMul(context, queue)\n",
    "matmul_result = gpu_fast_matmul.fastMatmul(X_gpu, Y_gpu)\n",
    "matmul_result.get()"
   ]
  },
  {
   "cell_type": "code",
   "execution_count": 14,
   "metadata": {},
   "outputs": [],
   "source": [
    "X = np.random.rand(20, 100).astype(np.float32)\n",
    "X_gpu = cl_array.to_device(queue, X)\n",
    "\n",
    "out = gpu_transpose.transpose(X_gpu)\n",
    "np.testing.assert_almost_equal(out.get(), X.T)"
   ]
  },
  {
   "cell_type": "code",
   "execution_count": null,
   "metadata": {},
   "outputs": [],
   "source": []
  },
  {
   "cell_type": "code",
   "execution_count": 5,
   "metadata": {},
   "outputs": [],
   "source": [
    "b = np.random.rand(10).astype(np.float32)\n",
    "\n",
    "# Send data to the gpu\n",
    "b_gpu = cl_array.to_device(queue, b)\n",
    "\n",
    "# Test the result of vector addition\n",
    "pred = gpu_maths.addVector(X_gpu, b_gpu)\n",
    "np.testing.assert_almost_equal(pred.get(), X + b, decimal=5)\n",
    "\n",
    "# Test the result of vector subtraction\n",
    "pred = gpu_maths.addVector(X_gpu, -b_gpu)\n",
    "np.testing.assert_almost_equal(pred.get(), X - b, decimal=5)\n",
    "\n",
    "# Test the result of vector multiplication\n",
    "pred = gpu_maths.mulVector(X_gpu, b_gpu)\n",
    "np.testing.assert_almost_equal(pred.get(), X * b, decimal=5)\n",
    "\n",
    "# Test the result of vector division\n",
    "pred = gpu_maths.divVector(X_gpu, b_gpu)\n",
    "np.testing.assert_almost_equal(pred.get(), X / b, decimal=5)"
   ]
  },
  {
   "cell_type": "code",
   "execution_count": 6,
   "metadata": {},
   "outputs": [
    {
     "ename": "AttributeError",
     "evalue": "'NaiveMatMul' object has no attribute 'naiveMatmul'",
     "output_type": "error",
     "traceback": [
      "\u001b[1;31m---------------------------------------------------------------------------\u001b[0m",
      "\u001b[1;31mAttributeError\u001b[0m                            Traceback (most recent call last)",
      "\u001b[1;32md:\\Git\\RSCAM-Group-Project--1\\CheckUtils.ipynb Cell 5\u001b[0m in \u001b[0;36m1\n\u001b[0;32m      <a href='vscode-notebook-cell:/d%3A/Git/RSCAM-Group-Project--1/CheckUtils.ipynb#W4sZmlsZQ%3D%3D?line=7'>8</a>\u001b[0m delta_gpu_T \u001b[39m=\u001b[39m cl_array\u001b[39m.\u001b[39mtranspose(delta_gpu)\n\u001b[0;32m     <a href='vscode-notebook-cell:/d%3A/Git/RSCAM-Group-Project--1/CheckUtils.ipynb#W4sZmlsZQ%3D%3D?line=9'>10</a>\u001b[0m \u001b[39m# Test the result of gradients\u001b[39;00m\n\u001b[1;32m---> <a href='vscode-notebook-cell:/d%3A/Git/RSCAM-Group-Project--1/CheckUtils.ipynb#W4sZmlsZQ%3D%3D?line=10'>11</a>\u001b[0m weight_result \u001b[39m=\u001b[39m gpu_matmul\u001b[39m.\u001b[39;49mnaiveMatmul(delta_gpu_T, prev_z_gpu)\n\u001b[0;32m     <a href='vscode-notebook-cell:/d%3A/Git/RSCAM-Group-Project--1/CheckUtils.ipynb#W4sZmlsZQ%3D%3D?line=11'>12</a>\u001b[0m np\u001b[39m.\u001b[39mtesting\u001b[39m.\u001b[39massert_almost_equal(weight_result\u001b[39m.\u001b[39mget(), np\u001b[39m.\u001b[39mascontiguousarray(delta\u001b[39m.\u001b[39mT) \u001b[39m@\u001b[39m prev_z, decimal\u001b[39m=\u001b[39m\u001b[39m5\u001b[39m)\n\u001b[0;32m     <a href='vscode-notebook-cell:/d%3A/Git/RSCAM-Group-Project--1/CheckUtils.ipynb#W4sZmlsZQ%3D%3D?line=12'>13</a>\u001b[0m bias_result \u001b[39m=\u001b[39m gpu_maths\u001b[39m.\u001b[39mrowSumUp(delta_gpu)\n",
      "\u001b[1;31mAttributeError\u001b[0m: 'NaiveMatMul' object has no attribute 'naiveMatmul'"
     ]
    }
   ],
   "source": [
    "# Set random data\n",
    "prev_z = np.random.rand(d, m).astype(np.float32)\n",
    "delta = np.random.rand(d, n).astype(np.float32)\n",
    "\n",
    "# Send data to the gpu\n",
    "prev_z_gpu = cl_array.to_device(queue, prev_z)\n",
    "delta_gpu = cl_array.to_device(queue, delta)\n",
    "delta_gpu_T = cl_array.transpose(delta_gpu)\n",
    "\n",
    "# Test the result of gradients\n",
    "weight_result = gpu_matmul.Matmul(delta_gpu_T, prev_z_gpu)\n",
    "np.testing.assert_almost_equal(weight_result.get(), np.ascontiguousarray(delta.T) @ prev_z, decimal=5)\n",
    "bias_result = gpu_maths.rowSumUp(delta_gpu)\n",
    "np.testing.assert_almost_equal(bias_result.get(), np.sum(delta, axis=0), decimal=5)"
   ]
  },
  {
   "cell_type": "code",
   "execution_count": null,
   "metadata": {},
   "outputs": [],
   "source": [
    "# Set random data\n",
    "W = np.random.rand(n, m).astype(np.float32)\n",
    "x = np.random.rand(d, m).astype(np.float32)\n",
    "b = np.random.rand(n).astype(np.float32)\n",
    "input_width, _ = x.shape \n",
    "\n",
    "# Send data to the gpu\n",
    "W_gpu = cl_array.to_device(queue, W)\n",
    "W_gpu_T = cl_array.transpose(W_gpu)\n",
    "x_gpu = cl_array.to_device(queue, x)\n",
    "b_matrix = np.tile(b, (input_width, 1))\n",
    "b_gpu = cl_array.to_device(queue, b_matrix)\n",
    "\n",
    "pred = gpu_matmul.naiveMatmul(x_gpu, W_gpu_T) + b_gpu\n",
    "np.testing.assert_almost_equal(pred.get(), x @ W.T + b, decimal=5)"
   ]
  },
  {
   "cell_type": "code",
   "execution_count": null,
   "metadata": {},
   "outputs": [
    {
     "data": {
      "text/plain": [
       "True"
      ]
     },
     "execution_count": 6,
     "metadata": {},
     "output_type": "execute_result"
    }
   ],
   "source": [
    "# Set random data\n",
    "x = -1 * np.random.rand(100, 10).astype(np.float32)\n",
    "x_gpu = cl_array.to_device(queue, x)\n",
    "\n",
    "# Test the result of the function sign()\n",
    "(gpu_maths.clarray_sign(x_gpu).get() == np.sign(x)).all()"
   ]
  },
  {
   "cell_type": "code",
   "execution_count": null,
   "metadata": {},
   "outputs": [],
   "source": [
    "# Test the effect of contiguous\n",
    "delta = np.random.rand(d, m).astype(np.float32)\n",
    "delta_gpu = cl_array.to_device(queue, delta)\n",
    "delta_gpu_F = cl_array.to_device(queue, np.asfortranarray(delta))\n",
    "delta_gpu_T = cl_array.transpose(delta_gpu)\n",
    "weight_grad = gpu_matmul.naiveMatmul(delta_gpu_T, prev_z_gpu)\n",
    "np.testing.assert_almost_equal(weight_grad.get(), np.ascontiguousarray(delta.T) @ prev_z, decimal=5)"
   ]
  },
  {
   "cell_type": "code",
   "execution_count": null,
   "metadata": {},
   "outputs": [],
   "source": [
    "# Test the result of rowMean\n",
    "bias_mean = gpu_maths.rowMean(delta_gpu)\n",
    "np.testing.assert_almost_equal(bias_mean.get(), np.mean(delta, axis=0), decimal=5)\n",
    "\n",
    "# Test the result of rowStd\n",
    "bias_std = gpu_maths.rowStd(delta_gpu)\n",
    "np.testing.assert_almost_equal(bias_std.get(), np.std(delta, axis=0), decimal=5)"
   ]
  },
  {
   "cell_type": "code",
   "execution_count": null,
   "metadata": {},
   "outputs": [],
   "source": [
    "# Test the result of rowArgmax\n",
    "x = np.random.rand(100, 10, 10).astype(np.float32)\n",
    "x_gpu = cl_array.to_device(queue, x)\n",
    "\n",
    "arg_max = gpu_maths.rowArgmax(x_gpu)\n",
    "np.testing.assert_almost_equal(arg_max.get(), np.argmax(x, axis=-1))"
   ]
  },
  {
   "cell_type": "code",
   "execution_count": null,
   "metadata": {},
   "outputs": [
    {
     "data": {
      "text/plain": [
       "True"
      ]
     },
     "execution_count": 10,
     "metadata": {},
     "output_type": "execute_result"
    }
   ],
   "source": [
    "x = np.random.rand(100, 20).astype(np.float32)\n",
    "x_gpu = cl_array.to_device(queue, x)\n",
    "x_transpose = gpu_transpose.transpose(x_gpu)\n",
    "np.testing.assert_almost_equal(x_transpose.get(), x.T)\n",
    "x_transpose.flags.c_contiguous"
   ]
  }
 ],
 "metadata": {
  "kernelspec": {
   "display_name": "Python 3",
   "language": "python",
   "name": "python3"
  },
  "language_info": {
   "codemirror_mode": {
    "name": "ipython",
    "version": 3
   },
   "file_extension": ".py",
   "mimetype": "text/x-python",
   "name": "python",
   "nbconvert_exporter": "python",
   "pygments_lexer": "ipython3",
   "version": "3.10.8"
  },
  "orig_nbformat": 4
 },
 "nbformat": 4,
 "nbformat_minor": 2
}
