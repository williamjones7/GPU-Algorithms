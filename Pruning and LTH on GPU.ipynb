{
 "cells": [
  {
   "cell_type": "code",
   "execution_count": 1,
   "metadata": {
    "execution": {
     "iopub.execute_input": "2023-04-18T17:14:31.609036Z",
     "iopub.status.busy": "2023-04-18T17:14:31.608071Z",
     "iopub.status.idle": "2023-04-18T17:14:31.620590Z",
     "shell.execute_reply": "2023-04-18T17:14:31.619361Z",
     "shell.execute_reply.started": "2023-04-18T17:14:31.608994Z"
    }
   },
   "outputs": [],
   "source": [
    "# For some reason we need this to install pyopencl on Colab\n",
    "#import locale\n",
    "#def getpreferredencoding(do_setlocale=True):\n",
    "    #return \"UTF-8\"\n",
    "#locale.getpreferredencoding = getpreferredencoding"
   ]
  },
  {
   "cell_type": "code",
   "execution_count": 2,
   "metadata": {
    "execution": {
     "iopub.execute_input": "2023-04-18T17:14:31.623872Z",
     "iopub.status.busy": "2023-04-18T17:14:31.623133Z",
     "iopub.status.idle": "2023-04-18T17:14:31.629739Z",
     "shell.execute_reply": "2023-04-18T17:14:31.628727Z",
     "shell.execute_reply.started": "2023-04-18T17:14:31.623833Z"
    }
   },
   "outputs": [],
   "source": [
    "#!pip install Mako"
   ]
  },
  {
   "cell_type": "code",
   "execution_count": 3,
   "metadata": {
    "execution": {
     "iopub.execute_input": "2023-04-18T17:14:31.632098Z",
     "iopub.status.busy": "2023-04-18T17:14:31.631405Z",
     "iopub.status.idle": "2023-04-18T17:14:31.642876Z",
     "shell.execute_reply": "2023-04-18T17:14:31.641870Z",
     "shell.execute_reply.started": "2023-04-18T17:14:31.632061Z"
    }
   },
   "outputs": [],
   "source": [
    "#!pip install pyopencl"
   ]
  },
  {
   "cell_type": "code",
   "execution_count": 1,
   "metadata": {
    "execution": {
     "iopub.execute_input": "2023-04-18T17:14:32.112511Z",
     "iopub.status.busy": "2023-04-18T17:14:32.111630Z",
     "iopub.status.idle": "2023-04-18T17:14:32.126612Z",
     "shell.execute_reply": "2023-04-18T17:14:32.125488Z",
     "shell.execute_reply.started": "2023-04-18T17:14:32.112462Z"
    }
   },
   "outputs": [],
   "source": [
    "#import os\n",
    "\n",
    "#for dirname, _, filenames in os.walk('/kaggle/input'):\n",
    "    #for filename in filenames:\n",
    "        #print(os.path.join(dirname, filename))"
   ]
  },
  {
   "cell_type": "code",
   "execution_count": 11,
   "metadata": {
    "execution": {
     "iopub.execute_input": "2023-04-18T17:14:32.128868Z",
     "iopub.status.busy": "2023-04-18T17:14:32.128096Z",
     "iopub.status.idle": "2023-04-18T17:14:32.234486Z",
     "shell.execute_reply": "2023-04-18T17:14:32.233335Z",
     "shell.execute_reply.started": "2023-04-18T17:14:32.128823Z"
    }
   },
   "outputs": [],
   "source": [
    "#import sys\n",
    "#sys.path.insert(1, \"/kaggle/input/rscamlth/RSCAM-Group-Project-/\")\n",
    "import PyNetwork\n",
    "from PyNetwork import ActivationFunctions,ErrorFunctions, MetricFunctions\n",
    "import PyNetworkCPU\n",
    "import pyopencl as cl\n",
    "import pyopencl.array as cl_array\n",
    "import numpy as np"
   ]
  },
  {
   "cell_type": "code",
   "execution_count": 12,
   "metadata": {
    "execution": {
     "iopub.execute_input": "2023-04-18T17:14:32.238532Z",
     "iopub.status.busy": "2023-04-18T17:14:32.238201Z",
     "iopub.status.idle": "2023-04-18T17:14:32.427617Z",
     "shell.execute_reply": "2023-04-18T17:14:32.426290Z",
     "shell.execute_reply.started": "2023-04-18T17:14:32.238502Z"
    }
   },
   "outputs": [],
   "source": [
    "platform = cl.get_platforms()\n",
    "devices = platform[0].get_devices()\n",
    "context = cl.Context(devices)\n",
    "queue = cl.CommandQueue(context)"
   ]
  },
  {
   "cell_type": "code",
   "execution_count": 13,
   "metadata": {
    "execution": {
     "iopub.execute_input": "2023-04-18T17:14:32.430167Z",
     "iopub.status.busy": "2023-04-18T17:14:32.429357Z",
     "iopub.status.idle": "2023-04-18T17:14:32.441035Z",
     "shell.execute_reply": "2023-04-18T17:14:32.440163Z",
     "shell.execute_reply.started": "2023-04-18T17:14:32.430121Z"
    }
   },
   "outputs": [],
   "source": [
    "#!pip install emnist"
   ]
  },
  {
   "cell_type": "code",
   "execution_count": 14,
   "metadata": {
    "execution": {
     "iopub.execute_input": "2023-04-18T17:14:32.443827Z",
     "iopub.status.busy": "2023-04-18T17:14:32.442888Z",
     "iopub.status.idle": "2023-04-18T17:14:32.457832Z",
     "shell.execute_reply": "2023-04-18T17:14:32.456677Z",
     "shell.execute_reply.started": "2023-04-18T17:14:32.443787Z"
    }
   },
   "outputs": [],
   "source": [
    "from emnist import extract_training_samples, extract_test_samples"
   ]
  },
  {
   "cell_type": "code",
   "execution_count": 15,
   "metadata": {
    "execution": {
     "iopub.execute_input": "2023-04-18T17:14:32.462475Z",
     "iopub.status.busy": "2023-04-18T17:14:32.461513Z",
     "iopub.status.idle": "2023-04-18T17:14:33.397837Z",
     "shell.execute_reply": "2023-04-18T17:14:33.396793Z",
     "shell.execute_reply.started": "2023-04-18T17:14:32.462424Z"
    }
   },
   "outputs": [],
   "source": [
    "# The letters dataset is handwritten letters, as opposed to handwritten digits\n",
    "# Should make the problem a bit harder\n",
    "x_train, y_train = extract_training_samples('letters')\n",
    "x_test, y_test = extract_test_samples('letters')\n",
    "\n",
    "# Make it start counting from 0\n",
    "y_train = y_train - 1\n",
    "y_test = y_test - 1"
   ]
  },
  {
   "cell_type": "code",
   "execution_count": 16,
   "metadata": {
    "execution": {
     "iopub.execute_input": "2023-04-18T17:14:33.399924Z",
     "iopub.status.busy": "2023-04-18T17:14:33.399534Z",
     "iopub.status.idle": "2023-04-18T17:14:33.580370Z",
     "shell.execute_reply": "2023-04-18T17:14:33.579105Z",
     "shell.execute_reply.started": "2023-04-18T17:14:33.399883Z"
    }
   },
   "outputs": [],
   "source": [
    "N = len(np.unique(y_train))\n",
    "input_shape = (28, 28)\n",
    "x_train = x_train.reshape(-1, *input_shape).astype(np.float32) / 255\n",
    "x_test = x_test.reshape(-1, *input_shape).astype(np.float32) / 255\n",
    "\n",
    "labels = np.eye(N)\n",
    "\n",
    "y_train = labels[y_train.flatten()].astype(np.float32)\n",
    "y_test = labels[y_test.flatten()].astype(np.float32)"
   ]
  },
  {
   "cell_type": "code",
   "execution_count": 17,
   "metadata": {
    "execution": {
     "iopub.execute_input": "2023-04-18T17:14:33.582711Z",
     "iopub.status.busy": "2023-04-18T17:14:33.582281Z",
     "iopub.status.idle": "2023-04-18T17:14:33.593235Z",
     "shell.execute_reply": "2023-04-18T17:14:33.592105Z",
     "shell.execute_reply.started": "2023-04-18T17:14:33.582668Z"
    }
   },
   "outputs": [],
   "source": [
    "def make_model(dense_nodes, activation_functions, masks, initialized_weights, \n",
    "               optimizer, input_shape=(28, 28)):\n",
    "    assert len(dense_nodes) == len(activation_functions), \\\n",
    "            \"Dense nodes and activation functions need to have the same length\"\n",
    "    \n",
    "    # Build the network - assume we only use dense layers\n",
    "    model = PyNetwork.Sequential()\n",
    "    model.add(PyNetwork.layers.Input(input_shape))\n",
    "    model.add(PyNetwork.layers.Flatten())\n",
    "    \n",
    "    for nodes, function, mask in zip(dense_nodes, activation_functions, masks):\n",
    "        dense_layer = PyNetwork.layers.Dense(nodes, activation_function=function, l2=0.0, l1=0.0,\n",
    "                                             trainable_mask=mask)\n",
    "        model.add(dense_layer)\n",
    "    \n",
    "    model.build(context, queue, loss_function='cross_entropy', optimizer=optimizer, metrics='accuracy')\n",
    "    \n",
    "    # Set the weights to the initialized_weights\n",
    "    dense_layers = list(model.layers.values())[2:]\n",
    "    for layer, W in zip(dense_layers, initialized_weights):\n",
    "        if W is not None:\n",
    "            layer.W_gpu = W.copy()\n",
    "    \n",
    "    # Set the weights not at the mask to zero\n",
    "    for layer, mask in zip(dense_layers, masks):\n",
    "        if mask is not None:\n",
    "            layer.W_gpu *= mask\n",
    "    \n",
    "    return model"
   ]
  },
  {
   "cell_type": "code",
   "execution_count": 18,
   "metadata": {
    "execution": {
     "iopub.execute_input": "2023-04-18T17:14:33.595772Z",
     "iopub.status.busy": "2023-04-18T17:14:33.594761Z",
     "iopub.status.idle": "2023-04-18T17:14:33.614907Z",
     "shell.execute_reply": "2023-04-18T17:14:33.613804Z",
     "shell.execute_reply.started": "2023-04-18T17:14:33.595733Z"
    }
   },
   "outputs": [],
   "source": [
    "# Full Network\n",
    "dense_nodes = [300, 100, N]\n",
    "activation_functions = ['relu', 'relu', 'relu']\n",
    "\n",
    "masks = [None] * 3\n",
    "initialized_weights = [None] * 3"
   ]
  },
  {
   "cell_type": "code",
   "execution_count": 19,
   "metadata": {
    "execution": {
     "iopub.execute_input": "2023-04-18T17:14:33.621810Z",
     "iopub.status.busy": "2023-04-18T17:14:33.621306Z",
     "iopub.status.idle": "2023-04-18T17:14:33.654424Z",
     "shell.execute_reply": "2023-04-18T17:14:33.653359Z",
     "shell.execute_reply.started": "2023-04-18T17:14:33.621779Z"
    }
   },
   "outputs": [],
   "source": [
    "optimizer = PyNetwork.optimizers.Adam(learning_rate=0.0005)\n",
    "model = make_model(dense_nodes, activation_functions, masks, initialized_weights, \n",
    "                   optimizer, input_shape=input_shape)\n",
    "\n",
    "starting_weights = [layer.W_gpu.copy() \n",
    "                    for layer in model.layers.values() if isinstance(layer, PyNetwork.layers.Dense)]"
   ]
  },
  {
   "cell_type": "code",
   "execution_count": 20,
   "metadata": {
    "execution": {
     "iopub.execute_input": "2023-04-18T17:14:33.656731Z",
     "iopub.status.busy": "2023-04-18T17:14:33.656295Z",
     "iopub.status.idle": "2023-04-18T17:14:33.981272Z",
     "shell.execute_reply": "2023-04-18T17:14:33.980139Z",
     "shell.execute_reply.started": "2023-04-18T17:14:33.656689Z"
    }
   },
   "outputs": [],
   "source": [
    "# Transform x_train and y_train into C-contiguous\n",
    "x_train = np.ascontiguousarray(x_train)\n",
    "y_train = np.ascontiguousarray(y_train)\n",
    "x_test = np.ascontiguousarray(x_test)\n",
    "y_test = np.ascontiguousarray(y_test)\n",
    "\n",
    "# Send data to device\n",
    "x_train_gpu = cl_array.to_device(queue, x_train)\n",
    "y_train_gpu = cl_array.to_device(queue, y_train)\n",
    "x_test_gpu = cl_array.to_device(queue, x_test)\n",
    "y_test_gpu = cl_array.to_device(queue, y_test)"
   ]
  },
  {
   "cell_type": "code",
   "execution_count": 2,
   "metadata": {
    "execution": {
     "iopub.execute_input": "2023-04-18T17:14:33.983924Z",
     "iopub.status.busy": "2023-04-18T17:14:33.982783Z",
     "iopub.status.idle": "2023-04-18T17:17:30.446605Z",
     "shell.execute_reply": "2023-04-18T17:17:30.445345Z",
     "shell.execute_reply.started": "2023-04-18T17:14:33.983882Z"
    }
   },
   "outputs": [],
   "source": [
    "model.train(x_train_gpu, y_train_gpu, epochs=5, batch_size=128, verbose=True)\n",
    "\n",
    "trained_weights = [layer.W_gpu.copy()\n",
    "                   for layer in model.layers.values() if isinstance(layer, PyNetwork.layers.Dense)]"
   ]
  },
  {
   "cell_type": "code",
   "execution_count": 3,
   "metadata": {
    "execution": {
     "iopub.execute_input": "2023-04-18T17:17:30.459000Z",
     "iopub.status.busy": "2023-04-18T17:17:30.458480Z",
     "iopub.status.idle": "2023-04-18T17:17:32.478718Z",
     "shell.execute_reply": "2023-04-18T17:17:32.477429Z",
     "shell.execute_reply.started": "2023-04-18T17:17:30.458954Z"
    }
   },
   "outputs": [],
   "source": [
    "print(model.evaluate(x_train_gpu, y_train_gpu))\n",
    "print(model.evaluate(x_test_gpu, y_test_gpu))"
   ]
  },
  {
   "cell_type": "code",
   "execution_count": 24,
   "metadata": {
    "execution": {
     "iopub.execute_input": "2023-04-18T17:17:32.480867Z",
     "iopub.status.busy": "2023-04-18T17:17:32.480339Z",
     "iopub.status.idle": "2023-04-18T17:17:32.524723Z",
     "shell.execute_reply": "2023-04-18T17:17:32.523655Z",
     "shell.execute_reply.started": "2023-04-18T17:17:32.480821Z"
    }
   },
   "outputs": [],
   "source": [
    "# Sparse Network\n",
    "p = 0.5\n",
    "masks = []\n",
    "for W in trained_weights:\n",
    "    W_random = np.random.rand(*W.shape)\n",
    "    threshold = np.quantile(abs(W_random), p)\n",
    "    mask = abs(W) > threshold\n",
    "    \n",
    "    masks.append(mask)\n",
    "    \n",
    "initialized_weights = [None] * 3\n",
    "optimizer = PyNetwork.optimizers.Adam(learning_rate=0.0005)\n",
    "model = make_model(dense_nodes, activation_functions, masks, initialized_weights, \n",
    "                   optimizer, input_shape=input_shape)"
   ]
  },
  {
   "cell_type": "code",
   "execution_count": 4,
   "metadata": {
    "execution": {
     "iopub.execute_input": "2023-04-18T17:17:32.526725Z",
     "iopub.status.busy": "2023-04-18T17:17:32.526336Z",
     "iopub.status.idle": "2023-04-18T17:20:28.698538Z",
     "shell.execute_reply": "2023-04-18T17:20:28.697233Z",
     "shell.execute_reply.started": "2023-04-18T17:17:32.526685Z"
    }
   },
   "outputs": [],
   "source": [
    "model.train(x_train_gpu, y_train_gpu, epochs=5, batch_size=128, verbose=True)"
   ]
  },
  {
   "cell_type": "code",
   "execution_count": 5,
   "metadata": {
    "execution": {
     "iopub.execute_input": "2023-04-18T17:38:03.753117Z",
     "iopub.status.busy": "2023-04-18T17:38:03.752393Z",
     "iopub.status.idle": "2023-04-18T17:38:03.768738Z",
     "shell.execute_reply": "2023-04-18T17:38:03.767475Z",
     "shell.execute_reply.started": "2023-04-18T17:38:03.753078Z"
    }
   },
   "outputs": [],
   "source": [
    "# Normal pruning\n",
    "masks = []\n",
    "for W in trained_weights:\n",
    "    threshold = np.quantile(abs(W).get(), p)\n",
    "    mask = abs(W) > threshold\n",
    "    \n",
    "    masks.append(mask)"
   ]
  },
  {
   "cell_type": "code",
   "execution_count": 44,
   "metadata": {
    "execution": {
     "iopub.execute_input": "2023-04-18T17:38:08.660905Z",
     "iopub.status.busy": "2023-04-18T17:38:08.660506Z",
     "iopub.status.idle": "2023-04-18T17:38:08.690657Z",
     "shell.execute_reply": "2023-04-18T17:38:08.689574Z",
     "shell.execute_reply.started": "2023-04-18T17:38:08.660861Z"
    }
   },
   "outputs": [],
   "source": [
    "initialized_weights = [None] * 3\n",
    "optimizer = PyNetwork.optimizers.Adam(learning_rate=0.0005)\n",
    "model = make_model(dense_nodes, activation_functions, masks, initialized_weights, \n",
    "                   optimizer, input_shape=input_shape)"
   ]
  },
  {
   "cell_type": "code",
   "execution_count": 6,
   "metadata": {
    "execution": {
     "iopub.execute_input": "2023-04-18T17:38:11.094687Z",
     "iopub.status.busy": "2023-04-18T17:38:11.094171Z",
     "iopub.status.idle": "2023-04-18T17:41:10.148319Z",
     "shell.execute_reply": "2023-04-18T17:41:10.147010Z",
     "shell.execute_reply.started": "2023-04-18T17:38:11.094648Z"
    }
   },
   "outputs": [],
   "source": [
    "model.train(x_train_gpu, y_train_gpu, epochs=5, batch_size=128, verbose=True)"
   ]
  },
  {
   "cell_type": "code",
   "execution_count": 7,
   "metadata": {
    "execution": {
     "iopub.execute_input": "2023-04-18T17:42:42.414616Z",
     "iopub.status.busy": "2023-04-18T17:42:42.413421Z",
     "iopub.status.idle": "2023-04-18T17:42:44.420036Z",
     "shell.execute_reply": "2023-04-18T17:42:44.417724Z",
     "shell.execute_reply.started": "2023-04-18T17:42:42.414570Z"
    }
   },
   "outputs": [],
   "source": [
    "print(model.evaluate(x_train_gpu, y_train_gpu))\n",
    "print(model.evaluate(x_test_gpu, y_test_gpu))"
   ]
  },
  {
   "cell_type": "code",
   "execution_count": 49,
   "metadata": {
    "execution": {
     "iopub.execute_input": "2023-04-18T17:47:02.491935Z",
     "iopub.status.busy": "2023-04-18T17:47:02.491536Z",
     "iopub.status.idle": "2023-04-18T17:47:02.526457Z",
     "shell.execute_reply": "2023-04-18T17:47:02.525374Z",
     "shell.execute_reply.started": "2023-04-18T17:47:02.491900Z"
    }
   },
   "outputs": [],
   "source": [
    "# LTH\n",
    "masks = []\n",
    "for W in trained_weights:\n",
    "    threshold = np.quantile(abs(W).get(), p)\n",
    "    mask = abs(W) > threshold\n",
    "    \n",
    "    masks.append(mask)\n",
    "    \n",
    "initialized_weights = starting_weights\n",
    "optimizer = PyNetwork.optimizers.Adam(learning_rate=0.0005)\n",
    "model = make_model(dense_nodes, activation_functions, masks, initialized_weights, \n",
    "                   optimizer, input_shape=input_shape)"
   ]
  },
  {
   "cell_type": "code",
   "execution_count": 8,
   "metadata": {
    "execution": {
     "iopub.execute_input": "2023-04-18T17:47:04.767188Z",
     "iopub.status.busy": "2023-04-18T17:47:04.766193Z",
     "iopub.status.idle": "2023-04-18T17:50:04.234795Z",
     "shell.execute_reply": "2023-04-18T17:50:04.233493Z",
     "shell.execute_reply.started": "2023-04-18T17:47:04.767149Z"
    }
   },
   "outputs": [],
   "source": [
    "model.train(x_train_gpu, y_train_gpu, epochs=5, batch_size=128, verbose=True)"
   ]
  },
  {
   "cell_type": "code",
   "execution_count": 9,
   "metadata": {
    "execution": {
     "iopub.execute_input": "2023-04-18T17:51:00.853183Z",
     "iopub.status.busy": "2023-04-18T17:51:00.852376Z",
     "iopub.status.idle": "2023-04-18T17:51:02.878552Z",
     "shell.execute_reply": "2023-04-18T17:51:02.877176Z",
     "shell.execute_reply.started": "2023-04-18T17:51:00.853141Z"
    }
   },
   "outputs": [],
   "source": [
    "print(model.evaluate(x_train_gpu, y_train_gpu))\n",
    "print(model.evaluate(x_test_gpu, y_test_gpu))"
   ]
  }
 ],
 "metadata": {
  "kernelspec": {
   "display_name": "Python 3 (ipykernel)",
   "language": "python",
   "name": "python3"
  },
  "language_info": {
   "codemirror_mode": {
    "name": "ipython",
    "version": 3
   },
   "file_extension": ".py",
   "mimetype": "text/x-python",
   "name": "python",
   "nbconvert_exporter": "python",
   "pygments_lexer": "ipython3",
   "version": "3.9.13"
  }
 },
 "nbformat": 4,
 "nbformat_minor": 4
}
