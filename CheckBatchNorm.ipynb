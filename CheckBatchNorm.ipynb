{
 "cells": [
  {
   "attachments": {},
   "cell_type": "markdown",
   "id": "64a72a18",
   "metadata": {},
   "source": [
    "# Tests for Batch Norm"
   ]
  },
  {
   "cell_type": "code",
   "execution_count": 43,
   "id": "e49f726d",
   "metadata": {},
   "outputs": [],
   "source": [
    "import numpy as np\n",
    "\n",
    "import PyNetwork\n",
    "import PyNetworkCPU\n",
    "\n",
    "import pyopencl as cl\n",
    "import pyopencl.array as cl_array\n",
    "\n",
    "# from PyNetwork.layers import BatchNormGrads\n",
    "# from PyNetworkCPU.layers import BatchNormGrads as BatchNormGradsCPU"
   ]
  },
  {
   "cell_type": "code",
   "execution_count": 44,
   "id": "5fba55a3",
   "metadata": {},
   "outputs": [],
   "source": [
    "input_shape = (100,)\n",
    "output_nodes = (100, )\n",
    "\n",
    "platform = cl.get_platforms()\n",
    "devices = platform[0].get_devices()\n",
    "context = cl.Context(devices)\n",
    "queue = cl.CommandQueue(context)\n",
    "\n",
    "layer_cpu = PyNetworkCPU.layers.BatchNorm()\n",
    "layer_cpu.build(input_shape)\n",
    "\n",
    "layer_gpu = PyNetwork.layers.BatchNorm()\n",
    "layer_gpu.build(context, queue, input_shape)\n"
   ]
  },
  {
   "cell_type": "markdown",
   "id": "2adf5022",
   "metadata": {},
   "source": [
    "# Test Predict"
   ]
  },
  {
   "cell_type": "code",
   "execution_count": 45,
   "id": "15fba27e",
   "metadata": {},
   "outputs": [],
   "source": [
    "from PyNetwork import utils"
   ]
  },
  {
   "cell_type": "code",
   "execution_count": 46,
   "id": "0c7ce077",
   "metadata": {},
   "outputs": [],
   "source": [
    "n_datapoints = 20\n",
    "z_in = np.random.rand(n_datapoints, *input_shape).astype(np.float32) - 0.5\n",
    "z_in_gpu = cl_array.to_device(queue, z_in)\n",
    "\n",
    "a_true, z_out_true = layer_cpu.predict(z_in, output_only=False)\n",
    "a_true_gpu, z_out_true_gpu = layer_gpu.predict(z_in_gpu, output_only=False)\n",
    "\n",
    "# Test the result\n",
    "np.testing.assert_almost_equal(a_true, a_true_gpu.get(), decimal=6)\n",
    "np.testing.assert_almost_equal(z_out_true, z_out_true_gpu.get(), decimal=6)"
   ]
  },
  {
   "cell_type": "markdown",
   "id": "da68b92b",
   "metadata": {},
   "source": [
    "# Test Backprop"
   ]
  },
  {
   "cell_type": "code",
   "execution_count": 47,
   "id": "a54700ec",
   "metadata": {},
   "outputs": [],
   "source": [
    "g_prime = np.random.rand(n_datapoints, *input_shape).astype(np.float32)\n",
    "new_delta = np.random.rand(n_datapoints, *output_nodes).astype(np.float32)\n",
    "prev_z = np.random.rand(n_datapoints, *input_shape).astype(np.float32)\n",
    "\n",
    "g_prime_gpu = cl_array.to_device(queue, g_prime)\n",
    "new_delta_gpu = cl_array.to_device(queue, new_delta)\n",
    "prev_z_gpu = cl_array.to_device(queue, prev_z)\n",
    "\n",
    "delta_true = layer_cpu.get_delta_backprop_(g_prime, new_delta, prev_z)\n",
    "delta_true_gpu = layer_gpu.get_delta_backprop_(g_prime_gpu, new_delta_gpu, prev_z_gpu)\n",
    "\n",
    "# Test the result\n",
    "np.testing.assert_almost_equal(delta_true, delta_true_gpu.get(), decimal=5)"
   ]
  },
  {
   "cell_type": "markdown",
   "id": "97fbc8e7",
   "metadata": {},
   "source": [
    "# Test Weight Gradients"
   ]
  },
  {
   "cell_type": "code",
   "execution_count": 48,
   "id": "cfa1b041",
   "metadata": {},
   "outputs": [],
   "source": [
    "delta = np.random.rand(n_datapoints, *input_shape).astype(np.float32)\n",
    "prev_z = np.random.rand(n_datapoints, *output_nodes).astype(np.float32)\n",
    "\n",
    "delta_gpu = cl_array.to_device(queue, delta)\n",
    "prev_z_gpu = cl_array.to_device(queue, prev_z)\n",
    "\n",
    "delta_grad_true, w_grad_true = layer_cpu.get_weight_grad_(delta, prev_z)\n",
    "delta_grad_true_gpu, w_grad_true_gpu = layer_gpu.get_weight_grad_(delta_gpu, prev_z_gpu)\n",
    "\n",
    "# Test the result\n",
    "np.testing.assert_almost_equal(delta_grad_true, delta_grad_true_gpu.get(), decimal=5)\n",
    "np.testing.assert_almost_equal(w_grad_true, w_grad_true_gpu.get(), decimal=5)"
   ]
  }
 ],
 "metadata": {
  "kernelspec": {
   "display_name": "Python 3 (ipykernel)",
   "language": "python",
   "name": "python3"
  },
  "language_info": {
   "codemirror_mode": {
    "name": "ipython",
    "version": 3
   },
   "file_extension": ".py",
   "mimetype": "text/x-python",
   "name": "python",
   "nbconvert_exporter": "python",
   "pygments_lexer": "ipython3",
   "version": "3.10.8"
  }
 },
 "nbformat": 4,
 "nbformat_minor": 5
}
