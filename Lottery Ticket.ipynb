{
 "cells": [
  {
   "cell_type": "code",
   "execution_count": null,
   "id": "bb619be7",
   "metadata": {},
   "outputs": [],
   "source": [
    "import numpy as np\n",
    "import matplotlib.pyplot as plt\n",
    "\n",
    "import PyNetwork\n",
    "import pyopencl as cl\n",
    "import pyopencl.array as cl_array\n",
    "\n",
    "platform = cl.get_platforms()\n",
    "devices = platform[0].get_devices()\n",
    "context = cl.Context(devices)\n",
    "queue = cl.CommandQueue(context)"
   ]
  },
  {
   "cell_type": "code",
   "execution_count": null,
   "id": "449c9e8e",
   "metadata": {},
   "outputs": [],
   "source": [
    "from emnist import extract_training_samples, extract_test_samples"
   ]
  },
  {
   "cell_type": "code",
   "execution_count": null,
   "id": "c0fb98d2",
   "metadata": {},
   "outputs": [],
   "source": [
    "# The letters dataset is handwritten letters, as opposed to handwritten digits\n",
    "# Should make the problem a bit harder\n",
    "x_train, y_train = extract_training_samples('letters')\n",
    "x_test, y_test = extract_test_samples('letters')\n",
    "\n",
    "# Make it start counting from 0\n",
    "y_train = y_train - 1\n",
    "y_test = y_test - 1"
   ]
  },
  {
   "cell_type": "code",
   "execution_count": null,
   "id": "14f46877",
   "metadata": {},
   "outputs": [],
   "source": [
    "N = len(np.unique(y_train))\n",
    "N"
   ]
  },
  {
   "cell_type": "code",
   "execution_count": null,
   "id": "36a26ebc",
   "metadata": {},
   "outputs": [],
   "source": [
    "input_shape = (28, 28)\n",
    "x_train = x_train.reshape(-1, *input_shape).astype(np.float32) / 255\n",
    "x_test = x_test.reshape(-1, *input_shape).astype(np.float32) / 255\n",
    "\n",
    "labels = np.eye(N)\n",
    "\n",
    "y_train = labels[y_train.flatten()].astype(np.float32)\n",
    "y_test = labels[y_test.flatten()].astype(np.float32)"
   ]
  },
  {
   "cell_type": "code",
   "execution_count": null,
   "id": "548a3eda",
   "metadata": {},
   "outputs": [],
   "source": [
    "x_train.dtype"
   ]
  },
  {
   "cell_type": "code",
   "execution_count": null,
   "id": "385539b8",
   "metadata": {},
   "outputs": [],
   "source": [
    "def make_model(dense_nodes, activation_functions, masks, initialized_weights, \n",
    "               optimizer, input_shape=(28, 28)):\n",
    "    assert len(dense_nodes) == len(activation_functions), \\\n",
    "            \"Dense nodes and activation functions need to have the same length\"\n",
    "    \n",
    "    # Build the network - assume we only use dense layers\n",
    "    model = PyNetwork.Sequential()\n",
    "    model.add(PyNetwork.layers.Input(input_shape))\n",
    "    model.add(PyNetwork.layers.Flatten())\n",
    "    \n",
    "    for nodes, function, mask in zip(dense_nodes, activation_functions, masks):\n",
    "        dense_layer = PyNetwork.layers.Dense(nodes, activation_function=function, l2=0.0, l1=0.0,\n",
    "                                             trainable_mask=mask)\n",
    "        model.add(dense_layer)\n",
    "    \n",
    "    model.build(context, queue, loss_function='cross_entropy', optimizer=optimizer, metrics='accuracy')\n",
    "    \n",
    "    # Set the weights to the initialized_weights\n",
    "    dense_layers = list(model.layers.values())[2:]\n",
    "    for layer, W in zip(dense_layers, initialized_weights):\n",
    "        if W:\n",
    "            layer.W = W.copy()\n",
    "    \n",
    "    # Set the weights not at the mask to zero\n",
    "    for layer, mask in zip(dense_layers, masks):\n",
    "        if mask:\n",
    "            layer.W *= mask\n",
    "    \n",
    "    return model"
   ]
  },
  {
   "cell_type": "markdown",
   "id": "87f3918c",
   "metadata": {},
   "source": [
    "# Full Network"
   ]
  },
  {
   "cell_type": "code",
   "execution_count": null,
   "id": "ad506b82",
   "metadata": {},
   "outputs": [],
   "source": [
    "dense_nodes = [300, 100, N]\n",
    "activation_functions = ['relu', 'relu', 'relu']\n",
    "\n",
    "masks = [None] * 3\n",
    "initialized_weights = [None] * 3"
   ]
  },
  {
   "cell_type": "code",
   "execution_count": null,
   "id": "c93ce699",
   "metadata": {},
   "outputs": [],
   "source": [
    "optimizer = PyNetwork.optimizers.Adam(learning_rate=0.0005)\n",
    "model = make_model(dense_nodes, activation_functions, masks, initialized_weights, \n",
    "                   optimizer, input_shape=input_shape)\n",
    "\n",
    "starting_weights = [layer.W_gpu.copy() \n",
    "                    for layer in model.layers.values() if isinstance(layer, PyNetwork.layers.Dense)]"
   ]
  },
  {
   "cell_type": "code",
   "execution_count": null,
   "id": "060de312",
   "metadata": {},
   "outputs": [],
   "source": [
    "# Transform x_train and y_train into C-contiguous\n",
    "x_train = np.ascontiguousarray(x_train)\n",
    "y_train = np.ascontiguousarray(y_train)\n",
    "x_test = np.ascontiguousarray(x_test)\n",
    "y_test = np.ascontiguousarray(y_test)\n",
    "\n",
    "# Send data to device\n",
    "x_train_gpu = cl_array.to_device(queue, x_train)\n",
    "y_train_gpu = cl_array.to_device(queue, y_train)\n",
    "x_test_gpu = cl_array.to_device(queue, x_test)\n",
    "y_test_gpu = cl_array.to_device(queue, y_test)"
   ]
  },
  {
   "cell_type": "code",
   "execution_count": null,
   "id": "c3c57dfb",
   "metadata": {},
   "outputs": [],
   "source": [
    "model.train(x_train_gpu, y_train_gpu, epochs=5, batch_size=128, verbose=True)\n",
    "\n",
    "trained_weights = [layer.W_gpu.copy()\n",
    "                   for layer in model.layers.values() if isinstance(layer, PyNetwork.layers.Dense)]"
   ]
  },
  {
   "cell_type": "code",
   "execution_count": null,
   "id": "44d3d43c",
   "metadata": {},
   "outputs": [],
   "source": [
    "x_train_gpu.shape"
   ]
  },
  {
   "cell_type": "code",
   "execution_count": null,
   "id": "a599c1c3",
   "metadata": {},
   "outputs": [],
   "source": [
    "print(model.evaluate(x_train_gpu, y_train_gpu))\n",
    "print(model.evaluate(x_test_gpu, y_test_gpu))"
   ]
  },
  {
   "cell_type": "markdown",
   "id": "60b1262d",
   "metadata": {},
   "source": [
    "# Sparse Networks"
   ]
  },
  {
   "cell_type": "markdown",
   "id": "6a14046a",
   "metadata": {},
   "source": [
    "## Randomly Sampled Network"
   ]
  },
  {
   "cell_type": "code",
   "execution_count": null,
   "id": "4c7fba3a",
   "metadata": {},
   "outputs": [],
   "source": [
    "p = 0.5"
   ]
  },
  {
   "cell_type": "code",
   "execution_count": null,
   "id": "d39c4713",
   "metadata": {},
   "outputs": [],
   "source": [
    "masks = []\n",
    "for W in trained_weights:\n",
    "    W_random = np.random.rand(*W.shape)\n",
    "    threshold = np.quantile(abs(W_random), p)\n",
    "    mask = abs(W) > threshold\n",
    "    \n",
    "    masks.append(mask)\n",
    "    \n",
    "initialized_weights = [None] * 3\n",
    "optimizer = PyNetwork.optimizers.Adam(learning_rate=0.0005)\n",
    "model = make_model(dense_nodes, activation_functions, masks, initialized_weights, \n",
    "                   optimizer, input_shape=input_shape)"
   ]
  },
  {
   "cell_type": "code",
   "execution_count": null,
   "id": "e2a71e0e",
   "metadata": {},
   "outputs": [],
   "source": [
    "model.train(x_train, y_train, epochs=5, batch_size=128, verbose=True)"
   ]
  },
  {
   "cell_type": "markdown",
   "id": "a6228571",
   "metadata": {},
   "source": [
    "### Normal Pruning"
   ]
  },
  {
   "cell_type": "code",
   "execution_count": null,
   "id": "9abcb953",
   "metadata": {},
   "outputs": [],
   "source": [
    "masks = []\n",
    "for W in trained_weights:\n",
    "    threshold = np.quantile(abs(W), p)\n",
    "    mask = abs(W) > threshold\n",
    "    \n",
    "    masks.append(mask)\n",
    "    \n",
    "initialized_weights = [None] * 3\n",
    "optimizer = PyNetwork.optimizers.Adam(learning_rate=0.0005)\n",
    "model = make_model(dense_nodes, activation_functions, masks, initialized_weights, \n",
    "                   optimizer, input_shape=input_shape)"
   ]
  },
  {
   "cell_type": "code",
   "execution_count": null,
   "id": "3f00d5b5",
   "metadata": {
    "scrolled": true
   },
   "outputs": [],
   "source": [
    "model.train(x_train, y_train, epochs=5, batch_size=128, verbose=True)"
   ]
  },
  {
   "cell_type": "code",
   "execution_count": null,
   "id": "5c54e7b4",
   "metadata": {},
   "outputs": [],
   "source": [
    "print(model.evaluate(x_train, y_train))\n",
    "print(model.evaluate(x_test, y_test))"
   ]
  },
  {
   "cell_type": "markdown",
   "id": "db9b43fb",
   "metadata": {},
   "source": [
    "### Lottery Ticket - Pruning & Use Original Initialization"
   ]
  },
  {
   "cell_type": "code",
   "execution_count": null,
   "id": "41f5824a",
   "metadata": {},
   "outputs": [],
   "source": [
    "masks = []\n",
    "for W in trained_weights:\n",
    "    threshold = np.quantile(abs(W), p)\n",
    "    mask = abs(W) > threshold\n",
    "    \n",
    "    masks.append(mask)\n",
    "    \n",
    "initialized_weights = starting_weights\n",
    "optimizer = PyNetwork.optimizers.Adam(learning_rate=0.0005)\n",
    "model = make_model(dense_nodes, activation_functions, masks, initialized_weights, \n",
    "                   optimizer, input_shape=input_shape)"
   ]
  },
  {
   "cell_type": "code",
   "execution_count": null,
   "id": "b74bcd25",
   "metadata": {},
   "outputs": [],
   "source": [
    "model.train(x_train, y_train, epochs=5, batch_size=128, verbose=True)"
   ]
  },
  {
   "cell_type": "code",
   "execution_count": null,
   "id": "6964e2c3",
   "metadata": {},
   "outputs": [],
   "source": [
    "print(model.evaluate(x_train, y_train))\n",
    "print(model.evaluate(x_test, y_test))"
   ]
  }
 ],
 "metadata": {
  "kernelspec": {
   "display_name": "Python 3 (ipykernel)",
   "language": "python",
   "name": "python3"
  },
  "language_info": {
   "codemirror_mode": {
    "name": "ipython",
    "version": 3
   },
   "file_extension": ".py",
   "mimetype": "text/x-python",
   "name": "python",
   "nbconvert_exporter": "python",
   "pygments_lexer": "ipython3",
   "version": "3.10.8"
  }
 },
 "nbformat": 4,
 "nbformat_minor": 5
}
