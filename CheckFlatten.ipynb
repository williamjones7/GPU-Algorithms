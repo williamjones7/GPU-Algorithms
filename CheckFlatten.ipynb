{
 "cells": [
  {
   "attachments": {},
   "cell_type": "markdown",
   "id": "64a72a18",
   "metadata": {},
   "source": [
    "# Tests for Flatten Layer\n",
    "\n",
    "To make sure that the output from the GPU is correct, you should test them against what you get with the original CPU implementation. The following code is what you get from the original implementation on the CPU."
   ]
  },
  {
   "cell_type": "code",
   "execution_count": 19,
   "id": "e49f726d",
   "metadata": {},
   "outputs": [],
   "source": [
    "import numpy as np\n",
    "\n",
    "import PyNetwork\n",
    "import pyopencl as cl\n",
    "import pyopencl.array as cl_array"
   ]
  },
  {
   "cell_type": "code",
   "execution_count": 20,
   "id": "5fba55a3",
   "metadata": {},
   "outputs": [],
   "source": [
    "input_shape = (10, 9)\n",
    "output_nodes = 90\n",
    "\n",
    "platform = cl.get_platforms()\n",
    "devices = platform[0].get_devices()\n",
    "context = cl.Context(devices)\n",
    "queue = cl.CommandQueue(context)\n",
    "layer = PyNetwork.layers.Flatten()\n",
    "layer.build(context, queue, input_shape)"
   ]
  },
  {
   "cell_type": "markdown",
   "id": "2adf5022",
   "metadata": {},
   "source": [
    "# Test Predict"
   ]
  },
  {
   "cell_type": "code",
   "execution_count": 21,
   "id": "15fba27e",
   "metadata": {},
   "outputs": [],
   "source": [
    "from PyNetwork import utils"
   ]
  },
  {
   "cell_type": "code",
   "execution_count": 22,
   "id": "0c7ce077",
   "metadata": {},
   "outputs": [
    {
     "data": {
      "text/plain": [
       "True"
      ]
     },
     "execution_count": 22,
     "metadata": {},
     "output_type": "execute_result"
    }
   ],
   "source": [
    "n_datapoints = 20\n",
    "z_in = np.random.rand(n_datapoints, *input_shape).astype(np.float32) - 0.5\n",
    "z_in_gpu = cl_array.to_device(queue, z_in)\n",
    "\n",
    "a_true, z_out_true = layer.predict(z_in_gpu, output_only=False)\n",
    "\n",
    "# Test the result\n",
    "(z_in.reshape(len(z_in), -1) == z_out_true.get()).all()"
   ]
  },
  {
   "cell_type": "markdown",
   "id": "da68b92b",
   "metadata": {},
   "source": [
    "# Test Backprop"
   ]
  },
  {
   "cell_type": "code",
   "execution_count": 23,
   "id": "a54700ec",
   "metadata": {},
   "outputs": [
    {
     "data": {
      "text/plain": [
       "True"
      ]
     },
     "execution_count": 23,
     "metadata": {},
     "output_type": "execute_result"
    }
   ],
   "source": [
    "g_prime = np.random.rand(n_datapoints, *input_shape).astype(np.float32)\n",
    "new_delta = np.random.rand(n_datapoints, output_nodes).astype(np.float32)\n",
    "\n",
    "g_prime_gpu = cl_array.to_device(queue, g_prime)\n",
    "new_delta_gpu = cl_array.to_device(queue, new_delta)\n",
    "\n",
    "delta_true = layer.get_delta_backprop_(g_prime_gpu, new_delta_gpu)\n",
    "\n",
    "# Test the result\n",
    "(delta_true.reshape(len(delta_true), -1).get() == new_delta).all()"
   ]
  },
  {
   "cell_type": "markdown",
   "id": "97fbc8e7",
   "metadata": {},
   "source": [
    "# Test Weight Gradients"
   ]
  },
  {
   "cell_type": "code",
   "execution_count": 24,
   "id": "cfa1b041",
   "metadata": {},
   "outputs": [],
   "source": [
    "delta = np.random.rand(n_datapoints, *input_shape).astype(np.float32)\n",
    "prev_z = np.random.rand(n_datapoints, output_nodes).astype(np.float32)\n",
    "\n",
    "delta_gpu = cl_array.to_device(queue, delta)\n",
    "prev_z_gpu = cl_array.to_device(queue, prev_z)\n",
    "\n",
    "# Test if it is running\n",
    "delta_grad_true, w_grad_true = layer.get_weight_grad_(delta_gpu, prev_z_gpu)"
   ]
  }
 ],
 "metadata": {
  "kernelspec": {
   "display_name": "Python 3 (ipykernel)",
   "language": "python",
   "name": "python3"
  },
  "language_info": {
   "codemirror_mode": {
    "name": "ipython",
    "version": 3
   },
   "file_extension": ".py",
   "mimetype": "text/x-python",
   "name": "python",
   "nbconvert_exporter": "python",
   "pygments_lexer": "ipython3",
   "version": "3.10.8"
  }
 },
 "nbformat": 4,
 "nbformat_minor": 5
}
