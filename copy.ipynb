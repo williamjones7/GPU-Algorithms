{
 "cells": [
  {
   "cell_type": "code",
   "execution_count": 1,
   "metadata": {},
   "outputs": [],
   "source": [
    "from PyNetwork import utils\n",
    "import pyopencl as cl\n",
    "import pyopencl.array as cl_array\n",
    "import numpy as np\n",
    "\n",
    "n = 10\n",
    "m = 100\n",
    "d = 20\n",
    "\n",
    "platform = cl.get_platforms()\n",
    "devices = platform[0].get_devices()\n",
    "context = cl.Context(devices)\n",
    "queue = cl.CommandQueue(context)"
   ]
  },
  {
   "cell_type": "code",
   "execution_count": 2,
   "metadata": {},
   "outputs": [],
   "source": [
    "c_code = '''\n",
    "__kernel void cut(__global float *a, __global float *out, int original_width, int output_width){\n",
    "    int global_col = get_global_id(1);\n",
    "    int global_row = get_global_id(0);\n",
    "\n",
    "    out[global_row * output_width + global_col] = a[global_row * original_width + global_col];\n",
    "}\n",
    "'''"
   ]
  },
  {
   "cell_type": "code",
   "execution_count": 3,
   "metadata": {},
   "outputs": [],
   "source": [
    "program = cl.Program(context, c_code).build()"
   ]
  },
  {
   "cell_type": "code",
   "execution_count": 9,
   "metadata": {},
   "outputs": [],
   "source": [
    "def cut(X, n, m):\n",
    "    out = cl_array.zeros(queue, (n, m), dtype=np.float32)\n",
    "    program.cut(queue, (n, m), None,\n",
    "                X.data, out.data, np.int32(X.shape[1]), np.int32(m)).wait()\n",
    "    return out"
   ]
  },
  {
   "cell_type": "code",
   "execution_count": 14,
   "metadata": {},
   "outputs": [],
   "source": [
    "X = np.random.rand(200, 100).astype(np.float32)\n",
    "X_gpu = cl_array.to_device(queue, X)"
   ]
  },
  {
   "cell_type": "code",
   "execution_count": 18,
   "metadata": {},
   "outputs": [],
   "source": [
    "n, m = np.random.randint(200), np.random.randint(100)\n",
    "out = cut(X_gpu, n, m)\n",
    "\n",
    "np.testing.assert_almost_equal(X[:n, :m], out.get())"
   ]
  },
  {
   "cell_type": "code",
   "execution_count": 12,
   "metadata": {},
   "outputs": [],
   "source": [
    "np.testing.assert_almost_equal(X[:n, :m], out.get())"
   ]
  },
  {
   "cell_type": "code",
   "execution_count": null,
   "metadata": {},
   "outputs": [],
   "source": []
  }
 ],
 "metadata": {
  "kernelspec": {
   "display_name": "Python 3",
   "language": "python",
   "name": "python3"
  },
  "language_info": {
   "codemirror_mode": {
    "name": "ipython",
    "version": 3
   },
   "file_extension": ".py",
   "mimetype": "text/x-python",
   "name": "python",
   "nbconvert_exporter": "python",
   "pygments_lexer": "ipython3",
   "version": "3.10.8"
  },
  "orig_nbformat": 4
 },
 "nbformat": 4,
 "nbformat_minor": 2
}
