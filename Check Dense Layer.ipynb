{
 "cells": [
  {
   "cell_type": "markdown",
   "id": "64a72a18",
   "metadata": {},
   "source": [
    "# Tests for Dense Layer\n",
    "\n",
    "To make sure that the output from the GPU is correct, you should test them against what you get with the original CPU implementation. The following code is what you get from the original implementation on the CPU.\n",
    "\n",
    "You should do the same for any other layer you implement."
   ]
  },
  {
   "cell_type": "code",
   "execution_count": 1,
   "id": "e49f726d",
   "metadata": {},
   "outputs": [],
   "source": [
    "import numpy as np\n",
    "\n",
    "import PyNetwork\n",
    "import pyopencl as cl\n",
    "import pyopencl.array as cl_array"
   ]
  },
  {
   "cell_type": "code",
   "execution_count": 2,
   "id": "5fba55a3",
   "metadata": {},
   "outputs": [],
   "source": [
    "input_shape = (10,)\n",
    "output_nodes = 100\n",
    "\n",
    "platform = cl.get_platforms()\n",
    "devices = platform[0].get_devices()\n",
    "context = cl.Context(devices)\n",
    "queue = cl.CommandQueue(context)\n",
    "layer = PyNetwork.layers.Dense(output_nodes, 'relu')\n",
    "layer.build(context, queue, input_shape)"
   ]
  },
  {
   "cell_type": "markdown",
   "id": "2adf5022",
   "metadata": {},
   "source": [
    "# Test Predict"
   ]
  },
  {
   "cell_type": "code",
   "execution_count": 3,
   "id": "15fba27e",
   "metadata": {},
   "outputs": [],
   "source": [
    "from PyNetwork import utils"
   ]
  },
  {
   "cell_type": "code",
   "execution_count": 4,
   "id": "0c7ce077",
   "metadata": {},
   "outputs": [],
   "source": [
    "n_datapoints = 20\n",
    "z_in = np.random.rand(n_datapoints, *input_shape).astype(np.float32) - 0.5\n",
    "\n",
    "a_true, z_out_true = layer.predict(z_in, output_only=False)"
   ]
  },
  {
   "cell_type": "markdown",
   "id": "da68b92b",
   "metadata": {},
   "source": [
    "# Test Backprop"
   ]
  },
  {
   "cell_type": "code",
   "execution_count": 5,
   "id": "a54700ec",
   "metadata": {},
   "outputs": [],
   "source": [
    "g_prime = np.random.rand(n_datapoints, *input_shape).astype(np.float32)\n",
    "new_delta = np.random.rand(n_datapoints, output_nodes).astype(np.float32)\n",
    "\n",
    "delta_true = layer.get_delta_backprop_(g_prime, new_delta)"
   ]
  },
  {
   "cell_type": "markdown",
   "id": "97fbc8e7",
   "metadata": {},
   "source": [
    "# Test Weight Gradients"
   ]
  },
  {
   "cell_type": "code",
   "execution_count": 6,
   "id": "cfa1b041",
   "metadata": {},
   "outputs": [],
   "source": [
    "delta = np.random.rand(n_datapoints, *input_shape).astype(np.float32)\n",
    "prev_z = np.random.rand(n_datapoints, output_nodes).astype(np.float32)"
   ]
  },
  {
   "cell_type": "code",
   "execution_count": 7,
   "id": "10fb1146",
   "metadata": {},
   "outputs": [],
   "source": [
    "delta_grad_true, w_grad_true = layer.get_weight_grad_(delta, prev_z)"
   ]
  },
  {
   "cell_type": "code",
   "execution_count": null,
   "id": "2ccb6af2",
   "metadata": {},
   "outputs": [],
   "source": []
  }
 ],
 "metadata": {
  "kernelspec": {
   "display_name": "Python 3 (ipykernel)",
   "language": "python",
   "name": "python3"
  },
  "language_info": {
   "codemirror_mode": {
    "name": "ipython",
    "version": 3
   },
   "file_extension": ".py",
   "mimetype": "text/x-python",
   "name": "python",
   "nbconvert_exporter": "python",
   "pygments_lexer": "ipython3",
   "version": "3.10.8"
  }
 },
 "nbformat": 4,
 "nbformat_minor": 5
}
