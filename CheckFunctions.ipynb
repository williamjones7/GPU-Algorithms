{
 "cells": [
  {
   "attachments": {},
   "cell_type": "markdown",
   "metadata": {},
   "source": [
    "# Check Functions"
   ]
  },
  {
   "cell_type": "code",
   "execution_count": 34,
   "metadata": {},
   "outputs": [],
   "source": [
    "from PyNetwork import ActivationFunctions, ErrorFunctions, MetricFunctions\n",
    "import PyNetworkCPU\n",
    "import pyopencl as cl\n",
    "import pyopencl.array as cl_array\n",
    "import numpy as np\n",
    "\n",
    "platform = cl.get_platforms()\n",
    "devices = platform[0].get_devices()\n",
    "context = cl.Context(devices)\n",
    "queue = cl.CommandQueue(context)\n",
    "\n",
    "x = np.random.rand(100, 20).astype(np.float32)\n",
    "x_gpu = cl_array.to_device(queue, x.astype(np.float32))\n",
    "\n",
    "gpu_activation = ActivationFunctions(context, queue)\n",
    "gpu_error = ErrorFunctions()\n",
    "gpu_metric = MetricFunctions(context, queue)"
   ]
  },
  {
   "attachments": {},
   "cell_type": "markdown",
   "metadata": {},
   "source": [
    "## Testing Activation Functions"
   ]
  },
  {
   "cell_type": "code",
   "execution_count": 35,
   "metadata": {},
   "outputs": [],
   "source": [
    "linear_cpu = PyNetworkCPU.get_activation_function('linear')\n",
    "linear_gpu = gpu_activation.get_activation_function('linear')\n",
    "\n",
    "# Test the result of passing through\n",
    "np.testing.assert_almost_equal(linear_cpu(x), linear_gpu(x_gpu).get())\n",
    "np.testing.assert_almost_equal(linear_cpu(x, grad=True), linear_gpu(x_gpu, grad=True).get())"
   ]
  },
  {
   "cell_type": "code",
   "execution_count": 36,
   "metadata": {},
   "outputs": [],
   "source": [
    "relu_cpu = PyNetworkCPU.get_activation_function('relu')\n",
    "relu_gpu = gpu_activation.get_activation_function('relu')\n",
    "\n",
    "# Test the result of ReLU\n",
    "np.testing.assert_almost_equal(relu_cpu(x), relu_gpu(x_gpu).get())\n",
    "np.testing.assert_almost_equal(relu_cpu(x, grad=True), relu_gpu(x_gpu, grad=True).get())"
   ]
  },
  {
   "cell_type": "code",
   "execution_count": 37,
   "metadata": {},
   "outputs": [],
   "source": [
    "softmax_cpu = PyNetworkCPU.get_activation_function('softmax')\n",
    "softmax_gpu = gpu_activation.get_activation_function('softmax')\n",
    "\n",
    "# Test the result of softmax\n",
    "np.testing.assert_almost_equal(softmax_cpu(x), softmax_gpu(x_gpu).get())\n",
    "np.testing.assert_almost_equal(softmax_cpu(x, grad=True), softmax_gpu(x_gpu, grad=True).get())"
   ]
  },
  {
   "attachments": {},
   "cell_type": "markdown",
   "metadata": {},
   "source": [
    "## Testing Error Functions"
   ]
  },
  {
   "cell_type": "code",
   "execution_count": 38,
   "metadata": {},
   "outputs": [],
   "source": [
    "mask = np.random.randint(2, size=(100, 20)).astype(np.int32)\n",
    "target = mask * x\n",
    "target_gpu = cl_array.to_device(queue, target.astype(np.float32))"
   ]
  },
  {
   "cell_type": "code",
   "execution_count": 39,
   "metadata": {},
   "outputs": [],
   "source": [
    "mse_cpu = PyNetworkCPU.get_error_function('mse')\n",
    "mse_gpu = gpu_error.get_error_function('mse')\n",
    "\n",
    "# Test the result of passing through\n",
    "np.testing.assert_almost_equal(mse_cpu(target, x), mse_gpu(target_gpu, x_gpu).get())\n",
    "np.testing.assert_almost_equal(mse_cpu(x, target, grad=True), mse_gpu(x_gpu, target_gpu, grad=True).get(), decimal=6)"
   ]
  },
  {
   "cell_type": "code",
   "execution_count": 40,
   "metadata": {},
   "outputs": [],
   "source": [
    "cross_entropy_cpu = PyNetworkCPU.get_error_function('cross_entropy')\n",
    "cross_entropy_gpu = gpu_error.get_error_function('cross_entropy')\n",
    "\n",
    "# Test the result of cross entropy\n",
    "np.testing.assert_almost_equal(cross_entropy_cpu(x, target), cross_entropy_gpu(x_gpu, target_gpu).get(), decimal=3)\n",
    "np.testing.assert_almost_equal(cross_entropy_cpu(x, target, grad=True), cross_entropy_gpu(x_gpu, target_gpu, grad=True).get(), decimal=3)"
   ]
  },
  {
   "attachments": {},
   "cell_type": "markdown",
   "metadata": {},
   "source": [
    "## Testing Metric Functions"
   ]
  },
  {
   "cell_type": "code",
   "execution_count": 41,
   "metadata": {},
   "outputs": [],
   "source": [
    "accuracy_cpu = PyNetworkCPU.get_metric_function('accuracy')\n",
    "accuracy_gpu = gpu_metric.get_metric_function('accuracy')\n",
    "\n",
    "# Test the result of accuracy\n",
    "np.testing.assert_almost_equal(accuracy_cpu(target, x), accuracy_gpu(target_gpu, x_gpu).get())"
   ]
  },
  {
   "cell_type": "code",
   "execution_count": null,
   "metadata": {},
   "outputs": [],
   "source": []
  }
 ],
 "metadata": {
  "kernelspec": {
   "display_name": "Python 3",
   "language": "python",
   "name": "python3"
  },
  "language_info": {
   "codemirror_mode": {
    "name": "ipython",
    "version": 3
   },
   "file_extension": ".py",
   "mimetype": "text/x-python",
   "name": "python",
   "nbconvert_exporter": "python",
   "pygments_lexer": "ipython3",
   "version": "3.10.8"
  },
  "orig_nbformat": 4
 },
 "nbformat": 4,
 "nbformat_minor": 2
}
