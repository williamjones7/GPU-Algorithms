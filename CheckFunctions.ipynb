{
 "cells": [
  {
   "attachments": {},
   "cell_type": "markdown",
   "metadata": {},
   "source": [
    "# Check Functions"
   ]
  },
  {
   "cell_type": "code",
   "execution_count": 1,
   "metadata": {},
   "outputs": [],
   "source": [
    "from PyNetwork import ActivationFunctions, ErrorFunctions, MetricFunctions\n",
    "import PyNetworkCPU\n",
    "import pyopencl as cl\n",
    "import pyopencl.array as cl_array\n",
    "import numpy as np\n",
    "\n",
    "platform = cl.get_platforms()\n",
    "devices = platform[0].get_devices()\n",
    "context = cl.Context(devices)\n",
    "queue = cl.CommandQueue(context)\n",
    "\n",
    "x = np.random.rand(100, 20).astype(np.float32)\n",
    "x_gpu = cl_array.to_device(queue, x.astype(np.float32))\n",
    "\n",
    "gpu_activation = ActivationFunctions(context, queue)\n",
    "gpu_error = ErrorFunctions()\n",
    "gpu_metric = MetricFunctions(context, queue)"
   ]
  },
  {
   "attachments": {},
   "cell_type": "markdown",
   "metadata": {},
   "source": [
    "## Testing Activation Functions"
   ]
  },
  {
   "cell_type": "code",
   "execution_count": 2,
   "metadata": {},
   "outputs": [],
   "source": [
    "linear_cpu = PyNetworkCPU.get_activation_function('linear')\n",
    "linear_gpu = gpu_activation.get_activation_function('linear')\n",
    "\n",
    "# Test the result of passing through\n",
    "np.testing.assert_almost_equal(linear_cpu(x), linear_gpu(x_gpu).get())\n",
    "np.testing.assert_almost_equal(linear_cpu(x, grad=True), linear_gpu(x_gpu, grad=True).get())"
   ]
  },
  {
   "cell_type": "code",
   "execution_count": 3,
   "metadata": {},
   "outputs": [],
   "source": [
    "relu_cpu = PyNetworkCPU.get_activation_function('relu')\n",
    "relu_gpu = gpu_activation.get_activation_function('relu')\n",
    "\n",
    "# Test the result of ReLU\n",
    "np.testing.assert_almost_equal(relu_cpu(x), relu_gpu(x_gpu).get())\n",
    "np.testing.assert_almost_equal(relu_cpu(x, grad=True), relu_gpu(x_gpu, grad=True).get())"
   ]
  },
  {
   "cell_type": "code",
   "execution_count": 4,
   "metadata": {},
   "outputs": [
    {
     "ename": "AssertionError",
     "evalue": "\nArrays are not almost equal to 7 decimals\n\nx and y nan location mismatch:\n x: array([[0.0442399, 0.0343169, 0.0542044, ..., 0.0560015, 0.0392453,\n        0.0366075],\n       [0.0645683, 0.0435788, 0.0606747, ..., 0.0312658, 0.0484316,...\n y: array([[0.0442399, 0.0343169, 0.0542044, ..., 0.0560015, 0.0392453,\n        0.0366075],\n       [      nan,       nan,       nan, ...,       nan,       nan,...",
     "output_type": "error",
     "traceback": [
      "\u001b[1;31m---------------------------------------------------------------------------\u001b[0m",
      "\u001b[1;31mAssertionError\u001b[0m                            Traceback (most recent call last)",
      "\u001b[1;32md:\\Git\\RSCAM-Group-Project--1\\CheckFunctions.ipynb Cell 6\u001b[0m in \u001b[0;36m5\n\u001b[0;32m      <a href='vscode-notebook-cell:/d%3A/Git/RSCAM-Group-Project--1/CheckFunctions.ipynb#X15sZmlsZQ%3D%3D?line=1'>2</a>\u001b[0m softmax_gpu \u001b[39m=\u001b[39m gpu_activation\u001b[39m.\u001b[39mget_activation_function(\u001b[39m'\u001b[39m\u001b[39msoftmax\u001b[39m\u001b[39m'\u001b[39m)\n\u001b[0;32m      <a href='vscode-notebook-cell:/d%3A/Git/RSCAM-Group-Project--1/CheckFunctions.ipynb#X15sZmlsZQ%3D%3D?line=3'>4</a>\u001b[0m \u001b[39m# Test the result of softmax\u001b[39;00m\n\u001b[1;32m----> <a href='vscode-notebook-cell:/d%3A/Git/RSCAM-Group-Project--1/CheckFunctions.ipynb#X15sZmlsZQ%3D%3D?line=4'>5</a>\u001b[0m np\u001b[39m.\u001b[39;49mtesting\u001b[39m.\u001b[39;49massert_almost_equal(softmax_cpu(x), softmax_gpu(x_gpu)\u001b[39m.\u001b[39;49mget())\n\u001b[0;32m      <a href='vscode-notebook-cell:/d%3A/Git/RSCAM-Group-Project--1/CheckFunctions.ipynb#X15sZmlsZQ%3D%3D?line=5'>6</a>\u001b[0m np\u001b[39m.\u001b[39mtesting\u001b[39m.\u001b[39massert_almost_equal(softmax_cpu(x, grad\u001b[39m=\u001b[39m\u001b[39mTrue\u001b[39;00m), softmax_gpu(x_gpu, grad\u001b[39m=\u001b[39m\u001b[39mTrue\u001b[39;00m)\u001b[39m.\u001b[39mget())\n",
      "    \u001b[1;31m[... skipping hidden 3 frame]\u001b[0m\n",
      "File \u001b[1;32mc:\\Users\\yadayadayada\\AppData\\Local\\Programs\\Python\\Python310\\lib\\site-packages\\numpy\\testing\\_private\\utils.py:745\u001b[0m, in \u001b[0;36massert_array_compare.<locals>.func_assert_same_pos\u001b[1;34m(x, y, func, hasval)\u001b[0m\n\u001b[0;32m    740\u001b[0m \u001b[39mif\u001b[39;00m bool_(x_id \u001b[39m==\u001b[39m y_id)\u001b[39m.\u001b[39mall() \u001b[39m!=\u001b[39m \u001b[39mTrue\u001b[39;00m:\n\u001b[0;32m    741\u001b[0m     msg \u001b[39m=\u001b[39m build_err_msg([x, y],\n\u001b[0;32m    742\u001b[0m                         err_msg \u001b[39m+\u001b[39m \u001b[39m'\u001b[39m\u001b[39m\\n\u001b[39;00m\u001b[39mx and y \u001b[39m\u001b[39m%s\u001b[39;00m\u001b[39m location mismatch:\u001b[39m\u001b[39m'\u001b[39m\n\u001b[0;32m    743\u001b[0m                         \u001b[39m%\u001b[39m (hasval), verbose\u001b[39m=\u001b[39mverbose, header\u001b[39m=\u001b[39mheader,\n\u001b[0;32m    744\u001b[0m                         names\u001b[39m=\u001b[39m(\u001b[39m'\u001b[39m\u001b[39mx\u001b[39m\u001b[39m'\u001b[39m, \u001b[39m'\u001b[39m\u001b[39my\u001b[39m\u001b[39m'\u001b[39m), precision\u001b[39m=\u001b[39mprecision)\n\u001b[1;32m--> 745\u001b[0m     \u001b[39mraise\u001b[39;00m \u001b[39mAssertionError\u001b[39;00m(msg)\n\u001b[0;32m    746\u001b[0m \u001b[39m# If there is a scalar, then here we know the array has the same\u001b[39;00m\n\u001b[0;32m    747\u001b[0m \u001b[39m# flag as it everywhere, so we should return the scalar flag.\u001b[39;00m\n\u001b[0;32m    748\u001b[0m \u001b[39mif\u001b[39;00m \u001b[39misinstance\u001b[39m(x_id, \u001b[39mbool\u001b[39m) \u001b[39mor\u001b[39;00m x_id\u001b[39m.\u001b[39mndim \u001b[39m==\u001b[39m \u001b[39m0\u001b[39m:\n",
      "\u001b[1;31mAssertionError\u001b[0m: \nArrays are not almost equal to 7 decimals\n\nx and y nan location mismatch:\n x: array([[0.0442399, 0.0343169, 0.0542044, ..., 0.0560015, 0.0392453,\n        0.0366075],\n       [0.0645683, 0.0435788, 0.0606747, ..., 0.0312658, 0.0484316,...\n y: array([[0.0442399, 0.0343169, 0.0542044, ..., 0.0560015, 0.0392453,\n        0.0366075],\n       [      nan,       nan,       nan, ...,       nan,       nan,..."
     ]
    }
   ],
   "source": [
    "softmax_cpu = PyNetworkCPU.get_activation_function('softmax')\n",
    "softmax_gpu = gpu_activation.get_activation_function('softmax')\n",
    "\n",
    "# Test the result of softmax\n",
    "np.testing.assert_almost_equal(softmax_cpu(x), softmax_gpu(x_gpu).get())\n",
    "np.testing.assert_almost_equal(softmax_cpu(x, grad=True), softmax_gpu(x_gpu, grad=True).get())"
   ]
  },
  {
   "attachments": {},
   "cell_type": "markdown",
   "metadata": {},
   "source": [
    "## Testing Error Functions"
   ]
  },
  {
   "cell_type": "code",
   "execution_count": null,
   "metadata": {},
   "outputs": [],
   "source": [
    "mask = np.random.randint(2, size=(100, 20)).astype(np.int32)\n",
    "target = mask * x\n",
    "target_gpu = cl_array.to_device(queue, target.astype(np.float32))"
   ]
  },
  {
   "cell_type": "code",
   "execution_count": null,
   "metadata": {},
   "outputs": [],
   "source": [
    "mse_cpu = PyNetworkCPU.get_error_function('mse')\n",
    "mse_gpu = gpu_error.get_error_function('mse')\n",
    "\n",
    "# Test the result of passing through\n",
    "np.testing.assert_almost_equal(mse_cpu(target, x), mse_gpu(target_gpu, x_gpu).get())\n",
    "np.testing.assert_almost_equal(mse_cpu(x, target, grad=True), mse_gpu(x_gpu, target_gpu, grad=True).get(), decimal=6)"
   ]
  },
  {
   "cell_type": "code",
   "execution_count": null,
   "metadata": {},
   "outputs": [],
   "source": [
    "cross_entropy_cpu = PyNetworkCPU.get_error_function('cross_entropy')\n",
    "cross_entropy_gpu = gpu_error.get_error_function('cross_entropy')\n",
    "\n",
    "# Test the result of passing through\n",
    "np.testing.assert_almost_equal(cross_entropy_cpu(x, target), cross_entropy_gpu(x_gpu, target_gpu).get(), decimal=6)\n",
    "np.testing.assert_almost_equal(cross_entropy_cpu(x, target, grad=True), cross_entropy_gpu(x_gpu, target_gpu, grad=True).get(), decimal=4)"
   ]
  },
  {
   "attachments": {},
   "cell_type": "markdown",
   "metadata": {},
   "source": [
    "## Testing Metric Functions"
   ]
  },
  {
   "cell_type": "code",
   "execution_count": null,
   "metadata": {},
   "outputs": [
    {
     "name": "stdout",
     "output_type": "stream",
     "text": [
      "int8\n"
     ]
    }
   ],
   "source": [
    "accuracy_cpu = PyNetworkCPU.get_metric_function('accuracy')\n",
    "accuracy_gpu = gpu_metric.get_metric_function('accuracy')\n",
    "\n",
    "# Test the result of accuracy\n",
    "np.testing.assert_almost_equal(accuracy_cpu(target, x), accuracy_gpu(target_gpu, x_gpu).get())"
   ]
  },
  {
   "cell_type": "code",
   "execution_count": null,
   "metadata": {},
   "outputs": [],
   "source": []
  }
 ],
 "metadata": {
  "kernelspec": {
   "display_name": "Python 3",
   "language": "python",
   "name": "python3"
  },
  "language_info": {
   "codemirror_mode": {
    "name": "ipython",
    "version": 3
   },
   "file_extension": ".py",
   "mimetype": "text/x-python",
   "name": "python",
   "nbconvert_exporter": "python",
   "pygments_lexer": "ipython3",
   "version": "3.10.8"
  },
  "orig_nbformat": 4
 },
 "nbformat": 4,
 "nbformat_minor": 2
}
