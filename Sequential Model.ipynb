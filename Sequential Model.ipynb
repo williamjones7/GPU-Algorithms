{
 "cells": [
  {
   "cell_type": "code",
   "execution_count": 1,
   "id": "bb619be7",
   "metadata": {},
   "outputs": [],
   "source": [
    "import numpy as np\n",
    "import matplotlib.pyplot as plt\n",
    "\n",
    "import tensorflow as tf\n",
    "\n",
    "import PyNetwork\n",
    "import pyopencl as cl\n",
    "import pyopencl.array as cl_array"
   ]
  },
  {
   "cell_type": "code",
   "execution_count": 2,
   "id": "49ff22ba",
   "metadata": {},
   "outputs": [],
   "source": [
    "platform = cl.get_platforms()\n",
    "devices = platform[0].get_devices()\n",
    "context = cl.Context(devices)\n",
    "queue = cl.CommandQueue(context)"
   ]
  },
  {
   "cell_type": "code",
   "execution_count": 3,
   "id": "36a26ebc",
   "metadata": {},
   "outputs": [],
   "source": [
    "(x_train, y_train), (x_test, y_test) = tf.keras.datasets.fashion_mnist.load_data()\n",
    "\n",
    "shape = (28, 28)\n",
    "x_train = x_train.reshape(-1, *shape).astype(np.float32) / 255\n",
    "x_test = x_test.reshape(-1, *shape).astype(np.float32) / 255\n",
    "\n",
    "labels = np.eye(10)\n",
    "\n",
    "y_train = labels[y_train.flatten()].astype(np.float32)\n",
    "y_test = labels[y_test.flatten()].astype(np.float32)\n",
    "\n",
    "# Transform x_train and y_train into C-contiguous\n",
    "x_train = np.ascontiguousarray(x_train)\n",
    "y_train = np.ascontiguousarray(y_train)\n",
    "x_test = np.ascontiguousarray(x_test)\n",
    "y_test = np.ascontiguousarray(y_test)\n",
    "\n",
    "# Send data to device\n",
    "x_train_gpu = cl_array.to_device(queue, x_train)\n",
    "y_train_gpu = cl_array.to_device(queue, y_train)\n",
    "x_test_gpu = cl_array.to_device(queue, x_test)\n",
    "y_test_gpu = cl_array.to_device(queue, y_test)"
   ]
  },
  {
   "cell_type": "markdown",
   "id": "830ab8e1",
   "metadata": {},
   "source": [
    "# Large Learning Rate"
   ]
  },
  {
   "cell_type": "code",
   "execution_count": 8,
   "id": "c93ce699",
   "metadata": {},
   "outputs": [],
   "source": [
    "model = PyNetwork.Sequential()\n",
    "\n",
    "model.add(PyNetwork.layers.Input((28, 28)))\n",
    "model.add(PyNetwork.layers.Flatten())\n",
    "model.add(PyNetwork.layers.Dense(100, activation_function='relu', l2=0.00, l1=0.0))\n",
    "# model.add(PyNetwork.layers.BatchNorm())\n",
    "model.add(PyNetwork.layers.Dense(10, activation_function='relu', l2=0.0, l1=0.0))\n",
    "\n",
    "optimizer = PyNetwork.optimizers.RMSprop(learning_rate=0.0005)\n",
    "model.build(context, queue, loss_function='cross_entropy', optimizer=optimizer, metrics='accuracy')"
   ]
  },
  {
   "cell_type": "code",
   "execution_count": 9,
   "id": "b7804f39",
   "metadata": {},
   "outputs": [
    {
     "name": "stdout",
     "output_type": "stream",
     "text": [
      "Input           :    Input Shape  (None, 28, 28)\n",
      "Flatten         :    Output Shape (None, 784)\n",
      "Dense (100,)    :    Output Shape (None, 100)\n",
      "Dense (10,)     :    Output Shape (None, 10)\n"
     ]
    }
   ],
   "source": [
    "model.summary()"
   ]
  },
  {
   "cell_type": "code",
   "execution_count": 10,
   "id": "c3c57dfb",
   "metadata": {},
   "outputs": [
    {
     "name": "stdout",
     "output_type": "stream",
     "text": [
      "Training on 60000 samples\n",
      "Epoch 1/1\n",
      "cross_entropy: 0.8087 - accuracy: 0.7891\n",
      "CPU times: total: 22.5 s\n",
      "Wall time: 26.5 s\n"
     ]
    }
   ],
   "source": [
    "%%time\n",
    "model.train(x_train_gpu, y_train_gpu, epochs=1, batch_size=128, verbose=True)"
   ]
  },
  {
   "cell_type": "code",
   "execution_count": 7,
   "id": "0eeda532",
   "metadata": {},
   "outputs": [
    {
     "data": {
      "text/plain": [
       "(array(0.7691), 'cross_entropy: 1.1280 - accuracy: 0.7691')"
      ]
     },
     "execution_count": 7,
     "metadata": {},
     "output_type": "execute_result"
    }
   ],
   "source": [
    "model.evaluate(x_test_gpu, y_test_gpu)"
   ]
  },
  {
   "cell_type": "markdown",
   "id": "d1db713b",
   "metadata": {},
   "source": [
    "# Smaller Learning Rate"
   ]
  },
  {
   "cell_type": "code",
   "execution_count": 1,
   "id": "787ff8f4",
   "metadata": {},
   "outputs": [
    {
     "ename": "NameError",
     "evalue": "name 'PyNetwork' is not defined",
     "output_type": "error",
     "traceback": [
      "\u001b[1;31m---------------------------------------------------------------------------\u001b[0m",
      "\u001b[1;31mNameError\u001b[0m                                 Traceback (most recent call last)",
      "\u001b[1;32md:\\Git\\RSCAM-Group-Project--1\\Sequential Model.ipynb Cell 10\u001b[0m in \u001b[0;36m1\n\u001b[1;32m----> <a href='vscode-notebook-cell:/d%3A/Git/RSCAM-Group-Project--1/Sequential%20Model.ipynb#X12sZmlsZQ%3D%3D?line=0'>1</a>\u001b[0m model \u001b[39m=\u001b[39m PyNetwork\u001b[39m.\u001b[39mSequential()\n\u001b[0;32m      <a href='vscode-notebook-cell:/d%3A/Git/RSCAM-Group-Project--1/Sequential%20Model.ipynb#X12sZmlsZQ%3D%3D?line=2'>3</a>\u001b[0m model\u001b[39m.\u001b[39madd(PyNetwork\u001b[39m.\u001b[39mlayers\u001b[39m.\u001b[39mInput((\u001b[39m28\u001b[39m, \u001b[39m28\u001b[39m)))\n\u001b[0;32m      <a href='vscode-notebook-cell:/d%3A/Git/RSCAM-Group-Project--1/Sequential%20Model.ipynb#X12sZmlsZQ%3D%3D?line=3'>4</a>\u001b[0m model\u001b[39m.\u001b[39madd(PyNetwork\u001b[39m.\u001b[39mlayers\u001b[39m.\u001b[39mFlatten())\n",
      "\u001b[1;31mNameError\u001b[0m: name 'PyNetwork' is not defined"
     ]
    }
   ],
   "source": [
    "model = PyNetwork.Sequential()\n",
    "\n",
    "model.add(PyNetwork.layers.Input((28, 28)))\n",
    "model.add(PyNetwork.layers.Flatten())\n",
    "model.add(PyNetwork.layers.Dense(100, activation_function='relu', l2=0.01, l1=0.0))\n",
    "# model.add(PyNetwork.layers.BatchNorm())\n",
    "model.add(PyNetwork.layers.Dense(10, activation_function='relu', l2=0.0, l1=0.0))\n",
    "\n",
    "optimizer = PyNetwork.optimizers.RMSprop(learning_rate=0.0001)\n",
    "model.build(context, queue, loss_function='cross_entropy', optimizer=optimizer, metrics='accuracy')"
   ]
  },
  {
   "cell_type": "code",
   "execution_count": null,
   "id": "25f05ca1",
   "metadata": {},
   "outputs": [
    {
     "name": "stdout",
     "output_type": "stream",
     "text": [
      "Training on 60000 samples\n",
      "Epoch 1/10\n",
      "cross_entropy: 0.7654 - accuracy: 0.7891\n",
      "Training on 60000 samples\n",
      "Epoch 2/10\n",
      "cross_entropy: 1.2702 - accuracy: 0.7344\n",
      "Training on 60000 samples\n",
      "Epoch 3/10\n",
      "cross_entropy: 0.7315 - accuracy: 0.7578\n",
      "Training on 60000 samples\n",
      "Epoch 4/10\n",
      "cross_entropy: 0.7251 - accuracy: 0.7969\n",
      "Training on 60000 samples\n",
      "Epoch 5/10\n",
      "cross_entropy: 0.9732 - accuracy: 0.7656\n",
      "Training on 60000 samples\n",
      "Epoch 6/10\n",
      "cross_entropy: 0.6779 - accuracy: 0.8516\n",
      "Training on 60000 samples\n",
      "Epoch 7/10\n",
      "cross_entropy: 0.9365 - accuracy: 0.7422\n",
      "Training on 60000 samples\n",
      "Epoch 8/10\n",
      "cross_entropy: 1.0520 - accuracy: 0.7500\n",
      "Training on 60000 samples\n",
      "Epoch 9/10\n",
      "cross_entropy: 0.8919 - accuracy: 0.7188\n",
      "Training on 60000 samples\n",
      "Epoch 10/10\n",
      "cross_entropy: 0.7991 - accuracy: 0.7578\n",
      "CPU times: total: 8min 5s\n",
      "Wall time: 11min 34s\n"
     ]
    }
   ],
   "source": [
    "%%time\n",
    "model.train(x_train_gpu, y_train_gpu, epochs=10, batch_size=128, verbose=True)"
   ]
  },
  {
   "cell_type": "code",
   "execution_count": null,
   "id": "355a3623",
   "metadata": {},
   "outputs": [
    {
     "data": {
      "text/plain": [
       "(array(0.0047), 'cross_entropy: 0.8327 - accuracy: 0.0047')"
      ]
     },
     "execution_count": 10,
     "metadata": {},
     "output_type": "execute_result"
    }
   ],
   "source": [
    "model.evaluate(x_test_gpu, y_test_gpu)"
   ]
  },
  {
   "cell_type": "code",
   "execution_count": null,
   "id": "cf5bd7b7",
   "metadata": {},
   "outputs": [
    {
     "data": {
      "text/plain": [
       "(array(0.00136667), 'cross_entropy: 0.8018 - accuracy: 0.0014')"
      ]
     },
     "execution_count": 12,
     "metadata": {},
     "output_type": "execute_result"
    }
   ],
   "source": [
    "model.evaluate(x_train_gpu, y_train_gpu)"
   ]
  },
  {
   "cell_type": "code",
   "execution_count": null,
   "id": "ddbf6903",
   "metadata": {},
   "outputs": [],
   "source": []
  }
 ],
 "metadata": {
  "kernelspec": {
   "display_name": "Python 3 (ipykernel)",
   "language": "python",
   "name": "python3"
  },
  "language_info": {
   "codemirror_mode": {
    "name": "ipython",
    "version": 3
   },
   "file_extension": ".py",
   "mimetype": "text/x-python",
   "name": "python",
   "nbconvert_exporter": "python",
   "pygments_lexer": "ipython3",
   "version": "3.10.8"
  }
 },
 "nbformat": 4,
 "nbformat_minor": 5
}
