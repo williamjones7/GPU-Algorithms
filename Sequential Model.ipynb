{
 "cells": [
  {
   "cell_type": "code",
   "execution_count": 1,
   "id": "bb619be7",
   "metadata": {},
   "outputs": [],
   "source": [
    "import numpy as np\n",
    "import matplotlib.pyplot as plt\n",
    "\n",
    "# Note: TensorFlow is not needed for PyNetwork to work. It's only used to load the dataset\n",
    "import tensorflow as tf\n",
    "\n",
    "import PyNetwork"
   ]
  },
  {
   "cell_type": "code",
   "execution_count": 2,
   "id": "36a26ebc",
   "metadata": {},
   "outputs": [],
   "source": [
    "(x_train, y_train), (x_test, y_test) = tf.keras.datasets.fashion_mnist.load_data()\n",
    "\n",
    "shape = (28, 28)\n",
    "x_train = x_train.reshape(-1, *shape) / 255\n",
    "x_test = x_test.reshape(-1, *shape) / 255\n",
    "\n",
    "labels = np.eye(10)\n",
    "\n",
    "y_train = labels[y_train.flatten()]\n",
    "y_test = labels[y_test.flatten()]"
   ]
  },
  {
   "cell_type": "markdown",
   "id": "830ab8e1",
   "metadata": {},
   "source": [
    "# Large Learning Rate"
   ]
  },
  {
   "cell_type": "code",
   "execution_count": 5,
   "id": "c93ce699",
   "metadata": {},
   "outputs": [],
   "source": [
    "model = PyNetwork.Sequential()\n",
    "\n",
    "model.add( PyNetwork.layers.Input((28, 28)) )\n",
    "model.add( PyNetwork.layers.Flatten() )\n",
    "model.add( PyNetwork.layers.Dense(100, activation_function='relu', l2=0.01, l1=0.0) )\n",
    "model.add( PyNetwork.layers.BatchNorm() )\n",
    "model.add( PyNetwork.layers.Dense(10, activation_function='softmax', l2=0.0, l1=0.0) )\n",
    "\n",
    "optimizer = PyNetwork.optimizers.RMSprop(learning_rate=0.0005)\n",
    "model.build(loss_function='cross_entropy', optimizer=optimizer, metrics='accuracy')"
   ]
  },
  {
   "cell_type": "code",
   "execution_count": 6,
   "id": "c3c57dfb",
   "metadata": {},
   "outputs": [
    {
     "name": "stdout",
     "output_type": "stream",
     "text": [
      "Training on 60000 samples\n",
      "Epoch 1/10\n",
      "cross_entropy: 1.9130 - accuracy: 0.3438\n",
      "Training on 60000 samples\n",
      "Epoch 2/10\n",
      "cross_entropy: 2.0788 - accuracy: 0.2344\n",
      "Training on 60000 samples\n",
      "Epoch 3/10\n",
      "cross_entropy: 1.8481 - accuracy: 0.3672\n",
      "Training on 60000 samples\n",
      "Epoch 4/10\n",
      "cross_entropy: 1.9526 - accuracy: 0.2500\n",
      "Training on 60000 samples\n",
      "Epoch 5/10\n",
      "cross_entropy: 1.7199 - accuracy: 0.4062\n",
      "Training on 60000 samples\n",
      "Epoch 6/10\n",
      "cross_entropy: 2.1880 - accuracy: 0.1172\n",
      "Training on 60000 samples\n",
      "Epoch 7/10\n",
      "cross_entropy: 1.9158 - accuracy: 0.2031\n",
      "Training on 60000 samples\n",
      "Epoch 8/10\n",
      "cross_entropy: 2.0658 - accuracy: 0.1641\n",
      "Training on 60000 samples\n",
      "Epoch 9/10\n",
      "cross_entropy: 2.1944 - accuracy: 0.1172\n",
      "Training on 60000 samples\n",
      "Epoch 10/10\n",
      "cross_entropy: 2.2708 - accuracy: 0.1328\n",
      "CPU times: user 3min 17s, sys: 12.9 s, total: 3min 30s\n",
      "Wall time: 23.7 s\n"
     ]
    }
   ],
   "source": [
    "%%time\n",
    "model.train(x_train, y_train, epochs=10, batch_size=128, verbose=True)"
   ]
  },
  {
   "cell_type": "code",
   "execution_count": 7,
   "id": "0eeda532",
   "metadata": {},
   "outputs": [
    {
     "data": {
      "text/plain": [
       "'cross_entropy: 2.2318 - accuracy: 0.1356'"
      ]
     },
     "execution_count": 7,
     "metadata": {},
     "output_type": "execute_result"
    }
   ],
   "source": [
    "model.evaluate(x_test, y_test)"
   ]
  },
  {
   "cell_type": "markdown",
   "id": "d1db713b",
   "metadata": {},
   "source": [
    "# Smaller Learning Rate"
   ]
  },
  {
   "cell_type": "code",
   "execution_count": 9,
   "id": "787ff8f4",
   "metadata": {},
   "outputs": [],
   "source": [
    "model = PyNetwork.Sequential()\n",
    "\n",
    "model.add( PyNetwork.layers.Input((28, 28)) )\n",
    "model.add( PyNetwork.layers.Flatten() )\n",
    "model.add( PyNetwork.layers.Dense(100, activation_function='relu', l2=0.01, l1=0.0) )\n",
    "model.add( PyNetwork.layers.BatchNorm() )\n",
    "model.add( PyNetwork.layers.Dense(10, activation_function='softmax', l2=0.0, l1=0.0) )\n",
    "\n",
    "optimizer = PyNetwork.optimizers.RMSprop(learning_rate=0.0001)\n",
    "model.build(loss_function='cross_entropy', optimizer=optimizer, metrics='accuracy')"
   ]
  },
  {
   "cell_type": "code",
   "execution_count": 10,
   "id": "25f05ca1",
   "metadata": {},
   "outputs": [
    {
     "name": "stdout",
     "output_type": "stream",
     "text": [
      "Training on 60000 samples\n",
      "Epoch 1/10\n",
      "cross_entropy: 1.6821 - accuracy: 0.5391\n",
      "Training on 60000 samples\n",
      "Epoch 2/10\n",
      "cross_entropy: 1.3679 - accuracy: 0.6484\n",
      "Training on 60000 samples\n",
      "Epoch 3/10\n",
      "cross_entropy: 1.1780 - accuracy: 0.7266\n",
      "Training on 60000 samples\n",
      "Epoch 4/10\n",
      "cross_entropy: 0.9567 - accuracy: 0.7734\n",
      "Training on 60000 samples\n",
      "Epoch 5/10\n",
      "cross_entropy: 0.8732 - accuracy: 0.7422\n",
      "Training on 60000 samples\n",
      "Epoch 6/10\n",
      "cross_entropy: 0.9316 - accuracy: 0.7266\n",
      "Training on 60000 samples\n",
      "Epoch 7/10\n",
      "cross_entropy: 0.7509 - accuracy: 0.7422\n",
      "Training on 60000 samples\n",
      "Epoch 8/10\n",
      "cross_entropy: 0.7198 - accuracy: 0.7578\n",
      "Training on 60000 samples\n",
      "Epoch 9/10\n",
      "cross_entropy: 0.5410 - accuracy: 0.8125\n",
      "Training on 60000 samples\n",
      "Epoch 10/10\n",
      "cross_entropy: 0.5575 - accuracy: 0.8281\n",
      "CPU times: user 2min 55s, sys: 9.12 s, total: 3min 5s\n",
      "Wall time: 20.7 s\n"
     ]
    }
   ],
   "source": [
    "%%time\n",
    "model.train(x_train, y_train, epochs=10, batch_size=128, verbose=True)"
   ]
  },
  {
   "cell_type": "code",
   "execution_count": 11,
   "id": "355a3623",
   "metadata": {},
   "outputs": [
    {
     "data": {
      "text/plain": [
       "'cross_entropy: 0.6207 - accuracy: 0.8025'"
      ]
     },
     "execution_count": 11,
     "metadata": {},
     "output_type": "execute_result"
    }
   ],
   "source": [
    "model.evaluate(x_test, y_test)"
   ]
  }
 ],
 "metadata": {
  "kernelspec": {
   "display_name": "Python 3 (ipykernel)",
   "language": "python",
   "name": "python3"
  },
  "language_info": {
   "codemirror_mode": {
    "name": "ipython",
    "version": 3
   },
   "file_extension": ".py",
   "mimetype": "text/x-python",
   "name": "python",
   "nbconvert_exporter": "python",
   "pygments_lexer": "ipython3",
   "version": "3.10.6"
  }
 },
 "nbformat": 4,
 "nbformat_minor": 5
}
