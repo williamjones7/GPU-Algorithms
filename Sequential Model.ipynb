{
 "cells": [
  {
   "cell_type": "code",
   "execution_count": 1,
   "id": "bb619be7",
   "metadata": {},
   "outputs": [],
   "source": [
    "import numpy as np\n",
    "import matplotlib.pyplot as plt\n",
    "\n",
    "import tensorflow as tf\n",
    "\n",
    "import PyNetwork\n",
    "import pyopencl as cl\n",
    "import pyopencl.array as cl_array"
   ]
  },
  {
   "cell_type": "code",
   "execution_count": 2,
   "id": "49ff22ba",
   "metadata": {},
   "outputs": [],
   "source": [
    "platform = cl.get_platforms()\n",
    "devices = platform[0].get_devices()\n",
    "context = cl.Context(devices)\n",
    "queue = cl.CommandQueue(context)"
   ]
  },
  {
   "cell_type": "code",
   "execution_count": 3,
   "id": "36a26ebc",
   "metadata": {},
   "outputs": [],
   "source": [
    "(x_train, y_train), (x_test, y_test) = tf.keras.datasets.fashion_mnist.load_data()\n",
    "\n",
    "shape = (28, 28)\n",
    "x_train = x_train.reshape(-1, *shape).astype(np.float32) / 255\n",
    "x_test = x_test.reshape(-1, *shape).astype(np.float32) / 255\n",
    "\n",
    "labels = np.eye(10)\n",
    "\n",
    "y_train = labels[y_train.flatten()].astype(np.float32)\n",
    "y_test = labels[y_test.flatten()].astype(np.float32)\n",
    "\n",
    "# Transform x_train and y_train into C-contiguous\n",
    "x_train = np.ascontiguousarray(x_train)\n",
    "y_train = np.ascontiguousarray(y_train)\n",
    "x_test = np.ascontiguousarray(x_test)\n",
    "y_test = np.ascontiguousarray(y_test)\n",
    "\n",
    "# Send data to device\n",
    "x_train_gpu = cl_array.to_device(queue, x_train)\n",
    "y_train_gpu = cl_array.to_device(queue, y_train)\n",
    "x_test_gpu = cl_array.to_device(queue, x_test)\n",
    "y_test_gpu = cl_array.to_device(queue, y_test)"
   ]
  },
  {
   "cell_type": "markdown",
   "id": "830ab8e1",
   "metadata": {},
   "source": [
    "# Large Learning Rate"
   ]
  },
  {
   "cell_type": "code",
   "execution_count": 4,
   "id": "c93ce699",
   "metadata": {},
   "outputs": [],
   "source": [
    "model = PyNetwork.Sequential()\n",
    "\n",
    "model.add(PyNetwork.layers.Input((28, 28)))\n",
    "model.add(PyNetwork.layers.Flatten())\n",
    "model.add(PyNetwork.layers.Dense(100, activation_function='relu', l2=0.00, l1=0.0))\n",
    "# model.add(PyNetwork.layers.BatchNorm())\n",
    "model.add(PyNetwork.layers.Dense(10, activation_function='softmax', l2=0.0, l1=0.0))\n",
    "\n",
    "optimizer = PyNetwork.optimizers.RMSprop(learning_rate=0.0005)\n",
    "model.build(context, queue, loss_function='cross_entropy', optimizer=optimizer, metrics='accuracy')"
   ]
  },
  {
   "cell_type": "code",
   "execution_count": 5,
   "id": "b7804f39",
   "metadata": {},
   "outputs": [
    {
     "name": "stdout",
     "output_type": "stream",
     "text": [
      "Input           :    Input Shape  (None, 28, 28)\n",
      "Flatten         :    Output Shape (None, 784)\n",
      "Dense (100,)    :    Output Shape (None, 100)\n",
      "Dense (10,)     :    Output Shape (None, 10)\n"
     ]
    }
   ],
   "source": [
    "model.summary()"
   ]
  },
  {
   "cell_type": "code",
   "execution_count": 6,
   "id": "c3c57dfb",
   "metadata": {},
   "outputs": [
    {
     "name": "stdout",
     "output_type": "stream",
     "text": [
      "Training on 60000 samples\n",
      "Epoch 1/1\n",
      "cross_entropy: 0.5751 - accuracy: 0.8359\n",
      "CPU times: total: 11.8 s\n",
      "Wall time: 15.6 s\n"
     ]
    }
   ],
   "source": [
    "%%time\n",
    "model.train(x_train_gpu, y_train_gpu, epochs=1, batch_size=128, verbose=True)"
   ]
  },
  {
   "cell_type": "code",
   "execution_count": 7,
   "id": "0eeda532",
   "metadata": {},
   "outputs": [
    {
     "data": {
      "text/plain": [
       "(array(0.8216), 'cross_entropy: 0.5048 - accuracy: 0.8216')"
      ]
     },
     "execution_count": 7,
     "metadata": {},
     "output_type": "execute_result"
    }
   ],
   "source": [
    "model.evaluate(x_test_gpu, y_test_gpu)"
   ]
  },
  {
   "cell_type": "markdown",
   "id": "d1db713b",
   "metadata": {},
   "source": [
    "# Smaller Learning Rate"
   ]
  },
  {
   "cell_type": "code",
   "execution_count": 8,
   "id": "787ff8f4",
   "metadata": {},
   "outputs": [],
   "source": [
    "model = PyNetwork.Sequential()\n",
    "\n",
    "model.add(PyNetwork.layers.Input((28, 28)))\n",
    "model.add(PyNetwork.layers.Flatten())\n",
    "model.add(PyNetwork.layers.Dense(100, activation_function='relu', l2=0.01, l1=0.0))\n",
    "# model.add(PyNetwork.layers.BatchNorm())\n",
    "model.add(PyNetwork.layers.Dense(10, activation_function='relu', l2=0.0, l1=0.0))\n",
    "\n",
    "optimizer = PyNetwork.optimizers.RMSprop(learning_rate=0.0001)\n",
    "model.build(context, queue, loss_function='cross_entropy', optimizer=optimizer, metrics='accuracy')"
   ]
  },
  {
   "cell_type": "code",
   "execution_count": 9,
   "id": "25f05ca1",
   "metadata": {},
   "outputs": [
    {
     "name": "stdout",
     "output_type": "stream",
     "text": [
      "Training on 60000 samples\n",
      "Epoch 1/10\n",
      "cross_entropy: 1.2577 - accuracy: 0.6875\n",
      "Training on 60000 samples\n",
      "Epoch 2/10\n",
      "cross_entropy: 0.8182 - accuracy: 0.7500\n",
      "Training on 60000 samples\n",
      "Epoch 3/10\n",
      "cross_entropy: 1.1802 - accuracy: 0.7812\n",
      "Training on 60000 samples\n",
      "Epoch 4/10\n",
      "cross_entropy: 0.7374 - accuracy: 0.7734\n",
      "Training on 60000 samples\n",
      "Epoch 5/10\n",
      "cross_entropy: 0.7173 - accuracy: 0.8125\n",
      "Training on 60000 samples\n",
      "Epoch 6/10\n",
      "cross_entropy: 0.9659 - accuracy: 0.7969\n",
      "Training on 60000 samples\n",
      "Epoch 7/10\n",
      "cross_entropy: 0.9598 - accuracy: 0.8047\n",
      "Training on 60000 samples\n",
      "Epoch 8/10\n",
      "cross_entropy: 1.0757 - accuracy: 0.7266\n",
      "Training on 60000 samples\n",
      "Epoch 9/10\n",
      "cross_entropy: 0.8088 - accuracy: 0.7500\n",
      "Training on 60000 samples\n",
      "Epoch 10/10\n",
      "cross_entropy: 0.6333 - accuracy: 0.8125\n",
      "CPU times: total: 2min\n",
      "Wall time: 3min 14s\n"
     ]
    }
   ],
   "source": [
    "%%time\n",
    "model.train(x_train_gpu, y_train_gpu, epochs=10, batch_size=128, verbose=True)"
   ]
  },
  {
   "cell_type": "code",
   "execution_count": 10,
   "id": "355a3623",
   "metadata": {},
   "outputs": [
    {
     "data": {
      "text/plain": [
       "(array(0.7807), 'cross_entropy: 0.8212 - accuracy: 0.7807')"
      ]
     },
     "execution_count": 10,
     "metadata": {},
     "output_type": "execute_result"
    }
   ],
   "source": [
    "model.evaluate(x_test_gpu, y_test_gpu)"
   ]
  },
  {
   "cell_type": "code",
   "execution_count": 11,
   "id": "cf5bd7b7",
   "metadata": {},
   "outputs": [
    {
     "data": {
      "text/plain": [
       "(array(0.7905), 'cross_entropy: 0.7890 - accuracy: 0.7905')"
      ]
     },
     "execution_count": 11,
     "metadata": {},
     "output_type": "execute_result"
    }
   ],
   "source": [
    "model.evaluate(x_train_gpu, y_train_gpu)"
   ]
  },
  {
   "cell_type": "code",
   "execution_count": null,
   "id": "ddbf6903",
   "metadata": {},
   "outputs": [],
   "source": []
  }
 ],
 "metadata": {
  "kernelspec": {
   "display_name": "Python 3 (ipykernel)",
   "language": "python",
   "name": "python3"
  },
  "language_info": {
   "codemirror_mode": {
    "name": "ipython",
    "version": 3
   },
   "file_extension": ".py",
   "mimetype": "text/x-python",
   "name": "python",
   "nbconvert_exporter": "python",
   "pygments_lexer": "ipython3",
   "version": "3.10.8"
  }
 },
 "nbformat": 4,
 "nbformat_minor": 5
}
